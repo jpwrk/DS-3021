{
 "cells": [
  {
   "cell_type": "markdown",
   "metadata": {},
   "source": [
    "# Decision Trees"
   ]
  },
  {
   "cell_type": "markdown",
   "metadata": {},
   "source": []
  },
  {
   "cell_type": "code",
   "execution_count": 27,
   "metadata": {},
   "outputs": [],
   "source": [
    "#Imports\n",
    "import pandas as pd\n",
    "import numpy as np\n",
    "import matplotlib.pyplot as plt\n",
    "import graphviz \n",
    "\n",
    "from sklearn.model_selection import train_test_split,GridSearchCV,RepeatedStratifiedKFold\n",
    "from sklearn import metrics\n",
    "from sklearn.metrics import ConfusionMatrixDisplay\n",
    "from sklearn.preprocessing import OrdinalEncoder\n",
    "from sklearn.tree import DecisionTreeClassifier, export_graphviz \n",
    "from sklearn.tree import plot_tree "
   ]
  },
  {
   "cell_type": "markdown",
   "metadata": {},
   "source": [
    "### CART Example using Sklearn: Use a new Dataset, complete preprocessing, use three data\n",
    "### partitions: Training, Tuning and Testing, and build a model!"
   ]
  },
  {
   "cell_type": "code",
   "execution_count": 28,
   "metadata": {},
   "outputs": [],
   "source": [
    "#Read in the data from the github repo, you should also have this saved locally...\n",
    "winequality = pd.read_csv(\"https://raw.githubusercontent.com/UVADS/DS-3001/main/data/winequality-red-ddl.csv\")"
   ]
  },
  {
   "cell_type": "code",
   "execution_count": 29,
   "metadata": {},
   "outputs": [
    {
     "name": "stdout",
     "output_type": "stream",
     "text": [
      "<class 'pandas.core.frame.DataFrame'>\n",
      "RangeIndex: 1599 entries, 0 to 1598\n",
      "Data columns (total 13 columns):\n",
      " #   Column                Non-Null Count  Dtype  \n",
      "---  ------                --------------  -----  \n",
      " 0   fixed acidity         1599 non-null   float64\n",
      " 1   volatile acidity      1575 non-null   float64\n",
      " 2   citric acid           1595 non-null   float64\n",
      " 3   residual sugar        1586 non-null   float64\n",
      " 4   chlorides             1587 non-null   float64\n",
      " 5   free sulfur dioxide   1583 non-null   float64\n",
      " 6   total sulfur dioxide  1574 non-null   float64\n",
      " 7   density               1579 non-null   float64\n",
      " 8   pH                    1597 non-null   float64\n",
      " 9   sulphates             1591 non-null   float64\n",
      " 10  alcohol               1589 non-null   float64\n",
      " 11  quality               1581 non-null   float64\n",
      " 12  text_rank             1581 non-null   object \n",
      "dtypes: float64(12), object(1)\n",
      "memory usage: 162.5+ KB\n",
      "None\n",
      "   fixed acidity  volatile acidity  citric acid  residual sugar  chlorides  \\\n",
      "0           11.6             0.580         0.66            2.20      0.074   \n",
      "1           10.4             0.610         0.49            2.10      0.200   \n",
      "2            7.4             1.185         0.00            4.25      0.097   \n",
      "3           10.4             0.440         0.42            1.50      0.145   \n",
      "4            8.3             1.020         0.02            3.40      0.084   \n",
      "\n",
      "   free sulfur dioxide  total sulfur dioxide  density    pH  sulphates  \\\n",
      "0                 10.0                  47.0  1.00080  3.25       0.57   \n",
      "1                  5.0                  16.0  0.99940  3.16       0.63   \n",
      "2                  5.0                  14.0  0.99660  3.63       0.54   \n",
      "3                 34.0                  48.0  0.99832  3.38       0.86   \n",
      "4                  6.0                  11.0  0.99892  3.48       0.49   \n",
      "\n",
      "   alcohol  quality text_rank  \n",
      "0      9.0      3.0      poor  \n",
      "1      8.4      3.0      poor  \n",
      "2     10.7      3.0      poor  \n",
      "3      9.9      3.0      poor  \n",
      "4     11.0      3.0      poor  \n"
     ]
    }
   ],
   "source": [
    "#Let's take a look...\n",
    "print(winequality.info())\n",
    "print(winequality.head())"
   ]
  },
  {
   "cell_type": "code",
   "execution_count": 30,
   "metadata": {},
   "outputs": [
    {
     "name": "stdout",
     "output_type": "stream",
     "text": [
      "text_rank\n",
      "ave            678\n",
      "average-ish    630\n",
      "good           193\n",
      "poor-ish        53\n",
      "excellent       17\n",
      "poor            10\n",
      "Name: count, dtype: int64\n"
     ]
    }
   ],
   "source": [
    "#This will be our target variable\n",
    "print(winequality.text_rank.value_counts())"
   ]
  },
  {
   "cell_type": "markdown",
   "metadata": {},
   "source": [
    "## Preprocessing"
   ]
  },
  {
   "cell_type": "code",
   "execution_count": 31,
   "metadata": {},
   "outputs": [],
   "source": [
    "#drop quality column since it predicts text_rank perfectly\n",
    "winequality= winequality.drop(columns='quality')"
   ]
  },
  {
   "cell_type": "markdown",
   "metadata": {},
   "source": [
    "## Missing Data "
   ]
  },
  {
   "cell_type": "code",
   "execution_count": 32,
   "metadata": {},
   "outputs": [
    {
     "name": "stdout",
     "output_type": "stream",
     "text": [
      "fixed acidity            0\n",
      "volatile acidity        24\n",
      "citric acid              4\n",
      "residual sugar          13\n",
      "chlorides               12\n",
      "free sulfur dioxide     16\n",
      "total sulfur dioxide    25\n",
      "density                 20\n",
      "pH                       2\n",
      "sulphates                8\n",
      "alcohol                 10\n",
      "text_rank               18\n",
      "dtype: int64\n"
     ]
    }
   ],
   "source": [
    "#Let's see if we have any NA's\n",
    "print(winequality.isna().sum()) #show location of NA's by variable"
   ]
  },
  {
   "cell_type": "code",
   "execution_count": 33,
   "metadata": {},
   "outputs": [],
   "source": [
    "#Let's just drop them\n",
    "winequality= winequality.dropna()"
   ]
  },
  {
   "cell_type": "code",
   "execution_count": 34,
   "metadata": {},
   "outputs": [
    {
     "name": "stdout",
     "output_type": "stream",
     "text": [
      "<class 'pandas.core.frame.DataFrame'>\n",
      "Index: 1482 entries, 0 to 1580\n",
      "Data columns (total 12 columns):\n",
      " #   Column                Non-Null Count  Dtype  \n",
      "---  ------                --------------  -----  \n",
      " 0   fixed acidity         1482 non-null   float64\n",
      " 1   volatile acidity      1482 non-null   float64\n",
      " 2   citric acid           1482 non-null   float64\n",
      " 3   residual sugar        1482 non-null   float64\n",
      " 4   chlorides             1482 non-null   float64\n",
      " 5   free sulfur dioxide   1482 non-null   float64\n",
      " 6   total sulfur dioxide  1482 non-null   float64\n",
      " 7   density               1482 non-null   float64\n",
      " 8   pH                    1482 non-null   float64\n",
      " 9   sulphates             1482 non-null   float64\n",
      " 10  alcohol               1482 non-null   float64\n",
      " 11  text_rank             1482 non-null   object \n",
      "dtypes: float64(11), object(1)\n",
      "memory usage: 150.5+ KB\n",
      "None\n"
     ]
    }
   ],
   "source": [
    "print(winequality.info()) #Lost some rows, but should be fine with this size dataset"
   ]
  },
  {
   "cell_type": "markdown",
   "metadata": {},
   "source": [
    "## Collapsing the target"
   ]
  },
  {
   "cell_type": "code",
   "execution_count": 35,
   "metadata": {},
   "outputs": [
    {
     "data": {
      "text/plain": [
       "text_rank\n",
       "ave            635\n",
       "average-ish    583\n",
       "good           186\n",
       "poor-ish        51\n",
       "excellent       17\n",
       "poor            10\n",
       "Name: count, dtype: int64"
      ]
     },
     "execution_count": 35,
     "metadata": {},
     "output_type": "execute_result"
    }
   ],
   "source": [
    "#Let's collapse text_rank now into only two classes\n",
    "winequality.text_rank.value_counts() #What should we combine?"
   ]
  },
  {
   "cell_type": "code",
   "execution_count": 36,
   "metadata": {},
   "outputs": [
    {
     "name": "stdout",
     "output_type": "stream",
     "text": [
      "text_rank\n",
      "ave          1279\n",
      "excellent     203\n",
      "Name: count, dtype: int64\n"
     ]
    }
   ],
   "source": [
    "#Condense everything into either average or excellent\n",
    "winequality[\"text_rank\"]= winequality[\"text_rank\"].replace(['good','average-ish','poor-ish','poor'], ['excellent','ave','ave','ave'])\n",
    "print(winequality[\"text_rank\"].value_counts()) #Great!"
   ]
  },
  {
   "cell_type": "code",
   "execution_count": 37,
   "metadata": {},
   "outputs": [
    {
     "name": "stdout",
     "output_type": "stream",
     "text": [
      "0.1369770580296896\n"
     ]
    }
   ],
   "source": [
    "#check the prevalence\n",
    "print(203/(1279+203))"
   ]
  },
  {
   "cell_type": "code",
   "execution_count": 38,
   "metadata": {},
   "outputs": [
    {
     "name": "stdout",
     "output_type": "stream",
     "text": [
      "text_rank\n",
      "0.0    1279\n",
      "1.0     203\n",
      "Name: count, dtype: int64\n"
     ]
    }
   ],
   "source": [
    "#Before we move forward, we have one more preprocessing step\n",
    "#We must encode text_rank to become a integer array variable as that is the only type sklearn decision trees can currently take\n",
    "winequality[[\"text_rank\"]] = OrdinalEncoder().fit_transform(winequality[[\"text_rank\"]])\n",
    "print(winequality[\"text_rank\"].value_counts()) #nice"
   ]
  },
  {
   "cell_type": "markdown",
   "metadata": {},
   "source": [
    "## Splitting the Data"
   ]
  },
  {
   "cell_type": "code",
   "execution_count": 39,
   "metadata": {},
   "outputs": [],
   "source": [
    "#split independent and dependent variables \n",
    "X= winequality.drop(columns='text_rank')\n",
    "y= winequality.text_rank"
   ]
  },
  {
   "cell_type": "code",
   "execution_count": 40,
   "metadata": {},
   "outputs": [],
   "source": [
    "#There is not a easy way to create 3 partitions using the train_test_split\n",
    "#so we are going to use it twice. Mostly because we want to stratify on the variable we are working to predict. What does that mean?  \n",
    "\n",
    "#what should I stratify by??? Our Target!\n",
    "X_train, X_test, y_train, y_test = train_test_split(X, y, train_size=0.70, stratify= y, random_state=21)\n",
    "X_tune, X_test, y_tune, y_test = train_test_split(X_test,y_test,  train_size = 0.50,stratify= y_test, random_state=49)\n"
   ]
  },
  {
   "cell_type": "markdown",
   "metadata": {},
   "source": [
    "## Let's Build the Model "
   ]
  },
  {
   "cell_type": "code",
   "execution_count": 41,
   "metadata": {},
   "outputs": [],
   "source": [
    "#Three steps in building a ML model\n",
    "#Step 1: Cross validation process- the process by which the training data will be used to build the initial model must be set. As seen below:\n",
    "\n",
    "kf = RepeatedStratifiedKFold(n_splits=10,n_repeats =5, random_state=42)\n",
    "# number - number of folds\n",
    "# repeats - number of times the CV is repeated, takes the average of these repeat rounds\n",
    "\n",
    "# This essentially will split our training data into k groups. For each unique group it will hold out one as a test set\n",
    "# and take the remaining groups as a training set. Then, it fits a model on the training set and evaluates it on the test set.\n",
    "# Retains the evaluation score and discards the model, then summarizes the skill of the model using the sample of model evaluation scores we choose"
   ]
  },
  {
   "cell_type": "code",
   "execution_count": 42,
   "metadata": {},
   "outputs": [
    {
     "ename": "AttributeError",
     "evalue": "module 'sklearn.metrics' has no attribute 'SCORERS'",
     "output_type": "error",
     "traceback": [
      "\u001b[0;31m---------------------------------------------------------------------------\u001b[0m",
      "\u001b[0;31mAttributeError\u001b[0m                            Traceback (most recent call last)",
      "Cell \u001b[0;32mIn[42], line 5\u001b[0m\n\u001b[1;32m      1\u001b[0m \u001b[38;5;66;03m#What score do we want our model to be built on? Let's use:\u001b[39;00m\n\u001b[1;32m      2\u001b[0m \u001b[38;5;66;03m#AUC for the ROC curve - remember this is measures how well our model distiguishes between classes\u001b[39;00m\n\u001b[1;32m      3\u001b[0m \u001b[38;5;66;03m#Recall - this is sensitivity of our model, also known as the true positive rate (predicted pos when actually pos)\u001b[39;00m\n\u001b[1;32m      4\u001b[0m \u001b[38;5;66;03m#Balanced accuracy - this is the (sensitivity + specificity)/2, or we can just say it is the number of correctly predicted data points\u001b[39;00m\n\u001b[0;32m----> 5\u001b[0m \u001b[38;5;28mprint\u001b[39m(\u001b[43mmetrics\u001b[49m\u001b[38;5;241;43m.\u001b[39;49m\u001b[43mSCORERS\u001b[49m\u001b[38;5;241m.\u001b[39mkeys()) \u001b[38;5;66;03m#find them\u001b[39;00m\n",
      "\u001b[0;31mAttributeError\u001b[0m: module 'sklearn.metrics' has no attribute 'SCORERS'"
     ]
    }
   ],
   "source": [
    "#What score do we want our model to be built on? Let's use:\n",
    "#AUC for the ROC curve - remember this is measures how well our model distiguishes between classes\n",
    "#Recall - this is sensitivity of our model, also known as the true positive rate (predicted pos when actually pos)\n",
    "#Balanced accuracy - this is the (sensitivity + specificity)/2, or we can just say it is the number of correctly predicted data points\n",
    "print(metrics.SCORERS.keys()) #find them"
   ]
  },
  {
   "cell_type": "code",
   "execution_count": null,
   "metadata": {},
   "outputs": [],
   "source": [
    "#Define score, these are the keys we located above. This is what the models will be scored by\n",
    "scoring = ['roc_auc','recall','balanced_accuracy']"
   ]
  },
  {
   "cell_type": "code",
   "execution_count": null,
   "metadata": {},
   "outputs": [],
   "source": [
    "#Step 2: Usually involves setting a hyper-parameter search. This is optional and the hyper-parameters vary by model. \n",
    "#define parameters, we can use any number of the ones below but let's start with only max depth\n",
    "#this will help us find a good balance between under fitting and over fitting in our model\n",
    "\n",
    "param={\"max_depth\" : [1,2,3,4,5,6,7,8,9,10,11],\n",
    "        #\"splitter\":[\"best\",\"random\"],\n",
    "        #\"min_samples_split\":[5,10,15,20,25],\n",
    "        #\"min_samples_leaf\":[5,10,15,20,25],\n",
    "        #\"min_weight_fraction_leaf\":[0,0.1,0.2,0.3,0.4,0.5,0.6,0.7,0.8,0.9],\n",
    "        #\"max_features\":[\"auto\",\"log2\",\"sqrt\",None],\n",
    "        #\"max_leaf_nodes\":[10,20,30,40,50],\n",
    "        #'min_impurity_decrease':[0.00005,0.0001,0.0002,0.0005,0.001,0.0015,0.002,0.005,0.01],\n",
    "        #'ccp_alpha' :[.001, .01, .1]\n",
    "           }"
   ]
  },
  {
   "cell_type": "code",
   "execution_count": null,
   "metadata": {},
   "outputs": [
    {
     "name": "stdout",
     "output_type": "stream",
     "text": [
      "Fitting 50 folds for each of 11 candidates, totalling 550 fits\n"
     ]
    },
    {
     "name": "stdout",
     "output_type": "stream",
     "text": [
      "[CV 1/50] END max_depth=1; balanced_accuracy: (test=0.500) recall: (test=0.000) roc_auc: (test=0.747) total time=   0.0s\n",
      "[CV 3/50] END max_depth=1; balanced_accuracy: (test=0.500) recall: (test=0.000) roc_auc: (test=0.837) total time=   0.0s\n",
      "[CV 6/50] END max_depth=1; balanced_accuracy: (test=0.560) recall: (test=0.267) roc_auc: (test=0.560) total time=   0.0s\n",
      "[CV 13/50] END max_depth=1; balanced_accuracy: (test=0.500) recall: (test=0.000) roc_auc: (test=0.670) total time=   0.0s\n",
      "[CV 10/50] END max_depth=1; balanced_accuracy: (test=0.500) recall: (test=0.000) roc_auc: (test=0.818) total time=   0.0s\n",
      "[CV 14/50] END max_depth=1; balanced_accuracy: (test=0.500) recall: (test=0.000) roc_auc: (test=0.783) total time=   0.0s\n",
      "[CV 16/50] END max_depth=1; balanced_accuracy: (test=0.500) recall: (test=0.000) roc_auc: (test=0.610) total time=   0.0s\n",
      "[CV 15/50] END max_depth=1; balanced_accuracy: (test=0.500) recall: (test=0.000) roc_auc: (test=0.799) total time=   0.0s\n",
      "[CV 2/50] END max_depth=1; balanced_accuracy: (test=0.500) recall: (test=0.000) roc_auc: (test=0.692) total time=   0.0s\n",
      "[CV 12/50] END max_depth=1; balanced_accuracy: (test=0.500) recall: (test=0.000) roc_auc: (test=0.692) total time=   0.0s\n",
      "[CV 17/50] END max_depth=1; balanced_accuracy: (test=0.500) recall: (test=0.000) roc_auc: (test=0.716) total time=   0.0s\n",
      "[CV 18/50] END max_depth=1; balanced_accuracy: (test=0.500) recall: (test=0.000) roc_auc: (test=0.730) total time=   0.0s\n",
      "[CV 19/50] END max_depth=1; balanced_accuracy: (test=0.500) recall: (test=0.000) roc_auc: (test=0.622) total time=   0.0s\n",
      "[CV 20/50] END max_depth=1; balanced_accuracy: (test=0.500) recall: (test=0.000) roc_auc: (test=0.701) total time=   0.0s\n",
      "[CV 21/50] END max_depth=1; balanced_accuracy: (test=0.500) recall: (test=0.000) roc_auc: (test=0.681) total time=   0.0s\n",
      "[CV 5/50] END max_depth=1; balanced_accuracy: (test=0.500) recall: (test=0.000) roc_auc: (test=0.659) total time=   0.0s\n",
      "[CV 22/50] END max_depth=1; balanced_accuracy: (test=0.500) recall: (test=0.000) roc_auc: (test=0.667) total time=   0.0s\n",
      "[CV 23/50] END max_depth=1; balanced_accuracy: (test=0.500) recall: (test=0.000) roc_auc: (test=0.706) total time=   0.0s\n",
      "[CV 24/50] END max_depth=1; balanced_accuracy: (test=0.500) recall: (test=0.000) roc_auc: (test=0.549) total time=   0.0s\n",
      "[CV 25/50] END max_depth=1; balanced_accuracy: (test=0.500) recall: (test=0.000) roc_auc: (test=0.623) total time=   0.0s\n",
      "[CV 4/50] END max_depth=1; balanced_accuracy: (test=0.500) recall: (test=0.000) roc_auc: (test=0.741) total time=   0.0s\n",
      "[CV 26/50] END max_depth=1; balanced_accuracy: (test=0.500) recall: (test=0.000) roc_auc: (test=0.783) total time=   0.0s\n",
      "[CV 27/50] END max_depth=1; balanced_accuracy: (test=0.500) recall: (test=0.000) roc_auc: (test=0.788) total time=   0.0s\n",
      "[CV 29/50] END max_depth=1; balanced_accuracy: (test=0.500) recall: (test=0.000) roc_auc: (test=0.771) total time=   0.0s\n",
      "[CV 28/50] END max_depth=1; balanced_accuracy: (test=0.500) recall: (test=0.000) roc_auc: (test=0.658) total time=   0.1s\n",
      "[CV 31/50] END max_depth=1; balanced_accuracy: (test=0.500) recall: (test=0.000) roc_auc: (test=0.700) total time=   0.0s\n",
      "[CV 30/50] END max_depth=1; balanced_accuracy: (test=0.500) recall: (test=0.000) roc_auc: (test=0.799) total time=   0.0s\n",
      "[CV 32/50] END max_depth=1; balanced_accuracy: (test=0.500) recall: (test=0.000) roc_auc: (test=0.848) total time=   0.0s\n",
      "[CV 35/50] END max_depth=1; balanced_accuracy: (test=0.500) recall: (test=0.000) roc_auc: (test=0.829) total time=   0.0s\n",
      "[CV 34/50] END max_depth=1; balanced_accuracy: (test=0.500) recall: (test=0.000) roc_auc: (test=0.747) total time=   0.0s\n",
      "[CV 36/50] END max_depth=1; balanced_accuracy: (test=0.500) recall: (test=0.000) roc_auc: (test=0.694) total time=   0.0s\n",
      "[CV 33/50] END max_depth=1; balanced_accuracy: (test=0.500) recall: (test=0.000) roc_auc: (test=0.700) total time=   0.1s\n",
      "[CV 37/50] END max_depth=1; balanced_accuracy: (test=0.500) recall: (test=0.000) roc_auc: (test=0.638) total time=   0.0s\n",
      "[CV 38/50] END max_depth=1; balanced_accuracy: (test=0.500) recall: (test=0.000) roc_auc: (test=0.622) total time=   0.0s\n",
      "[CV 40/50] END max_depth=1; balanced_accuracy: (test=0.500) recall: (test=0.000) roc_auc: (test=0.735) total time=   0.0s[CV 41/50] END max_depth=1; balanced_accuracy: (test=0.500) recall: (test=0.000) roc_auc: (test=0.645) total time=   0.0s\n",
      "[CV 39/50] END max_depth=1; balanced_accuracy: (test=0.500) recall: (test=0.000) roc_auc: (test=0.669) total time=   0.0s\n",
      "\n",
      "[CV 42/50] END max_depth=1; balanced_accuracy: (test=0.500) recall: (test=0.000) roc_auc: (test=0.783) total time=   0.0s\n",
      "[CV 43/50] END max_depth=1; balanced_accuracy: (test=0.500) recall: (test=0.000) roc_auc: (test=0.713) total time=   0.0s\n",
      "[CV 45/50] END max_depth=1; balanced_accuracy: (test=0.500) recall: (test=0.000) roc_auc: (test=0.717) total time=   0.0s\n",
      "[CV 44/50] END max_depth=1; balanced_accuracy: (test=0.500) recall: (test=0.000) roc_auc: (test=0.700) total time=   0.0s\n",
      "[CV 46/50] END max_depth=1; balanced_accuracy: (test=0.500) recall: (test=0.000) roc_auc: (test=0.749) total time=   0.0s\n",
      "[CV 48/50] END max_depth=1; balanced_accuracy: (test=0.500) recall: (test=0.000) roc_auc: (test=0.699) total time=   0.0s\n",
      "[CV 47/50] END max_depth=1; balanced_accuracy: (test=0.500) recall: (test=0.000) roc_auc: (test=0.738) total time=   0.0s\n",
      "[CV 50/50] END max_depth=1; balanced_accuracy: (test=0.500) recall: (test=0.000) roc_auc: (test=0.681) total time=   0.0s\n",
      "[CV 49/50] END max_depth=1; balanced_accuracy: (test=0.500) recall: (test=0.000) roc_auc: (test=0.746) total time=   0.0s\n",
      "[CV 1/50] END max_depth=2; balanced_accuracy: (test=0.733) recall: (test=0.500) roc_auc: (test=0.887) total time=   0.0s[CV 2/50] END max_depth=2; balanced_accuracy: (test=0.662) recall: (test=0.357) roc_auc: (test=0.831) total time=   0.0s\n",
      "\n",
      "[CV 8/50] END max_depth=1; balanced_accuracy: (test=0.500) recall: (test=0.000) roc_auc: (test=0.658) total time=   0.0s\n",
      "[CV 4/50] END max_depth=2; balanced_accuracy: (test=0.651) recall: (test=0.357) roc_auc: (test=0.819) total time=   0.0s\n",
      "[CV 3/50] END max_depth=2; balanced_accuracy: (test=0.835) recall: (test=0.714) roc_auc: (test=0.908) total time=   0.0s\n",
      "[CV 9/50] END max_depth=1; balanced_accuracy: (test=0.500) recall: (test=0.000) roc_auc: (test=0.788) total time=   0.0s\n",
      "[CV 5/50] END max_depth=2; balanced_accuracy: (test=0.640) recall: (test=0.357) roc_auc: (test=0.744) total time=   0.0s\n",
      "[CV 6/50] END max_depth=2; balanced_accuracy: (test=0.572) recall: (test=0.200) roc_auc: (test=0.664) total time=   0.0s\n",
      "[CV 7/50] END max_depth=2; balanced_accuracy: (test=0.716) recall: (test=0.467) roc_auc: (test=0.723) total time=   0.0s\n",
      "[CV 7/50] END max_depth=1; balanced_accuracy: (test=0.500) recall: (test=0.000) roc_auc: (test=0.688) total time=   0.0s\n",
      "[CV 8/50] END max_depth=2; balanced_accuracy: (test=0.579) recall: (test=0.214) roc_auc: (test=0.783) total time=   0.0s\n",
      "[CV 9/50] END max_depth=2; balanced_accuracy: (test=0.733) recall: (test=0.500) roc_auc: (test=0.836) total time=   0.0s\n",
      "[CV 10/50] END max_depth=2; balanced_accuracy: (test=0.821) recall: (test=0.643) roc_auc: (test=0.846) total time=   0.0s\n",
      "[CV 11/50] END max_depth=2; balanced_accuracy: (test=0.739) recall: (test=0.500) roc_auc: (test=0.912) total time=   0.0s\n",
      "[CV 13/50] END max_depth=2; balanced_accuracy: (test=0.645) recall: (test=0.357) roc_auc: (test=0.737) total time=   0.0s\n",
      "[CV 15/50] END max_depth=2; balanced_accuracy: (test=0.769) recall: (test=0.571) roc_auc: (test=0.874) total time=   0.0s\n",
      "[CV 17/50] END max_depth=2; balanced_accuracy: (test=0.683) recall: (test=0.400) roc_auc: (test=0.761) total time=   0.0s\n",
      "[CV 11/50] END max_depth=1; balanced_accuracy: (test=0.500) recall: (test=0.000) roc_auc: (test=0.860) total time=   0.0s\n",
      "[CV 19/50] END max_depth=2; balanced_accuracy: (test=0.656) recall: (test=0.357) roc_auc: (test=0.682) total time=   0.0s\n",
      "[CV 23/50] END max_depth=2; balanced_accuracy: (test=0.692) recall: (test=0.429) roc_auc: (test=0.805) total time=   0.0s\n",
      "[CV 12/50] END max_depth=2; balanced_accuracy: (test=0.662) recall: (test=0.357) roc_auc: (test=0.761) total time=   0.0s\n",
      "[CV 21/50] END max_depth=2; balanced_accuracy: (test=0.662) recall: (test=0.357) roc_auc: (test=0.717) total time=   0.0s\n",
      "[CV 25/50] END max_depth=2; balanced_accuracy: (test=0.585) recall: (test=0.214) roc_auc: (test=0.795) total time=   0.0s\n",
      "[CV 18/50] END max_depth=2; balanced_accuracy: (test=0.632) recall: (test=0.286) roc_auc: (test=0.854) total time=   0.0s\n",
      "[CV 16/50] END max_depth=2; balanced_accuracy: (test=0.633) recall: (test=0.333) roc_auc: (test=0.747) total time=   0.0s\n",
      "[CV 14/50] END max_depth=2; balanced_accuracy: (test=0.758) recall: (test=0.571) roc_auc: (test=0.817) total time=   0.0s\n",
      "[CV 20/50] END max_depth=2; balanced_accuracy: (test=0.752) recall: (test=0.571) roc_auc: (test=0.818) total time=   0.0s\n",
      "[CV 24/50] END max_depth=2; balanced_accuracy: (test=0.489) recall: (test=0.000) roc_auc: (test=0.568) total time=   0.0s\n",
      "[CV 22/50] END max_depth=2; balanced_accuracy: (test=0.681) recall: (test=0.429) roc_auc: (test=0.828) total time=   0.0s\n",
      "[CV 26/50] END max_depth=2; balanced_accuracy: (test=0.778) recall: (test=0.600) roc_auc: (test=0.881) total time=   0.0s\n",
      "[CV 29/50] END max_depth=2; balanced_accuracy: (test=0.716) recall: (test=0.500) roc_auc: (test=0.758) total time=   0.0s\n",
      "[CV 31/50] END max_depth=2; balanced_accuracy: (test=0.651) recall: (test=0.357) roc_auc: (test=0.861) total time=   0.0s\n",
      "[CV 27/50] END max_depth=2; balanced_accuracy: (test=0.739) recall: (test=0.533) roc_auc: (test=0.793) total time=   0.0s[CV 35/50] END max_depth=2; balanced_accuracy: (test=0.714) recall: (test=0.429) roc_auc: (test=0.812) total time=   0.0s\n",
      "[CV 33/50] END max_depth=2; balanced_accuracy: (test=0.722) recall: (test=0.500) roc_auc: (test=0.762) total time=   0.0s\n",
      "\n",
      "[CV 37/50] END max_depth=2; balanced_accuracy: (test=0.616) recall: (test=0.267) roc_auc: (test=0.776) total time=   0.0s\n",
      "[CV 39/50] END max_depth=2; balanced_accuracy: (test=0.662) recall: (test=0.357) roc_auc: (test=0.724) total time=   0.0s\n",
      "[CV 30/50] END max_depth=2; balanced_accuracy: (test=0.733) recall: (test=0.500) roc_auc: (test=0.872) total time=   0.0s\n",
      "[CV 32/50] END max_depth=2; balanced_accuracy: (test=0.835) recall: (test=0.714) roc_auc: (test=0.914) total time=   0.0s\n",
      "[CV 43/50] END max_depth=2; balanced_accuracy: (test=0.610) recall: (test=0.286) roc_auc: (test=0.746) total time=   0.0s\n",
      "[CV 41/50] END max_depth=2; balanced_accuracy: (test=0.679) recall: (test=0.357) roc_auc: (test=0.804) total time=   0.0s\n",
      "[CV 47/50] END max_depth=2; balanced_accuracy: (test=0.750) recall: (test=0.533) roc_auc: (test=0.759) total time=   0.0s\n",
      "[CV 45/50] END max_depth=2; balanced_accuracy: (test=0.632) recall: (test=0.286) roc_auc: (test=0.852) total time=   0.0s[CV 36/50] END max_depth=2; balanced_accuracy: (test=0.722) recall: (test=0.467) roc_auc: (test=0.742) total time=   0.0s\n",
      "\n",
      "[CV 38/50] END max_depth=2; balanced_accuracy: (test=0.568) recall: (test=0.214) roc_auc: (test=0.681) total time=   0.0s\n",
      "[CV 28/50] END max_depth=2; balanced_accuracy: (test=0.697) recall: (test=0.429) roc_auc: (test=0.734) total time=   0.0s\n",
      "[CV 34/50] END max_depth=2; balanced_accuracy: (test=0.698) recall: (test=0.429) roc_auc: (test=0.857) total time=   0.0s\n",
      "[CV 40/50] END max_depth=2; balanced_accuracy: (test=0.716) recall: (test=0.500) roc_auc: (test=0.703) total time=   0.0s\n",
      "[CV 49/50] END max_depth=2; balanced_accuracy: (test=0.692) recall: (test=0.429) roc_auc: (test=0.738) total time=   0.0s\n",
      "[CV 1/50] END max_depth=3; balanced_accuracy: (test=0.626) recall: (test=0.286) roc_auc: (test=0.895) total time=   0.0s\n",
      "[CV 44/50] END max_depth=2; balanced_accuracy: (test=0.692) recall: (test=0.429) roc_auc: (test=0.837) total time=   0.0s\n",
      "[CV 3/50] END max_depth=3; balanced_accuracy: (test=0.728) recall: (test=0.500) roc_auc: (test=0.882) total time=   0.0s\n",
      "[CV 48/50] END max_depth=2; balanced_accuracy: (test=0.711) recall: (test=0.500) roc_auc: (test=0.837) total time=   0.0s\n",
      "[CV 42/50] END max_depth=2; balanced_accuracy: (test=0.799) recall: (test=0.643) roc_auc: (test=0.826) total time=   0.0s\n",
      "[CV 46/50] END max_depth=2; balanced_accuracy: (test=0.739) recall: (test=0.533) roc_auc: (test=0.855) total time=   0.0s\n",
      "[CV 5/50] END max_depth=3; balanced_accuracy: (test=0.610) recall: (test=0.286) roc_auc: (test=0.752) total time=   0.0s\n",
      "[CV 7/50] END max_depth=3; balanced_accuracy: (test=0.705) recall: (test=0.467) roc_auc: (test=0.706) total time=   0.0s\n",
      "[CV 50/50] END max_depth=2; balanced_accuracy: (test=0.626) recall: (test=0.286) roc_auc: (test=0.739) total time=   0.0s\n",
      "[CV 9/50] END max_depth=3; balanced_accuracy: (test=0.626) recall: (test=0.286) roc_auc: (test=0.790) total time=   0.0s[CV 2/50] END max_depth=3; balanced_accuracy: (test=0.566) recall: (test=0.143) roc_auc: (test=0.817) total time=   0.0s\n",
      "\n",
      "[CV 17/50] END max_depth=3; balanced_accuracy: (test=0.683) recall: (test=0.400) roc_auc: (test=0.746) total time=   0.0s\n",
      "[CV 4/50] END max_depth=3; balanced_accuracy: (test=0.626) recall: (test=0.286) roc_auc: (test=0.803) total time=   0.0s\n",
      "[CV 13/50] END max_depth=3; balanced_accuracy: (test=0.670) recall: (test=0.429) roc_auc: (test=0.662) total time=   0.0s\n",
      "[CV 21/50] END max_depth=3; balanced_accuracy: (test=0.602) recall: (test=0.214) roc_auc: (test=0.838) total time=   0.0s\n",
      "[CV 6/50] END max_depth=3; balanced_accuracy: (test=0.561) recall: (test=0.200) roc_auc: (test=0.691) total time=   0.0s[CV 25/50] END max_depth=3; balanced_accuracy: (test=0.585) recall: (test=0.214) roc_auc: (test=0.812) total time=   0.0s\n",
      "\n",
      "[CV 29/50] END max_depth=3; balanced_accuracy: (test=0.752) recall: (test=0.571) roc_auc: (test=0.782) total time=   0.0s\n",
      "[CV 8/50] END max_depth=3; balanced_accuracy: (test=0.609) recall: (test=0.286) roc_auc: (test=0.710) total time=   0.0s\n",
      "[CV 10/50] END max_depth=3; balanced_accuracy: (test=0.810) recall: (test=0.643) roc_auc: (test=0.846) total time=   0.0s\n",
      "[CV 33/50] END max_depth=3; balanced_accuracy: (test=0.694) recall: (test=0.500) roc_auc: (test=0.829) total time=   0.0s[CV 37/50] END max_depth=3; balanced_accuracy: (test=0.605) recall: (test=0.267) roc_auc: (test=0.778) total time=   0.0s\n",
      "\n",
      "[CV 41/50] END max_depth=3; balanced_accuracy: (test=0.679) recall: (test=0.357) roc_auc: (test=0.828) total time=   0.0s\n",
      "[CV 18/50] END max_depth=3; balanced_accuracy: (test=0.686) recall: (test=0.429) roc_auc: (test=0.848) total time=   0.0s\n",
      "[CV 14/50] END max_depth=3; balanced_accuracy: (test=0.632) recall: (test=0.286) roc_auc: (test=0.819) total time=   0.0s\n",
      "[CV 22/50] END max_depth=3; balanced_accuracy: (test=0.508) recall: (test=0.071) roc_auc: (test=0.788) total time=   0.0s\n",
      "[CV 49/50] END max_depth=3; balanced_accuracy: (test=0.656) recall: (test=0.357) roc_auc: (test=0.734) total time=   0.0s\n",
      "[CV 26/50] END max_depth=3; balanced_accuracy: (test=0.772) recall: (test=0.600) roc_auc: (test=0.876) total time=   0.0s\n",
      "[CV 30/50] END max_depth=3; balanced_accuracy: (test=0.733) recall: (test=0.500) roc_auc: (test=0.808) total time=   0.0s\n",
      "[CV 34/50] END max_depth=3; balanced_accuracy: (test=0.662) recall: (test=0.357) roc_auc: (test=0.812) total time=   0.0s\n",
      "[CV 3/50] END max_depth=4; balanced_accuracy: (test=0.794) recall: (test=0.643) roc_auc: (test=0.852) total time=   0.0s\n",
      "[CV 45/50] END max_depth=3; balanced_accuracy: (test=0.596) recall: (test=0.214) roc_auc: (test=0.781) total time=   0.0s\n",
      "[CV 38/50] END max_depth=3; balanced_accuracy: (test=0.562) recall: (test=0.214) roc_auc: (test=0.740) total time=   0.0s\n",
      "[CV 11/50] END max_depth=3; balanced_accuracy: (test=0.596) recall: (test=0.214) roc_auc: (test=0.963) total time=   0.0s\n",
      "[CV 19/50] END max_depth=3; balanced_accuracy: (test=0.620) recall: (test=0.286) roc_auc: (test=0.683) total time=   0.0s\n",
      "[CV 42/50] END max_depth=3; balanced_accuracy: (test=0.667) recall: (test=0.357) roc_auc: (test=0.824) total time=   0.0s\n",
      "[CV 23/50] END max_depth=3; balanced_accuracy: (test=0.610) recall: (test=0.286) roc_auc: (test=0.667) total time=   0.0s\n",
      "[CV 15/50] END max_depth=3; balanced_accuracy: (test=0.769) recall: (test=0.571) roc_auc: (test=0.869) total time=   0.0s\n",
      "[CV 50/50] END max_depth=3; balanced_accuracy: (test=0.656) recall: (test=0.357) roc_auc: (test=0.747) total time=   0.0s\n",
      "[CV 46/50] END max_depth=3; balanced_accuracy: (test=0.705) recall: (test=0.467) roc_auc: (test=0.870) total time=   0.0s\n",
      "[CV 31/50] END max_depth=3; balanced_accuracy: (test=0.645) recall: (test=0.357) roc_auc: (test=0.865) total time=   0.0s\n",
      "[CV 4/50] END max_depth=4; balanced_accuracy: (test=0.651) recall: (test=0.357) roc_auc: (test=0.791) total time=   0.0s\n",
      "[CV 35/50] END max_depth=3; balanced_accuracy: (test=0.667) recall: (test=0.357) roc_auc: (test=0.830) total time=   0.0s\n",
      "[CV 39/50] END max_depth=3; balanced_accuracy: (test=0.662) recall: (test=0.357) roc_auc: (test=0.778) total time=   0.0s[CV 12/50] END max_depth=3; balanced_accuracy: (test=0.662) recall: (test=0.357) roc_auc: (test=0.719) total time=   0.0s\n",
      "\n",
      "[CV 27/50] END max_depth=3; balanced_accuracy: (test=0.639) recall: (test=0.333) roc_auc: (test=0.747) total time=   0.0s\n",
      "[CV 24/50] END max_depth=3; balanced_accuracy: (test=0.525) recall: (test=0.071) roc_auc: (test=0.713) total time=   0.0s\n",
      "[CV 20/50] END max_depth=3; balanced_accuracy: (test=0.699) recall: (test=0.500) roc_auc: (test=0.833) total time=   0.0s\n",
      "[CV 43/50] END max_depth=3; balanced_accuracy: (test=0.615) recall: (test=0.286) roc_auc: (test=0.752) total time=   0.0s\n",
      "[CV 16/50] END max_depth=3; balanced_accuracy: (test=0.622) recall: (test=0.333) roc_auc: (test=0.633) total time=   0.0s\n",
      "[CV 47/50] END max_depth=3; balanced_accuracy: (test=0.666) recall: (test=0.400) roc_auc: (test=0.747) total time=   0.0s\n",
      "[CV 32/50] END max_depth=3; balanced_accuracy: (test=0.519) recall: (test=0.071) roc_auc: (test=0.911) total time=   0.0s\n",
      "[CV 1/50] END max_depth=4; balanced_accuracy: (test=0.692) recall: (test=0.429) roc_auc: (test=0.876) total time=   0.0s\n",
      "[CV 40/50] END max_depth=3; balanced_accuracy: (test=0.538) recall: (test=0.143) roc_auc: (test=0.687) total time=   0.0s\n",
      "[CV 36/50] END max_depth=3; balanced_accuracy: (test=0.622) recall: (test=0.267) roc_auc: (test=0.752) total time=   0.0s\n",
      "[CV 5/50] END max_depth=4; balanced_accuracy: (test=0.604) recall: (test=0.286) roc_auc: (test=0.715) total time=   0.0s\n",
      "[CV 44/50] END max_depth=3; balanced_accuracy: (test=0.692) recall: (test=0.429) roc_auc: (test=0.818) total time=   0.0s\n",
      "[CV 7/50] END max_depth=4; balanced_accuracy: (test=0.700) recall: (test=0.467) roc_auc: (test=0.703) total time=   0.0s\n",
      "[CV 28/50] END max_depth=3; balanced_accuracy: (test=0.602) recall: (test=0.214) roc_auc: (test=0.741) total time=   0.0s\n",
      "[CV 48/50] END max_depth=3; balanced_accuracy: (test=0.615) recall: (test=0.286) roc_auc: (test=0.841) total time=   0.0s\n",
      "[CV 11/50] END max_depth=4; balanced_accuracy: (test=0.810) recall: (test=0.643) roc_auc: (test=0.954) total time=   0.0s\n",
      "[CV 2/50] END max_depth=4; balanced_accuracy: (test=0.698) recall: (test=0.429) roc_auc: (test=0.821) total time=   0.0s\n",
      "[CV 15/50] END max_depth=4; balanced_accuracy: (test=0.813) recall: (test=0.714) roc_auc: (test=0.851) total time=   0.0s\n",
      "[CV 6/50] END max_depth=4; balanced_accuracy: (test=0.577) recall: (test=0.267) roc_auc: (test=0.755) total time=   0.0s\n",
      "[CV 19/50] END max_depth=4; balanced_accuracy: (test=0.585) recall: (test=0.214) roc_auc: (test=0.789) total time=   0.0s\n",
      "[CV 8/50] END max_depth=4; balanced_accuracy: (test=0.656) recall: (test=0.357) roc_auc: (test=0.803) total time=   0.0s\n",
      "[CV 23/50] END max_depth=4; balanced_accuracy: (test=0.634) recall: (test=0.357) roc_auc: (test=0.656) total time=   0.0s\n",
      "[CV 27/50] END max_depth=4; balanced_accuracy: (test=0.688) recall: (test=0.467) roc_auc: (test=0.682) total time=   0.0s\n",
      "[CV 12/50] END max_depth=4; balanced_accuracy: (test=0.698) recall: (test=0.429) roc_auc: (test=0.794) total time=   0.0s\n",
      "[CV 31/50] END max_depth=4; balanced_accuracy: (test=0.681) recall: (test=0.429) roc_auc: (test=0.880) total time=   0.0s\n",
      "[CV 16/50] END max_depth=4; balanced_accuracy: (test=0.683) recall: (test=0.467) roc_auc: (test=0.694) total time=   0.0s\n",
      "[CV 35/50] END max_depth=4; balanced_accuracy: (test=0.623) recall: (test=0.357) roc_auc: (test=0.806) total time=   0.0s\n",
      "[CV 39/50] END max_depth=4; balanced_accuracy: (test=0.703) recall: (test=0.429) roc_auc: (test=0.836) total time=   0.0s\n",
      "[CV 43/50] END max_depth=4; balanced_accuracy: (test=0.689) recall: (test=0.500) roc_auc: (test=0.750) total time=   0.0s\n",
      "[CV 20/50] END max_depth=4; balanced_accuracy: (test=0.681) recall: (test=0.429) roc_auc: (test=0.835) total time=   0.0s\n",
      "[CV 24/50] END max_depth=4; balanced_accuracy: (test=0.590) recall: (test=0.214) roc_auc: (test=0.702) total time=   0.0s\n",
      "[CV 9/50] END max_depth=4; balanced_accuracy: (test=0.585) recall: (test=0.214) roc_auc: (test=0.842) total time=   0.0s\n",
      "[CV 47/50] END max_depth=4; balanced_accuracy: (test=0.639) recall: (test=0.333) roc_auc: (test=0.764) total time=   0.0s\n",
      "[CV 28/50] END max_depth=4; balanced_accuracy: (test=0.673) recall: (test=0.357) roc_auc: (test=0.781) total time=   0.0s\n",
      "[CV 17/50] END max_depth=4; balanced_accuracy: (test=0.761) recall: (test=0.600) roc_auc: (test=0.812) total time=   0.0s\n",
      "[CV 32/50] END max_depth=4; balanced_accuracy: (test=0.656) recall: (test=0.357) roc_auc: (test=0.940) total time=   0.0s\n",
      "[CV 13/50] END max_depth=4; balanced_accuracy: (test=0.590) recall: (test=0.214) roc_auc: (test=0.639) total time=   0.0s\n",
      "[CV 1/50] END max_depth=5; balanced_accuracy: (test=0.615) recall: (test=0.286) roc_auc: (test=0.824) total time=   0.0s\n",
      "[CV 36/50] END max_depth=4; balanced_accuracy: (test=0.689) recall: (test=0.400) roc_auc: (test=0.746) total time=   0.0s\n",
      "[CV 44/50] END max_depth=4; balanced_accuracy: (test=0.763) recall: (test=0.571) roc_auc: (test=0.826) total time=   0.0s\n",
      "[CV 25/50] END max_depth=4; balanced_accuracy: (test=0.667) recall: (test=0.357) roc_auc: (test=0.881) total time=   0.0s\n",
      "[CV 21/50] END max_depth=4; balanced_accuracy: (test=0.662) recall: (test=0.357) roc_auc: (test=0.837) total time=   0.0s\n",
      "[CV 10/50] END max_depth=4; balanced_accuracy: (test=0.675) recall: (test=0.429) roc_auc: (test=0.831) total time=   0.0s\n",
      "[CV 40/50] END max_depth=4; balanced_accuracy: (test=0.579) recall: (test=0.214) roc_auc: (test=0.751) total time=   0.0s[CV 48/50] END max_depth=4; balanced_accuracy: (test=0.771) recall: (test=0.643) roc_auc: (test=0.876) total time=   0.0s\n",
      "\n",
      "[CV 29/50] END max_depth=4; balanced_accuracy: (test=0.752) recall: (test=0.571) roc_auc: (test=0.800) total time=   0.0s\n",
      "[CV 18/50] END max_depth=4; balanced_accuracy: (test=0.686) recall: (test=0.429) roc_auc: (test=0.854) total time=   0.0s\n",
      "[CV 33/50] END max_depth=4; balanced_accuracy: (test=0.711) recall: (test=0.500) roc_auc: (test=0.838) total time=   0.0s\n",
      "[CV 14/50] END max_depth=4; balanced_accuracy: (test=0.758) recall: (test=0.571) roc_auc: (test=0.819) total time=   0.0s\n",
      "[CV 2/50] END max_depth=5; balanced_accuracy: (test=0.794) recall: (test=0.643) roc_auc: (test=0.899) total time=   0.0s\n",
      "[CV 26/50] END max_depth=4; balanced_accuracy: (test=0.727) recall: (test=0.533) roc_auc: (test=0.861) total time=   0.0s\n",
      "[CV 45/50] END max_depth=4; balanced_accuracy: (test=0.662) recall: (test=0.357) roc_auc: (test=0.684) total time=   0.0s\n",
      "[CV 37/50] END max_depth=4; balanced_accuracy: (test=0.661) recall: (test=0.400) roc_auc: (test=0.712) total time=   0.0s\n",
      "[CV 22/50] END max_depth=4; balanced_accuracy: (test=0.711) recall: (test=0.500) roc_auc: (test=0.876) total time=   0.0s\n",
      "[CV 49/50] END max_depth=4; balanced_accuracy: (test=0.656) recall: (test=0.357) roc_auc: (test=0.826) total time=   0.0s\n",
      "[CV 41/50] END max_depth=4; balanced_accuracy: (test=0.626) recall: (test=0.286) roc_auc: (test=0.767) total time=   0.0s\n",
      "[CV 30/50] END max_depth=4; balanced_accuracy: (test=0.801) recall: (test=0.714) roc_auc: (test=0.786) total time=   0.0s\n",
      "[CV 38/50] END max_depth=4; balanced_accuracy: (test=0.592) recall: (test=0.286) roc_auc: (test=0.773) total time=   0.0s\n",
      "[CV 34/50] END max_depth=4; balanced_accuracy: (test=0.763) recall: (test=0.571) roc_auc: (test=0.835) total time=   0.0s\n",
      "[CV 5/50] END max_depth=5; balanced_accuracy: (test=0.645) recall: (test=0.357) roc_auc: (test=0.753) total time=   0.0s\n",
      "[CV 46/50] END max_depth=4; balanced_accuracy: (test=0.822) recall: (test=0.733) roc_auc: (test=0.806) total time=   0.0s\n",
      "[CV 3/50] END max_depth=5; balanced_accuracy: (test=0.788) recall: (test=0.643) roc_auc: (test=0.846) total time=   0.0s\n",
      "[CV 13/50] END max_depth=5; balanced_accuracy: (test=0.640) recall: (test=0.357) roc_auc: (test=0.608) total time=   0.0s\n",
      "[CV 50/50] END max_depth=4; balanced_accuracy: (test=0.686) recall: (test=0.429) roc_auc: (test=0.756) total time=   0.0s\n",
      "[CV 42/50] END max_depth=4; balanced_accuracy: (test=0.700) recall: (test=0.500) roc_auc: (test=0.794) total time=   0.0s\n",
      "[CV 21/50] END max_depth=5; balanced_accuracy: (test=0.656) recall: (test=0.357) roc_auc: (test=0.776) total time=   0.0s\n",
      "[CV 37/50] END max_depth=5; balanced_accuracy: (test=0.733) recall: (test=0.533) roc_auc: (test=0.753) total time=   0.0s\n",
      "[CV 29/50] END max_depth=5; balanced_accuracy: (test=0.752) recall: (test=0.571) roc_auc: (test=0.818) total time=   0.0s\n",
      "[CV 6/50] END max_depth=5; balanced_accuracy: (test=0.605) recall: (test=0.333) roc_auc: (test=0.799) total time=   0.0s\n",
      "[CV 14/50] END max_depth=5; balanced_accuracy: (test=0.722) recall: (test=0.500) roc_auc: (test=0.764) total time=   0.0s\n",
      "[CV 4/50] END max_depth=5; balanced_accuracy: (test=0.758) recall: (test=0.571) roc_auc: (test=0.751) total time=   0.0s\n",
      "[CV 45/50] END max_depth=5; balanced_accuracy: (test=0.692) recall: (test=0.429) roc_auc: (test=0.723) total time=   0.0s\n",
      "[CV 11/50] END max_depth=6; balanced_accuracy: (test=0.923) recall: (test=0.857) roc_auc: (test=0.987) total time=   0.0s\n",
      "[CV 3/50] END max_depth=6; balanced_accuracy: (test=0.818) recall: (test=0.714) roc_auc: (test=0.858) total time=   0.0s\n",
      "[CV 19/50] END max_depth=6; balanced_accuracy: (test=0.543) recall: (test=0.143) roc_auc: (test=0.648) total time=   0.0s\n",
      "[CV 27/50] END max_depth=6; balanced_accuracy: (test=0.633) recall: (test=0.333) roc_auc: (test=0.660) total time=   0.0s\n",
      "[CV 22/50] END max_depth=5; balanced_accuracy: (test=0.675) recall: (test=0.429) roc_auc: (test=0.895) total time=   0.0s\n",
      "[CV 38/50] END max_depth=5; balanced_accuracy: (test=0.598) recall: (test=0.286) roc_auc: (test=0.829) total time=   0.0s\n",
      "[CV 7/50] END max_depth=5; balanced_accuracy: (test=0.550) recall: (test=0.133) roc_auc: (test=0.687) total time=   0.0s[CV 30/50] END max_depth=5; balanced_accuracy: (test=0.807) recall: (test=0.714) roc_auc: (test=0.782) total time=   0.0s\n",
      "\n",
      "[CV 12/50] END max_depth=6; balanced_accuracy: (test=0.733) recall: (test=0.500) roc_auc: (test=0.839) total time=   0.0s\n",
      "[CV 15/50] END max_depth=5; balanced_accuracy: (test=0.722) recall: (test=0.500) roc_auc: (test=0.848) total time=   0.0s\n",
      "[CV 20/50] END max_depth=6; balanced_accuracy: (test=0.645) recall: (test=0.357) roc_auc: (test=0.843) total time=   0.0s\n",
      "[CV 46/50] END max_depth=5; balanced_accuracy: (test=0.705) recall: (test=0.467) roc_auc: (test=0.882) total time=   0.0s\n",
      "[CV 4/50] END max_depth=6; balanced_accuracy: (test=0.651) recall: (test=0.357) roc_auc: (test=0.702) total time=   0.0s\n",
      "[CV 35/50] END max_depth=6; balanced_accuracy: (test=0.640) recall: (test=0.357) roc_auc: (test=0.727) total time=   0.0s\n",
      "[CV 23/50] END max_depth=5; balanced_accuracy: (test=0.615) recall: (test=0.286) roc_auc: (test=0.674) total time=   0.0s\n",
      "[CV 28/50] END max_depth=6; balanced_accuracy: (test=0.692) recall: (test=0.429) roc_auc: (test=0.713) total time=   0.0s\n",
      "[CV 39/50] END max_depth=5; balanced_accuracy: (test=0.771) recall: (test=0.643) roc_auc: (test=0.808) total time=   0.0s\n",
      "[CV 21/50] END max_depth=6; balanced_accuracy: (test=0.758) recall: (test=0.571) roc_auc: (test=0.826) total time=   0.0s\n",
      "[CV 31/50] END max_depth=5; balanced_accuracy: (test=0.813) recall: (test=0.714) roc_auc: (test=0.881) total time=   0.0s\n",
      "[CV 16/50] END max_depth=5; balanced_accuracy: (test=0.622) recall: (test=0.333) roc_auc: (test=0.709) total time=   0.0s\n",
      "[CV 8/50] END max_depth=5; balanced_accuracy: (test=0.686) recall: (test=0.429) roc_auc: (test=0.807) total time=   0.0s\n",
      "[CV 13/50] END max_depth=6; balanced_accuracy: (test=0.598) recall: (test=0.286) roc_auc: (test=0.608) total time=   0.0s\n",
      "[CV 47/50] END max_depth=5; balanced_accuracy: (test=0.639) recall: (test=0.333) roc_auc: (test=0.777) total time=   0.0s\n",
      "[CV 5/50] END max_depth=6; balanced_accuracy: (test=0.670) recall: (test=0.429) roc_auc: (test=0.650) total time=   0.0s\n",
      "[CV 43/50] END max_depth=6; balanced_accuracy: (test=0.675) recall: (test=0.429) roc_auc: (test=0.794) total time=   0.0s\n",
      "[CV 24/50] END max_depth=5; balanced_accuracy: (test=0.571) recall: (test=0.143) roc_auc: (test=0.755) total time=   0.0s\n",
      "[CV 36/50] END max_depth=6; balanced_accuracy: (test=0.755) recall: (test=0.533) roc_auc: (test=0.750) total time=   0.0s\n",
      "[CV 29/50] END max_depth=6; balanced_accuracy: (test=0.705) recall: (test=0.500) roc_auc: (test=0.761) total time=   0.0s\n",
      "[CV 17/50] END max_depth=5; balanced_accuracy: (test=0.678) recall: (test=0.400) roc_auc: (test=0.809) total time=   0.0s\n",
      "[CV 40/50] END max_depth=5; balanced_accuracy: (test=0.645) recall: (test=0.357) roc_auc: (test=0.819) total time=   0.0s\n",
      "[CV 22/50] END max_depth=6; balanced_accuracy: (test=0.873) recall: (test=0.857) roc_auc: (test=0.889) total time=   0.0s\n",
      "[CV 32/50] END max_depth=5; balanced_accuracy: (test=0.621) recall: (test=0.286) roc_auc: (test=0.831) total time=   0.0s\n",
      "[CV 9/50] END max_depth=5; balanced_accuracy: (test=0.681) recall: (test=0.429) roc_auc: (test=0.728) total time=   0.0s\n",
      "[CV 14/50] END max_depth=6; balanced_accuracy: (test=0.758) recall: (test=0.571) roc_auc: (test=0.778) total time=   0.0s\n",
      "[CV 48/50] END max_depth=5; balanced_accuracy: (test=0.669) recall: (test=0.429) roc_auc: (test=0.864) total time=   0.0s\n",
      "[CV 6/50] END max_depth=6; balanced_accuracy: (test=0.666) recall: (test=0.467) roc_auc: (test=0.781) total time=   0.0s\n",
      "[CV 44/50] END max_depth=6; balanced_accuracy: (test=0.687) recall: (test=0.429) roc_auc: (test=0.819) total time=   0.0s\n",
      "[CV 25/50] END max_depth=5; balanced_accuracy: (test=0.788) recall: (test=0.643) roc_auc: (test=0.905) total time=   0.0s\n",
      "[CV 37/50] END max_depth=6; balanced_accuracy: (test=0.733) recall: (test=0.533) roc_auc: (test=0.742) total time=   0.0s\n",
      "[CV 18/50] END max_depth=5; balanced_accuracy: (test=0.801) recall: (test=0.714) roc_auc: (test=0.873) total time=   0.0s\n",
      "[CV 30/50] END max_depth=6; balanced_accuracy: (test=0.730) recall: (test=0.571) roc_auc: (test=0.769) total time=   0.0s\n",
      "[CV 41/50] END max_depth=5; balanced_accuracy: (test=0.698) recall: (test=0.429) roc_auc: (test=0.754) total time=   0.0s\n",
      "[CV 33/50] END max_depth=5; balanced_accuracy: (test=0.604) recall: (test=0.286) roc_auc: (test=0.883) total time=   0.0s\n",
      "[CV 23/50] END max_depth=6; balanced_accuracy: (test=0.610) recall: (test=0.286) roc_auc: (test=0.562) total time=   0.0s\n",
      "[CV 10/50] END max_depth=5; balanced_accuracy: (test=0.722) recall: (test=0.500) roc_auc: (test=0.837) total time=   0.0s\n",
      "[CV 7/50] END max_depth=6; balanced_accuracy: (test=0.644) recall: (test=0.333) roc_auc: (test=0.709) total time=   0.0s\n",
      "[CV 49/50] END max_depth=5; balanced_accuracy: (test=0.711) recall: (test=0.500) roc_auc: (test=0.735) total time=   0.0s\n",
      "[CV 26/50] END max_depth=5; balanced_accuracy: (test=0.678) recall: (test=0.400) roc_auc: (test=0.863) total time=   0.0s\n",
      "[CV 45/50] END max_depth=6; balanced_accuracy: (test=0.722) recall: (test=0.500) roc_auc: (test=0.675) total time=   0.0s\n",
      "[CV 15/50] END max_depth=6; balanced_accuracy: (test=0.747) recall: (test=0.571) roc_auc: (test=0.828) total time=   0.0s\n",
      "[CV 34/50] END max_depth=5; balanced_accuracy: (test=0.728) recall: (test=0.500) roc_auc: (test=0.832) total time=   0.0s\n",
      "[CV 19/50] END max_depth=5; balanced_accuracy: (test=0.620) recall: (test=0.286) roc_auc: (test=0.797) total time=   0.0s\n",
      "[CV 24/50] END max_depth=6; balanced_accuracy: (test=0.632) recall: (test=0.286) roc_auc: (test=0.771) total time=   0.0s\n",
      "[CV 38/50] END max_depth=6; balanced_accuracy: (test=0.628) recall: (test=0.357) roc_auc: (test=0.770) total time=   0.0s\n",
      "[CV 42/50] END max_depth=5; balanced_accuracy: (test=0.692) recall: (test=0.429) roc_auc: (test=0.825) total time=   0.0s\n",
      "[CV 11/50] END max_depth=5; balanced_accuracy: (test=0.709) recall: (test=0.429) roc_auc: (test=0.965) total time=   0.0s\n",
      "[CV 31/50] END max_depth=6; balanced_accuracy: (test=0.794) recall: (test=0.643) roc_auc: (test=0.836) total time=   0.0s\n",
      "[CV 50/50] END max_depth=5; balanced_accuracy: (test=0.788) recall: (test=0.643) roc_auc: (test=0.775) total time=   0.0s\n",
      "[CV 27/50] END max_depth=5; balanced_accuracy: (test=0.666) recall: (test=0.400) roc_auc: (test=0.647) total time=   0.0s\n",
      "[CV 46/50] END max_depth=6; balanced_accuracy: (test=0.727) recall: (test=0.533) roc_auc: (test=0.805) total time=   0.0s\n",
      "[CV 8/50] END max_depth=6; balanced_accuracy: (test=0.716) recall: (test=0.500) roc_auc: (test=0.846) total time=   0.0s\n",
      "[CV 35/50] END max_depth=5; balanced_accuracy: (test=0.667) recall: (test=0.357) roc_auc: (test=0.778) total time=   0.0s\n",
      "[CV 39/50] END max_depth=6; balanced_accuracy: (test=0.730) recall: (test=0.571) roc_auc: (test=0.816) total time=   0.0s\n",
      "[CV 25/50] END max_depth=6; balanced_accuracy: (test=0.788) recall: (test=0.643) roc_auc: (test=0.919) total time=   0.0s\n",
      "[CV 20/50] END max_depth=5; balanced_accuracy: (test=0.771) recall: (test=0.643) roc_auc: (test=0.854) total time=   0.0s\n",
      "[CV 16/50] END max_depth=6; balanced_accuracy: (test=0.539) recall: (test=0.133) roc_auc: (test=0.675) total time=   0.0s\n",
      "[CV 43/50] END max_depth=5; balanced_accuracy: (test=0.706) recall: (test=0.500) roc_auc: (test=0.813) total time=   0.0s\n",
      "[CV 12/50] END max_depth=5; balanced_accuracy: (test=0.799) recall: (test=0.643) roc_auc: (test=0.810) total time=   0.0s\n",
      "[CV 28/50] END max_depth=5; balanced_accuracy: (test=0.673) recall: (test=0.357) roc_auc: (test=0.693) total time=   0.0s\n",
      "[CV 32/50] END max_depth=6; balanced_accuracy: (test=0.722) recall: (test=0.500) roc_auc: (test=0.839) total time=   0.0s\n",
      "[CV 1/50] END max_depth=6; balanced_accuracy: (test=0.681) recall: (test=0.429) roc_auc: (test=0.818) total time=   0.0s\n",
      "[CV 9/50] END max_depth=6; balanced_accuracy: (test=0.675) recall: (test=0.429) roc_auc: (test=0.744) total time=   0.0s\n",
      "[CV 47/50] END max_depth=6; balanced_accuracy: (test=0.639) recall: (test=0.333) roc_auc: (test=0.755) total time=   0.0s\n",
      "[CV 36/50] END max_depth=5; balanced_accuracy: (test=0.650) recall: (test=0.333) roc_auc: (test=0.708) total time=   0.0s\n",
      "[CV 40/50] END max_depth=6; balanced_accuracy: (test=0.681) recall: (test=0.429) roc_auc: (test=0.734) total time=   0.0s\n",
      "[CV 17/50] END max_depth=6; balanced_accuracy: (test=0.711) recall: (test=0.467) roc_auc: (test=0.845) total time=   0.0s\n",
      "[CV 44/50] END max_depth=5; balanced_accuracy: (test=0.615) recall: (test=0.286) roc_auc: (test=0.844) total time=   0.0s\n",
      "[CV 26/50] END max_depth=6; balanced_accuracy: (test=0.688) recall: (test=0.467) roc_auc: (test=0.726) total time=   0.0s\n",
      "[CV 1/50] END max_depth=7; balanced_accuracy: (test=0.752) recall: (test=0.571) roc_auc: (test=0.807) total time=   0.0s\n",
      "[CV 33/50] END max_depth=6; balanced_accuracy: (test=0.777) recall: (test=0.643) roc_auc: (test=0.900) total time=   0.0s\n",
      "[CV 2/50] END max_depth=6; balanced_accuracy: (test=0.810) recall: (test=0.643) roc_auc: (test=0.919) total time=   0.0s\n",
      "[CV 9/50] END max_depth=7; balanced_accuracy: (test=0.669) recall: (test=0.429) roc_auc: (test=0.722) total time=   0.0s\n",
      "[CV 10/50] END max_depth=6; balanced_accuracy: (test=0.703) recall: (test=0.429) roc_auc: (test=0.863) total time=   0.0s\n",
      "[CV 48/50] END max_depth=6; balanced_accuracy: (test=0.681) recall: (test=0.429) roc_auc: (test=0.905) total time=   0.0s\n",
      "[CV 41/50] END max_depth=6; balanced_accuracy: (test=0.667) recall: (test=0.357) roc_auc: (test=0.702) total time=   0.0s\n",
      "[CV 17/50] END max_depth=7; balanced_accuracy: (test=0.661) recall: (test=0.400) roc_auc: (test=0.779) total time=   0.0s\n",
      "[CV 18/50] END max_depth=6; balanced_accuracy: (test=0.842) recall: (test=0.786) roc_auc: (test=0.845) total time=   0.0s\n",
      "[CV 2/50] END max_depth=7; balanced_accuracy: (test=0.876) recall: (test=0.786) roc_auc: (test=0.896) total time=   0.0s\n",
      "[CV 34/50] END max_depth=6; balanced_accuracy: (test=0.763) recall: (test=0.571) roc_auc: (test=0.784) total time=   0.0s\n",
      "[CV 25/50] END max_depth=7; balanced_accuracy: (test=0.788) recall: (test=0.643) roc_auc: (test=0.906) total time=   0.0s\n",
      "[CV 33/50] END max_depth=7; balanced_accuracy: (test=0.752) recall: (test=0.571) roc_auc: (test=0.862) total time=   0.0s\n",
      "[CV 41/50] END max_depth=7; balanced_accuracy: (test=0.728) recall: (test=0.500) roc_auc: (test=0.696) total time=   0.0s\n",
      "[CV 42/50] END max_depth=6; balanced_accuracy: (test=0.717) recall: (test=0.500) roc_auc: (test=0.763) total time=   0.0s\n",
      "[CV 10/50] END max_depth=7; balanced_accuracy: (test=0.681) recall: (test=0.429) roc_auc: (test=0.665) total time=   0.0s\n",
      "[CV 49/50] END max_depth=7; balanced_accuracy: (test=0.746) recall: (test=0.571) roc_auc: (test=0.833) total time=   0.0s\n",
      "[CV 49/50] END max_depth=6; balanced_accuracy: (test=0.746) recall: (test=0.571) roc_auc: (test=0.839) total time=   0.0s\n",
      "[CV 18/50] END max_depth=7; balanced_accuracy: (test=0.867) recall: (test=0.857) roc_auc: (test=0.876) total time=   0.0s\n",
      "[CV 3/50] END max_depth=7; balanced_accuracy: (test=0.747) recall: (test=0.571) roc_auc: (test=0.758) total time=   0.0s\n",
      "[CV 34/50] END max_depth=7; balanced_accuracy: (test=0.733) recall: (test=0.500) roc_auc: (test=0.787) total time=   0.0s\n",
      "[CV 7/50] END max_depth=8; balanced_accuracy: (test=0.672) recall: (test=0.400) roc_auc: (test=0.701) total time=   0.0s\n",
      "[CV 26/50] END max_depth=7; balanced_accuracy: (test=0.622) recall: (test=0.333) roc_auc: (test=0.664) total time=   0.0s\n",
      "[CV 50/50] END max_depth=7; balanced_accuracy: (test=0.799) recall: (test=0.643) roc_auc: (test=0.825) total time=   0.0s\n",
      "[CV 42/50] END max_depth=7; balanced_accuracy: (test=0.700) recall: (test=0.500) roc_auc: (test=0.645) total time=   0.0s\n",
      "[CV 11/50] END max_depth=7; balanced_accuracy: (test=0.816) recall: (test=0.643) roc_auc: (test=0.800) total time=   0.0s\n",
      "[CV 23/50] END max_depth=8; balanced_accuracy: (test=0.621) recall: (test=0.286) roc_auc: (test=0.684) total time=   0.0s\n",
      "[CV 15/50] END max_depth=8; balanced_accuracy: (test=0.700) recall: (test=0.500) roc_auc: (test=0.675) total time=   0.0s\n",
      "[CV 4/50] END max_depth=7; balanced_accuracy: (test=0.758) recall: (test=0.571) roc_auc: (test=0.723) total time=   0.0s\n",
      "[CV 50/50] END max_depth=6; balanced_accuracy: (test=0.697) recall: (test=0.429) roc_auc: (test=0.782) total time=   0.0s\n",
      "[CV 19/50] END max_depth=7; balanced_accuracy: (test=0.590) recall: (test=0.214) roc_auc: (test=0.664) total time=   0.0s\n",
      "[CV 35/50] END max_depth=7; balanced_accuracy: (test=0.664) recall: (test=0.429) roc_auc: (test=0.660) total time=   0.0s\n",
      "[CV 1/50] END max_depth=8; balanced_accuracy: (test=0.706) recall: (test=0.500) roc_auc: (test=0.770) total time=   0.0s\n",
      "[CV 27/50] END max_depth=7; balanced_accuracy: (test=0.666) recall: (test=0.400) roc_auc: (test=0.654) total time=   0.0s\n",
      "[CV 8/50] END max_depth=8; balanced_accuracy: (test=0.722) recall: (test=0.500) roc_auc: (test=0.748) total time=   0.0s\n",
      "[CV 24/50] END max_depth=8; balanced_accuracy: (test=0.632) recall: (test=0.286) roc_auc: (test=0.802) total time=   0.0s\n",
      "[CV 43/50] END max_depth=7; balanced_accuracy: (test=0.736) recall: (test=0.571) roc_auc: (test=0.812) total time=   0.0s\n",
      "[CV 5/50] END max_depth=7; balanced_accuracy: (test=0.687) recall: (test=0.429) roc_auc: (test=0.728) total time=   0.0s\n",
      "[CV 12/50] END max_depth=7; balanced_accuracy: (test=0.758) recall: (test=0.571) roc_auc: (test=0.887) total time=   0.0s\n",
      "[CV 16/50] END max_depth=8; balanced_accuracy: (test=0.605) recall: (test=0.267) roc_auc: (test=0.627) total time=   0.0s\n",
      "[CV 31/50] END max_depth=8; balanced_accuracy: (test=0.687) recall: (test=0.429) roc_auc: (test=0.841) total time=   0.0s\n",
      "[CV 36/50] END max_depth=7; balanced_accuracy: (test=0.744) recall: (test=0.533) roc_auc: (test=0.821) total time=   0.0s\n",
      "[CV 20/50] END max_depth=7; balanced_accuracy: (test=0.675) recall: (test=0.429) roc_auc: (test=0.679) total time=   0.0s\n",
      "[CV 39/50] END max_depth=8; balanced_accuracy: (test=0.788) recall: (test=0.643) roc_auc: (test=0.817) total time=   0.0s\n",
      "[CV 2/50] END max_depth=8; balanced_accuracy: (test=0.876) recall: (test=0.786) roc_auc: (test=0.915) total time=   0.0s\n",
      "[CV 28/50] END max_depth=7; balanced_accuracy: (test=0.722) recall: (test=0.500) roc_auc: (test=0.739) total time=   0.0s\n",
      "[CV 25/50] END max_depth=8; balanced_accuracy: (test=0.711) recall: (test=0.500) roc_auc: (test=0.846) total time=   0.0s\n",
      "[CV 44/50] END max_depth=7; balanced_accuracy: (test=0.698) recall: (test=0.429) roc_auc: (test=0.821) total time=   0.0s\n",
      "[CV 6/50] END max_depth=7; balanced_accuracy: (test=0.633) recall: (test=0.400) roc_auc: (test=0.767) total time=   0.0s\n",
      "[CV 37/50] END max_depth=7; balanced_accuracy: (test=0.739) recall: (test=0.533) roc_auc: (test=0.710) total time=   0.0s\n",
      "[CV 13/50] END max_depth=7; balanced_accuracy: (test=0.634) recall: (test=0.357) roc_auc: (test=0.648) total time=   0.0s\n",
      "[CV 21/50] END max_depth=7; balanced_accuracy: (test=0.659) recall: (test=0.429) roc_auc: (test=0.784) total time=   0.0s\n",
      "[CV 17/50] END max_depth=8; balanced_accuracy: (test=0.761) recall: (test=0.600) roc_auc: (test=0.751) total time=   0.0s\n",
      "[CV 9/50] END max_depth=8; balanced_accuracy: (test=0.669) recall: (test=0.429) roc_auc: (test=0.657) total time=   0.0s\n",
      "[CV 32/50] END max_depth=8; balanced_accuracy: (test=0.763) recall: (test=0.571) roc_auc: (test=0.753) total time=   0.0s\n",
      "[CV 3/50] END max_depth=8; balanced_accuracy: (test=0.818) recall: (test=0.714) roc_auc: (test=0.870) total time=   0.0s\n",
      "[CV 29/50] END max_depth=7; balanced_accuracy: (test=0.699) recall: (test=0.500) roc_auc: (test=0.700) total time=   0.0s\n",
      "[CV 7/50] END max_depth=7; balanced_accuracy: (test=0.672) recall: (test=0.400) roc_auc: (test=0.698) total time=   0.0s\n",
      "[CV 40/50] END max_depth=8; balanced_accuracy: (test=0.650) recall: (test=0.357) roc_auc: (test=0.713) total time=   0.0s\n",
      "[CV 45/50] END max_depth=7; balanced_accuracy: (test=0.675) recall: (test=0.429) roc_auc: (test=0.600) total time=   0.0s\n",
      "[CV 22/50] END max_depth=7; balanced_accuracy: (test=0.807) recall: (test=0.714) roc_auc: (test=0.870) total time=   0.0s\n",
      "[CV 26/50] END max_depth=8; balanced_accuracy: (test=0.616) recall: (test=0.333) roc_auc: (test=0.625) total time=   0.0s\n",
      "[CV 38/50] END max_depth=7; balanced_accuracy: (test=0.639) recall: (test=0.357) roc_auc: (test=0.656) total time=   0.0s\n",
      "[CV 18/50] END max_depth=8; balanced_accuracy: (test=0.765) recall: (test=0.643) roc_auc: (test=0.823) total time=   0.0s\n",
      "[CV 14/50] END max_depth=7; balanced_accuracy: (test=0.758) recall: (test=0.571) roc_auc: (test=0.780) total time=   0.0s\n",
      "[CV 8/50] END max_depth=7; balanced_accuracy: (test=0.705) recall: (test=0.500) roc_auc: (test=0.736) total time=   0.0s\n",
      "[CV 4/50] END max_depth=8; balanced_accuracy: (test=0.687) recall: (test=0.429) roc_auc: (test=0.646) total time=   0.0s\n",
      "[CV 10/50] END max_depth=8; balanced_accuracy: (test=0.692) recall: (test=0.429) roc_auc: (test=0.689) total time=   0.0s\n",
      "[CV 33/50] END max_depth=8; balanced_accuracy: (test=0.747) recall: (test=0.571) roc_auc: (test=0.802) total time=   0.0s\n",
      "[CV 30/50] END max_depth=7; balanced_accuracy: (test=0.730) recall: (test=0.571) roc_auc: (test=0.771) total time=   0.0s\n",
      "[CV 46/50] END max_depth=7; balanced_accuracy: (test=0.727) recall: (test=0.533) roc_auc: (test=0.754) total time=   0.0s\n",
      "[CV 41/50] END max_depth=8; balanced_accuracy: (test=0.681) recall: (test=0.429) roc_auc: (test=0.650) total time=   0.0s\n",
      "[CV 23/50] END max_depth=7; balanced_accuracy: (test=0.574) recall: (test=0.214) roc_auc: (test=0.647) total time=   0.0s\n",
      "[CV 39/50] END max_depth=7; balanced_accuracy: (test=0.782) recall: (test=0.643) roc_auc: (test=0.802) total time=   0.0s\n",
      "[CV 27/50] END max_depth=8; balanced_accuracy: (test=0.661) recall: (test=0.400) roc_auc: (test=0.681) total time=   0.0s\n",
      "[CV 19/50] END max_depth=8; balanced_accuracy: (test=0.650) recall: (test=0.357) roc_auc: (test=0.603) total time=   0.0s\n",
      "[CV 15/50] END max_depth=7; balanced_accuracy: (test=0.818) recall: (test=0.714) roc_auc: (test=0.895) total time=   0.0s\n",
      "[CV 5/50] END max_depth=8; balanced_accuracy: (test=0.664) recall: (test=0.429) roc_auc: (test=0.705) total time=   0.0s\n",
      "[CV 47/50] END max_depth=7; balanced_accuracy: (test=0.639) recall: (test=0.333) roc_auc: (test=0.640) total time=   0.0s\n",
      "[CV 34/50] END max_depth=8; balanced_accuracy: (test=0.805) recall: (test=0.643) roc_auc: (test=0.792) total time=   0.0s\n",
      "[CV 24/50] END max_depth=7; balanced_accuracy: (test=0.626) recall: (test=0.286) roc_auc: (test=0.814) total time=   0.0s\n",
      "[CV 42/50] END max_depth=8; balanced_accuracy: (test=0.700) recall: (test=0.500) roc_auc: (test=0.673) total time=   0.0s\n",
      "[CV 31/50] END max_depth=7; balanced_accuracy: (test=0.829) recall: (test=0.714) roc_auc: (test=0.912) total time=   0.0s\n",
      "[CV 40/50] END max_depth=7; balanced_accuracy: (test=0.650) recall: (test=0.357) roc_auc: (test=0.710) total time=   0.0s\n",
      "[CV 28/50] END max_depth=8; balanced_accuracy: (test=0.692) recall: (test=0.429) roc_auc: (test=0.640) total time=   0.0s\n",
      "[CV 11/50] END max_depth=8; balanced_accuracy: (test=0.887) recall: (test=0.786) roc_auc: (test=0.855) total time=   0.0s\n",
      "[CV 20/50] END max_depth=8; balanced_accuracy: (test=0.675) recall: (test=0.429) roc_auc: (test=0.601) total time=   0.0s[CV 16/50] END max_depth=7; balanced_accuracy: (test=0.566) recall: (test=0.200) roc_auc: (test=0.659) total time=   0.0s\n",
      "\n",
      "[CV 47/50] END max_depth=8; balanced_accuracy: (test=0.672) recall: (test=0.400) roc_auc: (test=0.673) total time=   0.0s\n",
      "[CV 29/50] END max_depth=8; balanced_accuracy: (test=0.699) recall: (test=0.500) roc_auc: (test=0.715) total time=   0.0s\n",
      "[CV 5/50] END max_depth=9; balanced_accuracy: (test=0.681) recall: (test=0.429) roc_auc: (test=0.739) total time=   0.0s\n",
      "[CV 35/50] END max_depth=8; balanced_accuracy: (test=0.760) recall: (test=0.643) roc_auc: (test=0.776) total time=   0.0s\n",
      "[CV 48/50] END max_depth=7; balanced_accuracy: (test=0.771) recall: (test=0.643) roc_auc: (test=0.802) total time=   0.0s\n",
      "[CV 32/50] END max_depth=7; balanced_accuracy: (test=0.692) recall: (test=0.429) roc_auc: (test=0.854) total time=   0.0s\n",
      "[CV 6/50] END max_depth=8; balanced_accuracy: (test=0.666) recall: (test=0.467) roc_auc: (test=0.692) total time=   0.0s\n",
      "[CV 43/50] END max_depth=8; balanced_accuracy: (test=0.687) recall: (test=0.429) roc_auc: (test=0.749) total time=   0.0s\n",
      "[CV 21/50] END max_depth=8; balanced_accuracy: (test=0.741) recall: (test=0.571) roc_auc: (test=0.806) total time=   0.0s\n",
      "[CV 12/50] END max_depth=8; balanced_accuracy: (test=0.722) recall: (test=0.500) roc_auc: (test=0.850) total time=   0.0s\n",
      "[CV 13/50] END max_depth=9; balanced_accuracy: (test=0.629) recall: (test=0.357) roc_auc: (test=0.643) total time=   0.0s[CV 48/50] END max_depth=8; balanced_accuracy: (test=0.782) recall: (test=0.643) roc_auc: (test=0.779) total time=   0.0s\n",
      "\n",
      "[CV 21/50] END max_depth=9; balanced_accuracy: (test=0.736) recall: (test=0.571) roc_auc: (test=0.815) total time=   0.0s\n",
      "[CV 30/50] END max_depth=8; balanced_accuracy: (test=0.771) recall: (test=0.643) roc_auc: (test=0.677) total time=   0.0s[CV 6/50] END max_depth=9; balanced_accuracy: (test=0.666) recall: (test=0.467) roc_auc: (test=0.692) total time=   0.0s\n",
      "\n",
      "[CV 36/50] END max_depth=8; balanced_accuracy: (test=0.816) recall: (test=0.667) roc_auc: (test=0.799) total time=   0.0s\n",
      "[CV 37/50] END max_depth=9; balanced_accuracy: (test=0.766) recall: (test=0.600) roc_auc: (test=0.766) total time=   0.0s\n",
      "[CV 49/50] END max_depth=8; balanced_accuracy: (test=0.669) recall: (test=0.429) roc_auc: (test=0.738) total time=   0.0s\n",
      "[CV 44/50] END max_depth=8; balanced_accuracy: (test=0.717) recall: (test=0.500) roc_auc: (test=0.767) total time=   0.0s\n",
      "[CV 29/50] END max_depth=9; balanced_accuracy: (test=0.683) recall: (test=0.500) roc_auc: (test=0.680) total time=   0.0s\n",
      "[CV 22/50] END max_depth=9; balanced_accuracy: (test=0.766) recall: (test=0.643) roc_auc: (test=0.728) total time=   0.0s\n",
      "[CV 22/50] END max_depth=8; balanced_accuracy: (test=0.766) recall: (test=0.643) roc_auc: (test=0.769) total time=   0.0s\n",
      "[CV 14/50] END max_depth=9; balanced_accuracy: (test=0.752) recall: (test=0.571) roc_auc: (test=0.789) total time=   0.0s\n",
      "[CV 13/50] END max_depth=8; balanced_accuracy: (test=0.640) recall: (test=0.357) roc_auc: (test=0.651) total time=   0.0s\n",
      "[CV 38/50] END max_depth=9; balanced_accuracy: (test=0.634) recall: (test=0.357) roc_auc: (test=0.696) total time=   0.0s\n",
      "[CV 37/50] END max_depth=8; balanced_accuracy: (test=0.761) recall: (test=0.600) roc_auc: (test=0.750) total time=   0.0s\n",
      "[CV 50/50] END max_depth=8; balanced_accuracy: (test=0.788) recall: (test=0.643) roc_auc: (test=0.853) total time=   0.0s[CV 7/50] END max_depth=9; balanced_accuracy: (test=0.672) recall: (test=0.400) roc_auc: (test=0.713) total time=   0.0s\n",
      "\n",
      "[CV 3/50] END max_depth=10; balanced_accuracy: (test=0.730) recall: (test=0.571) roc_auc: (test=0.688) total time=   0.0s\n",
      "[CV 23/50] END max_depth=9; balanced_accuracy: (test=0.656) recall: (test=0.357) roc_auc: (test=0.667) total time=   0.0s\n",
      "[CV 45/50] END max_depth=9; balanced_accuracy: (test=0.689) recall: (test=0.500) roc_auc: (test=0.667) total time=   0.0s\n",
      "[CV 39/50] END max_depth=9; balanced_accuracy: (test=0.823) recall: (test=0.714) roc_auc: (test=0.807) total time=   0.0s\n",
      "[CV 15/50] END max_depth=9; balanced_accuracy: (test=0.722) recall: (test=0.500) roc_auc: (test=0.725) total time=   0.0s\n",
      "[CV 38/50] END max_depth=8; balanced_accuracy: (test=0.622) recall: (test=0.357) roc_auc: (test=0.634) total time=   0.0s\n",
      "[CV 30/50] END max_depth=9; balanced_accuracy: (test=0.784) recall: (test=0.714) roc_auc: (test=0.707) total time=   0.0s\n",
      "[CV 14/50] END max_depth=8; balanced_accuracy: (test=0.758) recall: (test=0.571) roc_auc: (test=0.788) total time=   0.0s\n",
      "[CV 1/50] END max_depth=9; balanced_accuracy: (test=0.788) recall: (test=0.643) roc_auc: (test=0.756) total time=   0.0s\n",
      "[CV 45/50] END max_depth=8; balanced_accuracy: (test=0.717) recall: (test=0.500) roc_auc: (test=0.682) total time=   0.0s\n",
      "[CV 11/50] END max_depth=10; balanced_accuracy: (test=0.810) recall: (test=0.643) roc_auc: (test=0.775) total time=   0.0s\n",
      "[CV 24/50] END max_depth=9; balanced_accuracy: (test=0.626) recall: (test=0.286) roc_auc: (test=0.799) total time=   0.0s\n",
      "[CV 4/50] END max_depth=10; balanced_accuracy: (test=0.717) recall: (test=0.500) roc_auc: (test=0.717) total time=   0.0s\n",
      "[CV 8/50] END max_depth=9; balanced_accuracy: (test=0.699) recall: (test=0.500) roc_auc: (test=0.734) total time=   0.0s\n",
      "[CV 40/50] END max_depth=9; balanced_accuracy: (test=0.639) recall: (test=0.357) roc_auc: (test=0.710) total time=   0.0s\n",
      "[CV 2/50] END max_depth=9; balanced_accuracy: (test=0.912) recall: (test=0.857) roc_auc: (test=0.902) total time=   0.0s\n",
      "[CV 25/50] END max_depth=9; balanced_accuracy: (test=0.675) recall: (test=0.429) roc_auc: (test=0.738) total time=   0.0s\n",
      "[CV 16/50] END max_depth=9; balanced_accuracy: (test=0.622) recall: (test=0.333) roc_auc: (test=0.672) total time=   0.0s\n",
      "[CV 46/50] END max_depth=9; balanced_accuracy: (test=0.733) recall: (test=0.533) roc_auc: (test=0.710) total time=   0.0s[CV 31/50] END max_depth=9; balanced_accuracy: (test=0.799) recall: (test=0.643) roc_auc: (test=0.815) total time=   0.0s\n",
      "\n",
      "[CV 5/50] END max_depth=10; balanced_accuracy: (test=0.640) recall: (test=0.357) roc_auc: (test=0.652) total time=   0.0s\n",
      "[CV 19/50] END max_depth=10; balanced_accuracy: (test=0.675) recall: (test=0.429) roc_auc: (test=0.652) total time=   0.0s\n",
      "[CV 27/50] END max_depth=10; balanced_accuracy: (test=0.666) recall: (test=0.400) roc_auc: (test=0.695) total time=   0.0s\n",
      "[CV 41/50] END max_depth=9; balanced_accuracy: (test=0.763) recall: (test=0.571) roc_auc: (test=0.729) total time=   0.0s\n",
      "[CV 12/50] END max_depth=10; balanced_accuracy: (test=0.860) recall: (test=0.786) roc_auc: (test=0.862) total time=   0.0s\n",
      "[CV 46/50] END max_depth=8; balanced_accuracy: (test=0.794) recall: (test=0.667) roc_auc: (test=0.780) total time=   0.0s[CV 3/50] END max_depth=9; balanced_accuracy: (test=0.747) recall: (test=0.571) roc_auc: (test=0.710) total time=   0.0s\n",
      "\n",
      "[CV 9/50] END max_depth=9; balanced_accuracy: (test=0.724) recall: (test=0.571) roc_auc: (test=0.693) total time=   0.0s\n",
      "[CV 26/50] END max_depth=9; balanced_accuracy: (test=0.627) recall: (test=0.333) roc_auc: (test=0.604) total time=   0.0s\n",
      "[CV 6/50] END max_depth=10; balanced_accuracy: (test=0.666) recall: (test=0.467) roc_auc: (test=0.663) total time=   0.0s\n",
      "[CV 42/50] END max_depth=9; balanced_accuracy: (test=0.736) recall: (test=0.571) roc_auc: (test=0.700) total time=   0.0s\n",
      "[CV 17/50] END max_depth=9; balanced_accuracy: (test=0.655) recall: (test=0.400) roc_auc: (test=0.617) total time=   0.0s\n",
      "[CV 27/50] END max_depth=9; balanced_accuracy: (test=0.666) recall: (test=0.400) roc_auc: (test=0.682) total time=   0.0s\n",
      "[CV 4/50] END max_depth=9; balanced_accuracy: (test=0.752) recall: (test=0.571) roc_auc: (test=0.732) total time=   0.0s\n",
      "[CV 47/50] END max_depth=9; balanced_accuracy: (test=0.633) recall: (test=0.333) roc_auc: (test=0.634) total time=   0.0s\n",
      "[CV 20/50] END max_depth=10; balanced_accuracy: (test=0.735) recall: (test=0.571) roc_auc: (test=0.703) total time=   0.0s\n",
      "[CV 32/50] END max_depth=9; balanced_accuracy: (test=0.799) recall: (test=0.643) roc_auc: (test=0.736) total time=   0.0s\n",
      "[CV 28/50] END max_depth=10; balanced_accuracy: (test=0.722) recall: (test=0.500) roc_auc: (test=0.728) total time=   0.0s\n",
      "[CV 13/50] END max_depth=10; balanced_accuracy: (test=0.582) recall: (test=0.286) roc_auc: (test=0.611) total time=   0.0s\n",
      "[CV 7/50] END max_depth=10; balanced_accuracy: (test=0.672) recall: (test=0.400) roc_auc: (test=0.694) total time=   0.0s\n",
      "[CV 43/50] END max_depth=9; balanced_accuracy: (test=0.722) recall: (test=0.500) roc_auc: (test=0.717) total time=   0.0s\n",
      "[CV 10/50] END max_depth=9; balanced_accuracy: (test=0.656) recall: (test=0.357) roc_auc: (test=0.650) total time=   0.0s\n",
      "[CV 35/50] END max_depth=10; balanced_accuracy: (test=0.736) recall: (test=0.571) roc_auc: (test=0.750) total time=   0.0s\n",
      "[CV 28/50] END max_depth=9; balanced_accuracy: (test=0.692) recall: (test=0.429) roc_auc: (test=0.658) total time=   0.0s\n",
      "[CV 43/50] END max_depth=10; balanced_accuracy: (test=0.717) recall: (test=0.500) roc_auc: (test=0.724) total time=   0.0s\n",
      "[CV 18/50] END max_depth=9; balanced_accuracy: (test=0.730) recall: (test=0.571) roc_auc: (test=0.810) total time=   0.0s\n",
      "[CV 44/50] END max_depth=9; balanced_accuracy: (test=0.692) recall: (test=0.429) roc_auc: (test=0.666) total time=   0.0s\n",
      "[CV 33/50] END max_depth=9; balanced_accuracy: (test=0.783) recall: (test=0.643) roc_auc: (test=0.820) total time=   0.0s\n",
      "[CV 8/50] END max_depth=10; balanced_accuracy: (test=0.746) recall: (test=0.571) roc_auc: (test=0.772) total time=   0.0s\n",
      "[CV 14/50] END max_depth=10; balanced_accuracy: (test=0.747) recall: (test=0.571) roc_auc: (test=0.771) total time=   0.0s\n",
      "[CV 44/50] END max_depth=10; balanced_accuracy: (test=0.687) recall: (test=0.429) roc_auc: (test=0.660) total time=   0.0s\n",
      "[CV 11/50] END max_depth=9; balanced_accuracy: (test=0.810) recall: (test=0.643) roc_auc: (test=0.761) total time=   0.0s\n",
      "[CV 48/50] END max_depth=9; balanced_accuracy: (test=0.741) recall: (test=0.571) roc_auc: (test=0.817) total time=   0.1s\n",
      "[CV 29/50] END max_depth=10; balanced_accuracy: (test=0.677) recall: (test=0.500) roc_auc: (test=0.679) total time=   0.1s\n",
      "[CV 9/50] END max_depth=10; balanced_accuracy: (test=0.705) recall: (test=0.500) roc_auc: (test=0.697) total time=   0.0s\n",
      "[CV 36/50] END max_depth=10; balanced_accuracy: (test=0.766) recall: (test=0.600) roc_auc: (test=0.766) total time=   0.0s\n",
      "[CV 21/50] END max_depth=10; balanced_accuracy: (test=0.766) recall: (test=0.643) roc_auc: (test=0.820) total time=   0.1s\n",
      "[CV 46/50] END max_depth=10; balanced_accuracy: (test=0.700) recall: (test=0.467) roc_auc: (test=0.729) total time=   0.0s\n",
      "[CV 19/50] END max_depth=9; balanced_accuracy: (test=0.645) recall: (test=0.357) roc_auc: (test=0.612) total time=   0.0s\n",
      "[CV 45/50] END max_depth=10; balanced_accuracy: (test=0.730) recall: (test=0.571) roc_auc: (test=0.704) total time=   0.0s\n",
      "[CV 34/50] END max_depth=9; balanced_accuracy: (test=0.799) recall: (test=0.643) roc_auc: (test=0.787) total time=   0.0s[CV 47/50] END max_depth=10; balanced_accuracy: (test=0.666) recall: (test=0.400) roc_auc: (test=0.689) total time=   0.0s\n",
      "\n",
      "[CV 15/50] END max_depth=10; balanced_accuracy: (test=0.664) recall: (test=0.429) roc_auc: (test=0.679) total time=   0.0s\n",
      "[CV 10/50] END max_depth=10; balanced_accuracy: (test=0.656) recall: (test=0.357) roc_auc: (test=0.670) total time=   0.0s\n",
      "[CV 49/50] END max_depth=9; balanced_accuracy: (test=0.741) recall: (test=0.571) roc_auc: (test=0.802) total time=   0.0s\n",
      "[CV 48/50] END max_depth=10; balanced_accuracy: (test=0.741) recall: (test=0.571) roc_auc: (test=0.734) total time=   0.0s\n",
      "[CV 22/50] END max_depth=10; balanced_accuracy: (test=0.771) recall: (test=0.643) roc_auc: (test=0.743) total time=   0.0s\n",
      "[CV 37/50] END max_depth=10; balanced_accuracy: (test=0.749) recall: (test=0.600) roc_auc: (test=0.761) total time=   0.0s\n",
      "[CV 49/50] END max_depth=10; balanced_accuracy: (test=0.741) recall: (test=0.571) roc_auc: (test=0.800) total time=   0.0s\n",
      "[CV 30/50] END max_depth=10; balanced_accuracy: (test=0.671) recall: (test=0.500) roc_auc: (test=0.751) total time=   0.0s\n",
      "[CV 12/50] END max_depth=9; balanced_accuracy: (test=0.829) recall: (test=0.714) roc_auc: (test=0.862) total time=   0.0s\n",
      "[CV 50/50] END max_depth=10; balanced_accuracy: (test=0.758) recall: (test=0.571) roc_auc: (test=0.819) total time=   0.0s\n",
      "[CV 20/50] END max_depth=9; balanced_accuracy: (test=0.711) recall: (test=0.500) roc_auc: (test=0.650) total time=   0.0s\n",
      "[CV 1/50] END max_depth=11; balanced_accuracy: (test=0.794) recall: (test=0.643) roc_auc: (test=0.792) total time=   0.0s\n",
      "[CV 16/50] END max_depth=10; balanced_accuracy: (test=0.588) recall: (test=0.267) roc_auc: (test=0.635) total time=   0.0s\n",
      "[CV 35/50] END max_depth=9; balanced_accuracy: (test=0.700) recall: (test=0.500) roc_auc: (test=0.683) total time=   0.0s\n",
      "[CV 2/50] END max_depth=11; balanced_accuracy: (test=0.917) recall: (test=0.857) roc_auc: (test=0.910) total time=   0.0s\n",
      "[CV 23/50] END max_depth=10; balanced_accuracy: (test=0.670) recall: (test=0.429) roc_auc: (test=0.665) total time=   0.0s\n",
      "[CV 50/50] END max_depth=9; balanced_accuracy: (test=0.746) recall: (test=0.571) roc_auc: (test=0.841) total time=   0.0s\n",
      "[CV 31/50] END max_depth=10; balanced_accuracy: (test=0.722) recall: (test=0.500) roc_auc: (test=0.858) total time=   0.0s\n",
      "[CV 38/50] END max_depth=10; balanced_accuracy: (test=0.675) recall: (test=0.429) roc_auc: (test=0.705) total time=   0.0s\n",
      "[CV 3/50] END max_depth=11; balanced_accuracy: (test=0.790) recall: (test=0.714) roc_auc: (test=0.778) total time=   0.0s\n",
      "[CV 4/50] END max_depth=11; balanced_accuracy: (test=0.722) recall: (test=0.500) roc_auc: (test=0.730) total time=   0.0s\n",
      "[CV 17/50] END max_depth=10; balanced_accuracy: (test=0.733) recall: (test=0.533) roc_auc: (test=0.749) total time=   0.0s\n",
      "[CV 6/50] END max_depth=11; balanced_accuracy: (test=0.660) recall: (test=0.467) roc_auc: (test=0.659) total time=   0.0s\n",
      "[CV 36/50] END max_depth=9; balanced_accuracy: (test=0.750) recall: (test=0.533) roc_auc: (test=0.745) total time=   0.0s[CV 5/50] END max_depth=11; balanced_accuracy: (test=0.617) recall: (test=0.357) roc_auc: (test=0.596) total time=   0.0s\n",
      "\n",
      "[CV 7/50] END max_depth=11; balanced_accuracy: (test=0.766) recall: (test=0.600) roc_auc: (test=0.762) total time=   0.0s\n",
      "[CV 24/50] END max_depth=10; balanced_accuracy: (test=0.632) recall: (test=0.286) roc_auc: (test=0.813) total time=   0.0s\n",
      "[CV 8/50] END max_depth=11; balanced_accuracy: (test=0.699) recall: (test=0.500) roc_auc: (test=0.730) total time=   0.0s\n",
      "[CV 9/50] END max_depth=11; balanced_accuracy: (test=0.694) recall: (test=0.500) roc_auc: (test=0.680) total time=   0.0s\n",
      "[CV 39/50] END max_depth=10; balanced_accuracy: (test=0.746) recall: (test=0.571) roc_auc: (test=0.783) total time=   0.0s[CV 32/50] END max_depth=10; balanced_accuracy: (test=0.763) recall: (test=0.571) roc_auc: (test=0.687) total time=   0.0s[CV 1/50] END max_depth=10; balanced_accuracy: (test=0.777) recall: (test=0.643) roc_auc: (test=0.751) total time=   0.0s\n",
      "\n",
      "\n",
      "[CV 18/50] END max_depth=10; balanced_accuracy: (test=0.765) recall: (test=0.643) roc_auc: (test=0.782) total time=   0.0s\n",
      "[CV 10/50] END max_depth=11; balanced_accuracy: (test=0.722) recall: (test=0.500) roc_auc: (test=0.729) total time=   0.0s\n",
      "[CV 12/50] END max_depth=11; balanced_accuracy: (test=0.824) recall: (test=0.714) roc_auc: (test=0.843) total time=   0.0s\n",
      "[CV 25/50] END max_depth=10; balanced_accuracy: (test=0.670) recall: (test=0.429) roc_auc: (test=0.703) total time=   0.0s\n",
      "[CV 11/50] END max_depth=11; balanced_accuracy: (test=0.882) recall: (test=0.786) roc_auc: (test=0.860) total time=   0.0s\n",
      "[CV 15/50] END max_depth=11; balanced_accuracy: (test=0.700) recall: (test=0.500) roc_auc: (test=0.736) total time=   0.0s\n",
      "[CV 14/50] END max_depth=11; balanced_accuracy: (test=0.747) recall: (test=0.571) roc_auc: (test=0.777) total time=   0.0s\n",
      "[CV 13/50] END max_depth=11; balanced_accuracy: (test=0.587) recall: (test=0.286) roc_auc: (test=0.595) total time=   0.0s\n",
      "[CV 16/50] END max_depth=11; balanced_accuracy: (test=0.655) recall: (test=0.400) roc_auc: (test=0.675) total time=   0.0s[CV 40/50] END max_depth=10; balanced_accuracy: (test=0.634) recall: (test=0.357) roc_auc: (test=0.699) total time=   0.0s\n",
      "\n",
      "[CV 33/50] END max_depth=10; balanced_accuracy: (test=0.706) recall: (test=0.500) roc_auc: (test=0.742) total time=   0.0s\n",
      "[CV 2/50] END max_depth=10; balanced_accuracy: (test=0.912) recall: (test=0.857) roc_auc: (test=0.902) total time=   0.0s\n",
      "[CV 18/50] END max_depth=11; balanced_accuracy: (test=0.790) recall: (test=0.714) roc_auc: (test=0.778) total time=   0.0s\n",
      "[CV 26/50] END max_depth=10; balanced_accuracy: (test=0.655) recall: (test=0.400) roc_auc: (test=0.694) total time=   0.0s\n",
      "[CV 17/50] END max_depth=11; balanced_accuracy: (test=0.644) recall: (test=0.400) roc_auc: (test=0.644) total time=   0.0s\n",
      "[CV 20/50] END max_depth=11; balanced_accuracy: (test=0.752) recall: (test=0.571) roc_auc: (test=0.750) total time=   0.0s[CV 19/50] END max_depth=11; balanced_accuracy: (test=0.628) recall: (test=0.357) roc_auc: (test=0.619) total time=   0.0s\n",
      "\n",
      "[CV 34/50] END max_depth=10; balanced_accuracy: (test=0.799) recall: (test=0.643) roc_auc: (test=0.806) total time=   0.0s\n",
      "[CV 41/50] END max_depth=10; balanced_accuracy: (test=0.728) recall: (test=0.500) roc_auc: (test=0.759) total time=   0.0s\n",
      "[CV 21/50] END max_depth=11; balanced_accuracy: (test=0.766) recall: (test=0.643) roc_auc: (test=0.825) total time=   0.0s\n",
      "[CV 23/50] END max_depth=11; balanced_accuracy: (test=0.670) recall: (test=0.429) roc_auc: (test=0.660) total time=   0.0s\n",
      "[CV 22/50] END max_depth=11; balanced_accuracy: (test=0.771) recall: (test=0.643) roc_auc: (test=0.758) total time=   0.0s\n",
      "[CV 24/50] END max_depth=11; balanced_accuracy: (test=0.703) recall: (test=0.429) roc_auc: (test=0.789) total time=   0.0s\n",
      "[CV 25/50] END max_depth=11; balanced_accuracy: (test=0.670) recall: (test=0.429) roc_auc: (test=0.670) total time=   0.0s\n",
      "[CV 26/50] END max_depth=11; balanced_accuracy: (test=0.610) recall: (test=0.333) roc_auc: (test=0.581) total time=   0.0s\n",
      "[CV 28/50] END max_depth=11; balanced_accuracy: (test=0.692) recall: (test=0.429) roc_auc: (test=0.725) total time=   0.0s\n",
      "[CV 27/50] END max_depth=11; balanced_accuracy: (test=0.661) recall: (test=0.400) roc_auc: (test=0.691) total time=   0.0s\n",
      "[CV 29/50] END max_depth=11; balanced_accuracy: (test=0.688) recall: (test=0.500) roc_auc: (test=0.695) total time=   0.0s\n",
      "[CV 31/50] END max_depth=11; balanced_accuracy: (test=0.771) recall: (test=0.643) roc_auc: (test=0.771) total time=   0.0s\n",
      "[CV 33/50] END max_depth=11; balanced_accuracy: (test=0.706) recall: (test=0.500) roc_auc: (test=0.742) total time=   0.0s\n",
      "[CV 42/50] END max_depth=10; balanced_accuracy: (test=0.689) recall: (test=0.500) roc_auc: (test=0.661) total time=   0.0s[CV 30/50] END max_depth=11; balanced_accuracy: (test=0.701) recall: (test=0.571) roc_auc: (test=0.687) total time=   0.0s\n",
      "\n",
      "[CV 32/50] END max_depth=11; balanced_accuracy: (test=0.763) recall: (test=0.571) roc_auc: (test=0.735) total time=   0.0s\n",
      "[CV 34/50] END max_depth=11; balanced_accuracy: (test=0.763) recall: (test=0.571) roc_auc: (test=0.782) total time=   0.0s\n",
      "[CV 36/50] END max_depth=11; balanced_accuracy: (test=0.778) recall: (test=0.600) roc_auc: (test=0.778) total time=   0.0s\n",
      "[CV 35/50] END max_depth=11; balanced_accuracy: (test=0.771) recall: (test=0.643) roc_auc: (test=0.786) total time=   0.0s\n",
      "[CV 38/50] END max_depth=11; balanced_accuracy: (test=0.664) recall: (test=0.429) roc_auc: (test=0.707) total time=   0.0s\n",
      "[CV 39/50] END max_depth=11; balanced_accuracy: (test=0.788) recall: (test=0.643) roc_auc: (test=0.819) total time=   0.0s\n",
      "[CV 37/50] END max_depth=11; balanced_accuracy: (test=0.716) recall: (test=0.533) roc_auc: (test=0.730) total time=   0.0s\n",
      "[CV 41/50] END max_depth=11; balanced_accuracy: (test=0.728) recall: (test=0.500) roc_auc: (test=0.728) total time=   0.0s\n",
      "[CV 40/50] END max_depth=11; balanced_accuracy: (test=0.669) recall: (test=0.429) roc_auc: (test=0.687) total time=   0.0s\n",
      "[CV 44/50] END max_depth=11; balanced_accuracy: (test=0.675) recall: (test=0.429) roc_auc: (test=0.649) total time=   0.0s\n",
      "[CV 43/50] END max_depth=11; balanced_accuracy: (test=0.711) recall: (test=0.500) roc_auc: (test=0.736) total time=   0.0s\n",
      "[CV 45/50] END max_depth=11; balanced_accuracy: (test=0.730) recall: (test=0.571) roc_auc: (test=0.704) total time=   0.0s\n",
      "[CV 42/50] END max_depth=11; balanced_accuracy: (test=0.683) recall: (test=0.500) roc_auc: (test=0.658) total time=   0.0s\n",
      "[CV 46/50] END max_depth=11; balanced_accuracy: (test=0.727) recall: (test=0.533) roc_auc: (test=0.734) total time=   0.0s\n",
      "[CV 47/50] END max_depth=11; balanced_accuracy: (test=0.627) recall: (test=0.333) roc_auc: (test=0.651) total time=   0.0s\n",
      "[CV 48/50] END max_depth=11; balanced_accuracy: (test=0.711) recall: (test=0.500) roc_auc: (test=0.722) total time=   0.0s\n",
      "[CV 49/50] END max_depth=11; balanced_accuracy: (test=0.735) recall: (test=0.571) roc_auc: (test=0.794) total time=   0.0s\n",
      "[CV 50/50] END max_depth=11; balanced_accuracy: (test=0.741) recall: (test=0.571) roc_auc: (test=0.832) total time=   0.0s\n"
     ]
    }
   ],
   "source": [
    "#Step 3: Train the Model\n",
    "\n",
    "#Classifier model we will use\n",
    "cl= DecisionTreeClassifier(random_state=1000, criterion='gini')\n",
    "\n",
    "#Set up search for best decisiontreeclassifier estimator across all of our folds based on roc_auc\n",
    "search = GridSearchCV(cl, param, scoring=scoring, n_jobs=-1, cv=kf,refit='roc_auc', verbose=3)\n",
    "\n",
    "# we would change the cl and the param if we were using this for a different type of model\n",
    "#execute search on our training data, this may take a few seconds ...\n",
    "model = search.fit(X_train, y_train)"
   ]
  },
  {
   "cell_type": "markdown",
   "metadata": {},
   "source": [
    "## Let's see how we did"
   ]
  },
  {
   "cell_type": "code",
   "execution_count": null,
   "metadata": {},
   "outputs": [
    {
     "name": "stdout",
     "output_type": "stream",
     "text": [
      "DecisionTreeClassifier(max_depth=5, random_state=1000)\n"
     ]
    }
   ],
   "source": [
    "#Retrieve the best estimator out of all parameters passed, based on highest roc_auc\n",
    "best = model.best_estimator_\n",
    "print(best) #depth of 5, good"
   ]
  },
  {
   "cell_type": "code",
   "execution_count": null,
   "metadata": {},
   "outputs": [
    {
     "ename": "ExecutableNotFound",
     "evalue": "failed to execute PosixPath('dot'), make sure the Graphviz executables are on your systems' PATH",
     "output_type": "error",
     "traceback": [
      "\u001b[0;31m---------------------------------------------------------------------------\u001b[0m",
      "\u001b[0;31mFileNotFoundError\u001b[0m                         Traceback (most recent call last)",
      "File \u001b[0;32m~/.local/lib/python3.12/site-packages/graphviz/backend/execute.py:76\u001b[0m, in \u001b[0;36mrun_check\u001b[0;34m(cmd, input_lines, encoding, quiet, **kwargs)\u001b[0m\n\u001b[1;32m     75\u001b[0m         kwargs[\u001b[38;5;124m'\u001b[39m\u001b[38;5;124mstdout\u001b[39m\u001b[38;5;124m'\u001b[39m] \u001b[38;5;241m=\u001b[39m kwargs[\u001b[38;5;124m'\u001b[39m\u001b[38;5;124mstderr\u001b[39m\u001b[38;5;124m'\u001b[39m] \u001b[38;5;241m=\u001b[39m subprocess\u001b[38;5;241m.\u001b[39mPIPE\n\u001b[0;32m---> 76\u001b[0m     proc \u001b[38;5;241m=\u001b[39m \u001b[43m_run_input_lines\u001b[49m\u001b[43m(\u001b[49m\u001b[43mcmd\u001b[49m\u001b[43m,\u001b[49m\u001b[43m \u001b[49m\u001b[43minput_lines\u001b[49m\u001b[43m,\u001b[49m\u001b[43m \u001b[49m\u001b[43mkwargs\u001b[49m\u001b[38;5;241;43m=\u001b[39;49m\u001b[43mkwargs\u001b[49m\u001b[43m)\u001b[49m\n\u001b[1;32m     77\u001b[0m \u001b[38;5;28;01melse\u001b[39;00m:\n",
      "File \u001b[0;32m~/.local/lib/python3.12/site-packages/graphviz/backend/execute.py:96\u001b[0m, in \u001b[0;36m_run_input_lines\u001b[0;34m(cmd, input_lines, kwargs)\u001b[0m\n\u001b[1;32m     95\u001b[0m \u001b[38;5;28;01mdef\u001b[39;00m\u001b[38;5;250m \u001b[39m\u001b[38;5;21m_run_input_lines\u001b[39m(cmd, input_lines, \u001b[38;5;241m*\u001b[39m, kwargs):\n\u001b[0;32m---> 96\u001b[0m     popen \u001b[38;5;241m=\u001b[39m \u001b[43msubprocess\u001b[49m\u001b[38;5;241;43m.\u001b[39;49m\u001b[43mPopen\u001b[49m\u001b[43m(\u001b[49m\u001b[43mcmd\u001b[49m\u001b[43m,\u001b[49m\u001b[43m \u001b[49m\u001b[43mstdin\u001b[49m\u001b[38;5;241;43m=\u001b[39;49m\u001b[43msubprocess\u001b[49m\u001b[38;5;241;43m.\u001b[39;49m\u001b[43mPIPE\u001b[49m\u001b[43m,\u001b[49m\u001b[43m \u001b[49m\u001b[38;5;241;43m*\u001b[39;49m\u001b[38;5;241;43m*\u001b[39;49m\u001b[43mkwargs\u001b[49m\u001b[43m)\u001b[49m\n\u001b[1;32m     98\u001b[0m     stdin_write \u001b[38;5;241m=\u001b[39m popen\u001b[38;5;241m.\u001b[39mstdin\u001b[38;5;241m.\u001b[39mwrite\n",
      "File \u001b[0;32m/usr/local/lib/python3.12/subprocess.py:1026\u001b[0m, in \u001b[0;36mPopen.__init__\u001b[0;34m(self, args, bufsize, executable, stdin, stdout, stderr, preexec_fn, close_fds, shell, cwd, env, universal_newlines, startupinfo, creationflags, restore_signals, start_new_session, pass_fds, user, group, extra_groups, encoding, errors, text, umask, pipesize, process_group)\u001b[0m\n\u001b[1;32m   1023\u001b[0m             \u001b[38;5;28mself\u001b[39m\u001b[38;5;241m.\u001b[39mstderr \u001b[38;5;241m=\u001b[39m io\u001b[38;5;241m.\u001b[39mTextIOWrapper(\u001b[38;5;28mself\u001b[39m\u001b[38;5;241m.\u001b[39mstderr,\n\u001b[1;32m   1024\u001b[0m                     encoding\u001b[38;5;241m=\u001b[39mencoding, errors\u001b[38;5;241m=\u001b[39merrors)\n\u001b[0;32m-> 1026\u001b[0m     \u001b[38;5;28;43mself\u001b[39;49m\u001b[38;5;241;43m.\u001b[39;49m\u001b[43m_execute_child\u001b[49m\u001b[43m(\u001b[49m\u001b[43margs\u001b[49m\u001b[43m,\u001b[49m\u001b[43m \u001b[49m\u001b[43mexecutable\u001b[49m\u001b[43m,\u001b[49m\u001b[43m \u001b[49m\u001b[43mpreexec_fn\u001b[49m\u001b[43m,\u001b[49m\u001b[43m \u001b[49m\u001b[43mclose_fds\u001b[49m\u001b[43m,\u001b[49m\n\u001b[1;32m   1027\u001b[0m \u001b[43m                        \u001b[49m\u001b[43mpass_fds\u001b[49m\u001b[43m,\u001b[49m\u001b[43m \u001b[49m\u001b[43mcwd\u001b[49m\u001b[43m,\u001b[49m\u001b[43m \u001b[49m\u001b[43menv\u001b[49m\u001b[43m,\u001b[49m\n\u001b[1;32m   1028\u001b[0m \u001b[43m                        \u001b[49m\u001b[43mstartupinfo\u001b[49m\u001b[43m,\u001b[49m\u001b[43m \u001b[49m\u001b[43mcreationflags\u001b[49m\u001b[43m,\u001b[49m\u001b[43m \u001b[49m\u001b[43mshell\u001b[49m\u001b[43m,\u001b[49m\n\u001b[1;32m   1029\u001b[0m \u001b[43m                        \u001b[49m\u001b[43mp2cread\u001b[49m\u001b[43m,\u001b[49m\u001b[43m \u001b[49m\u001b[43mp2cwrite\u001b[49m\u001b[43m,\u001b[49m\n\u001b[1;32m   1030\u001b[0m \u001b[43m                        \u001b[49m\u001b[43mc2pread\u001b[49m\u001b[43m,\u001b[49m\u001b[43m \u001b[49m\u001b[43mc2pwrite\u001b[49m\u001b[43m,\u001b[49m\n\u001b[1;32m   1031\u001b[0m \u001b[43m                        \u001b[49m\u001b[43merrread\u001b[49m\u001b[43m,\u001b[49m\u001b[43m \u001b[49m\u001b[43merrwrite\u001b[49m\u001b[43m,\u001b[49m\n\u001b[1;32m   1032\u001b[0m \u001b[43m                        \u001b[49m\u001b[43mrestore_signals\u001b[49m\u001b[43m,\u001b[49m\n\u001b[1;32m   1033\u001b[0m \u001b[43m                        \u001b[49m\u001b[43mgid\u001b[49m\u001b[43m,\u001b[49m\u001b[43m \u001b[49m\u001b[43mgids\u001b[49m\u001b[43m,\u001b[49m\u001b[43m \u001b[49m\u001b[43muid\u001b[49m\u001b[43m,\u001b[49m\u001b[43m \u001b[49m\u001b[43mumask\u001b[49m\u001b[43m,\u001b[49m\n\u001b[1;32m   1034\u001b[0m \u001b[43m                        \u001b[49m\u001b[43mstart_new_session\u001b[49m\u001b[43m,\u001b[49m\u001b[43m \u001b[49m\u001b[43mprocess_group\u001b[49m\u001b[43m)\u001b[49m\n\u001b[1;32m   1035\u001b[0m \u001b[38;5;28;01mexcept\u001b[39;00m:\n\u001b[1;32m   1036\u001b[0m     \u001b[38;5;66;03m# Cleanup if the child failed starting.\u001b[39;00m\n",
      "File \u001b[0;32m/usr/local/lib/python3.12/subprocess.py:1955\u001b[0m, in \u001b[0;36mPopen._execute_child\u001b[0;34m(self, args, executable, preexec_fn, close_fds, pass_fds, cwd, env, startupinfo, creationflags, shell, p2cread, p2cwrite, c2pread, c2pwrite, errread, errwrite, restore_signals, gid, gids, uid, umask, start_new_session, process_group)\u001b[0m\n\u001b[1;32m   1954\u001b[0m \u001b[38;5;28;01mif\u001b[39;00m err_filename \u001b[38;5;129;01mis\u001b[39;00m \u001b[38;5;129;01mnot\u001b[39;00m \u001b[38;5;28;01mNone\u001b[39;00m:\n\u001b[0;32m-> 1955\u001b[0m     \u001b[38;5;28;01mraise\u001b[39;00m child_exception_type(errno_num, err_msg, err_filename)\n\u001b[1;32m   1956\u001b[0m \u001b[38;5;28;01melse\u001b[39;00m:\n",
      "\u001b[0;31mFileNotFoundError\u001b[0m: [Errno 2] No such file or directory: PosixPath('dot')",
      "\nThe above exception was the direct cause of the following exception:\n",
      "\u001b[0;31mExecutableNotFound\u001b[0m                        Traceback (most recent call last)",
      "File \u001b[0;32m~/.local/lib/python3.12/site-packages/IPython/core/formatters.py:1036\u001b[0m, in \u001b[0;36mMimeBundleFormatter.__call__\u001b[0;34m(self, obj, include, exclude)\u001b[0m\n\u001b[1;32m   1033\u001b[0m     method \u001b[38;5;241m=\u001b[39m get_real_method(obj, \u001b[38;5;28mself\u001b[39m\u001b[38;5;241m.\u001b[39mprint_method)\n\u001b[1;32m   1035\u001b[0m     \u001b[38;5;28;01mif\u001b[39;00m method \u001b[38;5;129;01mis\u001b[39;00m \u001b[38;5;129;01mnot\u001b[39;00m \u001b[38;5;28;01mNone\u001b[39;00m:\n\u001b[0;32m-> 1036\u001b[0m         \u001b[38;5;28;01mreturn\u001b[39;00m \u001b[43mmethod\u001b[49m\u001b[43m(\u001b[49m\u001b[43minclude\u001b[49m\u001b[38;5;241;43m=\u001b[39;49m\u001b[43minclude\u001b[49m\u001b[43m,\u001b[49m\u001b[43m \u001b[49m\u001b[43mexclude\u001b[49m\u001b[38;5;241;43m=\u001b[39;49m\u001b[43mexclude\u001b[49m\u001b[43m)\u001b[49m\n\u001b[1;32m   1037\u001b[0m     \u001b[38;5;28;01mreturn\u001b[39;00m \u001b[38;5;28;01mNone\u001b[39;00m\n\u001b[1;32m   1038\u001b[0m \u001b[38;5;28;01melse\u001b[39;00m:\n",
      "File \u001b[0;32m~/.local/lib/python3.12/site-packages/graphviz/jupyter_integration.py:98\u001b[0m, in \u001b[0;36mJupyterIntegration._repr_mimebundle_\u001b[0;34m(self, include, exclude, **_)\u001b[0m\n\u001b[1;32m     96\u001b[0m include \u001b[38;5;241m=\u001b[39m \u001b[38;5;28mset\u001b[39m(include) \u001b[38;5;28;01mif\u001b[39;00m include \u001b[38;5;129;01mis\u001b[39;00m \u001b[38;5;129;01mnot\u001b[39;00m \u001b[38;5;28;01mNone\u001b[39;00m \u001b[38;5;28;01melse\u001b[39;00m {\u001b[38;5;28mself\u001b[39m\u001b[38;5;241m.\u001b[39m_jupyter_mimetype}\n\u001b[1;32m     97\u001b[0m include \u001b[38;5;241m-\u001b[39m\u001b[38;5;241m=\u001b[39m \u001b[38;5;28mset\u001b[39m(exclude \u001b[38;5;129;01mor\u001b[39;00m [])\n\u001b[0;32m---> 98\u001b[0m \u001b[38;5;28;01mreturn\u001b[39;00m {mimetype: \u001b[38;5;28;43mgetattr\u001b[39;49m\u001b[43m(\u001b[49m\u001b[38;5;28;43mself\u001b[39;49m\u001b[43m,\u001b[49m\u001b[43m \u001b[49m\u001b[43mmethod_name\u001b[49m\u001b[43m)\u001b[49m\u001b[43m(\u001b[49m\u001b[43m)\u001b[49m\n\u001b[1;32m     99\u001b[0m         \u001b[38;5;28;01mfor\u001b[39;00m mimetype, method_name \u001b[38;5;129;01min\u001b[39;00m MIME_TYPES\u001b[38;5;241m.\u001b[39mitems()\n\u001b[1;32m    100\u001b[0m         \u001b[38;5;28;01mif\u001b[39;00m mimetype \u001b[38;5;129;01min\u001b[39;00m include}\n",
      "File \u001b[0;32m~/.local/lib/python3.12/site-packages/graphviz/jupyter_integration.py:112\u001b[0m, in \u001b[0;36mJupyterIntegration._repr_image_svg_xml\u001b[0;34m(self)\u001b[0m\n\u001b[1;32m    110\u001b[0m \u001b[38;5;28;01mdef\u001b[39;00m\u001b[38;5;250m \u001b[39m\u001b[38;5;21m_repr_image_svg_xml\u001b[39m(\u001b[38;5;28mself\u001b[39m) \u001b[38;5;241m-\u001b[39m\u001b[38;5;241m>\u001b[39m \u001b[38;5;28mstr\u001b[39m:\n\u001b[1;32m    111\u001b[0m \u001b[38;5;250m    \u001b[39m\u001b[38;5;124;03m\"\"\"Return the rendered graph as SVG string.\"\"\"\u001b[39;00m\n\u001b[0;32m--> 112\u001b[0m     \u001b[38;5;28;01mreturn\u001b[39;00m \u001b[38;5;28;43mself\u001b[39;49m\u001b[38;5;241;43m.\u001b[39;49m\u001b[43mpipe\u001b[49m\u001b[43m(\u001b[49m\u001b[38;5;28;43mformat\u001b[39;49m\u001b[38;5;241;43m=\u001b[39;49m\u001b[38;5;124;43m'\u001b[39;49m\u001b[38;5;124;43msvg\u001b[39;49m\u001b[38;5;124;43m'\u001b[39;49m\u001b[43m,\u001b[49m\u001b[43m \u001b[49m\u001b[43mencoding\u001b[49m\u001b[38;5;241;43m=\u001b[39;49m\u001b[43mSVG_ENCODING\u001b[49m\u001b[43m)\u001b[49m\n",
      "File \u001b[0;32m~/.local/lib/python3.12/site-packages/graphviz/piping.py:104\u001b[0m, in \u001b[0;36mPipe.pipe\u001b[0;34m(self, format, renderer, formatter, neato_no_op, quiet, engine, encoding)\u001b[0m\n\u001b[1;32m     55\u001b[0m \u001b[38;5;28;01mdef\u001b[39;00m\u001b[38;5;250m \u001b[39m\u001b[38;5;21mpipe\u001b[39m(\u001b[38;5;28mself\u001b[39m,\n\u001b[1;32m     56\u001b[0m          \u001b[38;5;28mformat\u001b[39m: typing\u001b[38;5;241m.\u001b[39mOptional[\u001b[38;5;28mstr\u001b[39m] \u001b[38;5;241m=\u001b[39m \u001b[38;5;28;01mNone\u001b[39;00m,\n\u001b[1;32m     57\u001b[0m          renderer: typing\u001b[38;5;241m.\u001b[39mOptional[\u001b[38;5;28mstr\u001b[39m] \u001b[38;5;241m=\u001b[39m \u001b[38;5;28;01mNone\u001b[39;00m,\n\u001b[0;32m   (...)\u001b[0m\n\u001b[1;32m     61\u001b[0m          engine: typing\u001b[38;5;241m.\u001b[39mOptional[\u001b[38;5;28mstr\u001b[39m] \u001b[38;5;241m=\u001b[39m \u001b[38;5;28;01mNone\u001b[39;00m,\n\u001b[1;32m     62\u001b[0m          encoding: typing\u001b[38;5;241m.\u001b[39mOptional[\u001b[38;5;28mstr\u001b[39m] \u001b[38;5;241m=\u001b[39m \u001b[38;5;28;01mNone\u001b[39;00m) \u001b[38;5;241m-\u001b[39m\u001b[38;5;241m>\u001b[39m typing\u001b[38;5;241m.\u001b[39mUnion[\u001b[38;5;28mbytes\u001b[39m, \u001b[38;5;28mstr\u001b[39m]:\n\u001b[1;32m     63\u001b[0m \u001b[38;5;250m    \u001b[39m\u001b[38;5;124;03m\"\"\"Return the source piped through the Graphviz layout command.\u001b[39;00m\n\u001b[1;32m     64\u001b[0m \n\u001b[1;32m     65\u001b[0m \u001b[38;5;124;03m    Args:\u001b[39;00m\n\u001b[0;32m   (...)\u001b[0m\n\u001b[1;32m    102\u001b[0m \u001b[38;5;124;03m        '<?xml version='\u001b[39;00m\n\u001b[1;32m    103\u001b[0m \u001b[38;5;124;03m    \"\"\"\u001b[39;00m\n\u001b[0;32m--> 104\u001b[0m     \u001b[38;5;28;01mreturn\u001b[39;00m \u001b[38;5;28;43mself\u001b[39;49m\u001b[38;5;241;43m.\u001b[39;49m\u001b[43m_pipe_legacy\u001b[49m\u001b[43m(\u001b[49m\u001b[38;5;28;43mformat\u001b[39;49m\u001b[43m,\u001b[49m\n\u001b[1;32m    105\u001b[0m \u001b[43m                             \u001b[49m\u001b[43mrenderer\u001b[49m\u001b[38;5;241;43m=\u001b[39;49m\u001b[43mrenderer\u001b[49m\u001b[43m,\u001b[49m\n\u001b[1;32m    106\u001b[0m \u001b[43m                             \u001b[49m\u001b[43mformatter\u001b[49m\u001b[38;5;241;43m=\u001b[39;49m\u001b[43mformatter\u001b[49m\u001b[43m,\u001b[49m\n\u001b[1;32m    107\u001b[0m \u001b[43m                             \u001b[49m\u001b[43mneato_no_op\u001b[49m\u001b[38;5;241;43m=\u001b[39;49m\u001b[43mneato_no_op\u001b[49m\u001b[43m,\u001b[49m\n\u001b[1;32m    108\u001b[0m \u001b[43m                             \u001b[49m\u001b[43mquiet\u001b[49m\u001b[38;5;241;43m=\u001b[39;49m\u001b[43mquiet\u001b[49m\u001b[43m,\u001b[49m\n\u001b[1;32m    109\u001b[0m \u001b[43m                             \u001b[49m\u001b[43mengine\u001b[49m\u001b[38;5;241;43m=\u001b[39;49m\u001b[43mengine\u001b[49m\u001b[43m,\u001b[49m\n\u001b[1;32m    110\u001b[0m \u001b[43m                             \u001b[49m\u001b[43mencoding\u001b[49m\u001b[38;5;241;43m=\u001b[39;49m\u001b[43mencoding\u001b[49m\u001b[43m)\u001b[49m\n",
      "File \u001b[0;32m~/.local/lib/python3.12/site-packages/graphviz/_tools.py:171\u001b[0m, in \u001b[0;36mdeprecate_positional_args.<locals>.decorator.<locals>.wrapper\u001b[0;34m(*args, **kwargs)\u001b[0m\n\u001b[1;32m    162\u001b[0m     wanted \u001b[38;5;241m=\u001b[39m \u001b[38;5;124m'\u001b[39m\u001b[38;5;124m, \u001b[39m\u001b[38;5;124m'\u001b[39m\u001b[38;5;241m.\u001b[39mjoin(\u001b[38;5;124mf\u001b[39m\u001b[38;5;124m'\u001b[39m\u001b[38;5;132;01m{\u001b[39;00mname\u001b[38;5;132;01m}\u001b[39;00m\u001b[38;5;124m=\u001b[39m\u001b[38;5;132;01m{\u001b[39;00mvalue\u001b[38;5;132;01m!r}\u001b[39;00m\u001b[38;5;124m'\u001b[39m\n\u001b[1;32m    163\u001b[0m                        \u001b[38;5;28;01mfor\u001b[39;00m name, value \u001b[38;5;129;01min\u001b[39;00m deprecated\u001b[38;5;241m.\u001b[39mitems())\n\u001b[1;32m    164\u001b[0m     warnings\u001b[38;5;241m.\u001b[39mwarn(\u001b[38;5;124mf\u001b[39m\u001b[38;5;124m'\u001b[39m\u001b[38;5;124mThe signature of \u001b[39m\u001b[38;5;132;01m{\u001b[39;00mfunc\u001b[38;5;241m.\u001b[39m\u001b[38;5;18m__name__\u001b[39m\u001b[38;5;132;01m}\u001b[39;00m\u001b[38;5;124m will be reduced\u001b[39m\u001b[38;5;124m'\u001b[39m\n\u001b[1;32m    165\u001b[0m                   \u001b[38;5;124mf\u001b[39m\u001b[38;5;124m'\u001b[39m\u001b[38;5;124m to \u001b[39m\u001b[38;5;132;01m{\u001b[39;00msupported_number\u001b[38;5;132;01m}\u001b[39;00m\u001b[38;5;124m positional args\u001b[39m\u001b[38;5;124m'\u001b[39m\n\u001b[1;32m    166\u001b[0m                   \u001b[38;5;124mf\u001b[39m\u001b[38;5;124m'\u001b[39m\u001b[38;5;124m \u001b[39m\u001b[38;5;132;01m{\u001b[39;00m\u001b[38;5;28mlist\u001b[39m(supported)\u001b[38;5;132;01m}\u001b[39;00m\u001b[38;5;124m: pass \u001b[39m\u001b[38;5;132;01m{\u001b[39;00mwanted\u001b[38;5;132;01m}\u001b[39;00m\u001b[38;5;124m'\u001b[39m\n\u001b[1;32m    167\u001b[0m                   \u001b[38;5;124m'\u001b[39m\u001b[38;5;124m as keyword arg(s)\u001b[39m\u001b[38;5;124m'\u001b[39m,\n\u001b[1;32m    168\u001b[0m                   stacklevel\u001b[38;5;241m=\u001b[39mstacklevel,\n\u001b[1;32m    169\u001b[0m                   category\u001b[38;5;241m=\u001b[39mcategory)\n\u001b[0;32m--> 171\u001b[0m \u001b[38;5;28;01mreturn\u001b[39;00m \u001b[43mfunc\u001b[49m\u001b[43m(\u001b[49m\u001b[38;5;241;43m*\u001b[39;49m\u001b[43margs\u001b[49m\u001b[43m,\u001b[49m\u001b[43m \u001b[49m\u001b[38;5;241;43m*\u001b[39;49m\u001b[38;5;241;43m*\u001b[39;49m\u001b[43mkwargs\u001b[49m\u001b[43m)\u001b[49m\n",
      "File \u001b[0;32m~/.local/lib/python3.12/site-packages/graphviz/piping.py:121\u001b[0m, in \u001b[0;36mPipe._pipe_legacy\u001b[0;34m(self, format, renderer, formatter, neato_no_op, quiet, engine, encoding)\u001b[0m\n\u001b[1;32m    112\u001b[0m \u001b[38;5;129m@_tools\u001b[39m\u001b[38;5;241m.\u001b[39mdeprecate_positional_args(supported_number\u001b[38;5;241m=\u001b[39m\u001b[38;5;241m2\u001b[39m)\n\u001b[1;32m    113\u001b[0m \u001b[38;5;28;01mdef\u001b[39;00m\u001b[38;5;250m \u001b[39m\u001b[38;5;21m_pipe_legacy\u001b[39m(\u001b[38;5;28mself\u001b[39m,\n\u001b[1;32m    114\u001b[0m                  \u001b[38;5;28mformat\u001b[39m: typing\u001b[38;5;241m.\u001b[39mOptional[\u001b[38;5;28mstr\u001b[39m] \u001b[38;5;241m=\u001b[39m \u001b[38;5;28;01mNone\u001b[39;00m,\n\u001b[0;32m   (...)\u001b[0m\n\u001b[1;32m    119\u001b[0m                  engine: typing\u001b[38;5;241m.\u001b[39mOptional[\u001b[38;5;28mstr\u001b[39m] \u001b[38;5;241m=\u001b[39m \u001b[38;5;28;01mNone\u001b[39;00m,\n\u001b[1;32m    120\u001b[0m                  encoding: typing\u001b[38;5;241m.\u001b[39mOptional[\u001b[38;5;28mstr\u001b[39m] \u001b[38;5;241m=\u001b[39m \u001b[38;5;28;01mNone\u001b[39;00m) \u001b[38;5;241m-\u001b[39m\u001b[38;5;241m>\u001b[39m typing\u001b[38;5;241m.\u001b[39mUnion[\u001b[38;5;28mbytes\u001b[39m, \u001b[38;5;28mstr\u001b[39m]:\n\u001b[0;32m--> 121\u001b[0m     \u001b[38;5;28;01mreturn\u001b[39;00m \u001b[38;5;28;43mself\u001b[39;49m\u001b[38;5;241;43m.\u001b[39;49m\u001b[43m_pipe_future\u001b[49m\u001b[43m(\u001b[49m\u001b[38;5;28;43mformat\u001b[39;49m\u001b[43m,\u001b[49m\n\u001b[1;32m    122\u001b[0m \u001b[43m                             \u001b[49m\u001b[43mrenderer\u001b[49m\u001b[38;5;241;43m=\u001b[39;49m\u001b[43mrenderer\u001b[49m\u001b[43m,\u001b[49m\n\u001b[1;32m    123\u001b[0m \u001b[43m                             \u001b[49m\u001b[43mformatter\u001b[49m\u001b[38;5;241;43m=\u001b[39;49m\u001b[43mformatter\u001b[49m\u001b[43m,\u001b[49m\n\u001b[1;32m    124\u001b[0m \u001b[43m                             \u001b[49m\u001b[43mneato_no_op\u001b[49m\u001b[38;5;241;43m=\u001b[39;49m\u001b[43mneato_no_op\u001b[49m\u001b[43m,\u001b[49m\n\u001b[1;32m    125\u001b[0m \u001b[43m                             \u001b[49m\u001b[43mquiet\u001b[49m\u001b[38;5;241;43m=\u001b[39;49m\u001b[43mquiet\u001b[49m\u001b[43m,\u001b[49m\n\u001b[1;32m    126\u001b[0m \u001b[43m                             \u001b[49m\u001b[43mengine\u001b[49m\u001b[38;5;241;43m=\u001b[39;49m\u001b[43mengine\u001b[49m\u001b[43m,\u001b[49m\n\u001b[1;32m    127\u001b[0m \u001b[43m                             \u001b[49m\u001b[43mencoding\u001b[49m\u001b[38;5;241;43m=\u001b[39;49m\u001b[43mencoding\u001b[49m\u001b[43m)\u001b[49m\n",
      "File \u001b[0;32m~/.local/lib/python3.12/site-packages/graphviz/piping.py:149\u001b[0m, in \u001b[0;36mPipe._pipe_future\u001b[0;34m(self, format, renderer, formatter, neato_no_op, quiet, engine, encoding)\u001b[0m\n\u001b[1;32m    146\u001b[0m \u001b[38;5;28;01mif\u001b[39;00m encoding \u001b[38;5;129;01mis\u001b[39;00m \u001b[38;5;129;01mnot\u001b[39;00m \u001b[38;5;28;01mNone\u001b[39;00m:\n\u001b[1;32m    147\u001b[0m     \u001b[38;5;28;01mif\u001b[39;00m codecs\u001b[38;5;241m.\u001b[39mlookup(encoding) \u001b[38;5;129;01mis\u001b[39;00m codecs\u001b[38;5;241m.\u001b[39mlookup(\u001b[38;5;28mself\u001b[39m\u001b[38;5;241m.\u001b[39mencoding):\n\u001b[1;32m    148\u001b[0m         \u001b[38;5;66;03m# common case: both stdin and stdout need the same encoding\u001b[39;00m\n\u001b[0;32m--> 149\u001b[0m         \u001b[38;5;28;01mreturn\u001b[39;00m \u001b[38;5;28;43mself\u001b[39;49m\u001b[38;5;241;43m.\u001b[39;49m\u001b[43m_pipe_lines_string\u001b[49m\u001b[43m(\u001b[49m\u001b[38;5;241;43m*\u001b[39;49m\u001b[43margs\u001b[49m\u001b[43m,\u001b[49m\u001b[43m \u001b[49m\u001b[43mencoding\u001b[49m\u001b[38;5;241;43m=\u001b[39;49m\u001b[43mencoding\u001b[49m\u001b[43m,\u001b[49m\u001b[43m \u001b[49m\u001b[38;5;241;43m*\u001b[39;49m\u001b[38;5;241;43m*\u001b[39;49m\u001b[43mkwargs\u001b[49m\u001b[43m)\u001b[49m\n\u001b[1;32m    150\u001b[0m     \u001b[38;5;28;01mtry\u001b[39;00m:\n\u001b[1;32m    151\u001b[0m         raw \u001b[38;5;241m=\u001b[39m \u001b[38;5;28mself\u001b[39m\u001b[38;5;241m.\u001b[39m_pipe_lines(\u001b[38;5;241m*\u001b[39margs, input_encoding\u001b[38;5;241m=\u001b[39m\u001b[38;5;28mself\u001b[39m\u001b[38;5;241m.\u001b[39mencoding, \u001b[38;5;241m*\u001b[39m\u001b[38;5;241m*\u001b[39mkwargs)\n",
      "File \u001b[0;32m~/.local/lib/python3.12/site-packages/graphviz/backend/piping.py:212\u001b[0m, in \u001b[0;36mpipe_lines_string\u001b[0;34m(engine, format, input_lines, encoding, renderer, formatter, neato_no_op, quiet)\u001b[0m\n\u001b[1;32m    206\u001b[0m cmd \u001b[38;5;241m=\u001b[39m dot_command\u001b[38;5;241m.\u001b[39mcommand(engine, \u001b[38;5;28mformat\u001b[39m,\n\u001b[1;32m    207\u001b[0m                           renderer\u001b[38;5;241m=\u001b[39mrenderer,\n\u001b[1;32m    208\u001b[0m                           formatter\u001b[38;5;241m=\u001b[39mformatter,\n\u001b[1;32m    209\u001b[0m                           neato_no_op\u001b[38;5;241m=\u001b[39mneato_no_op)\n\u001b[1;32m    210\u001b[0m kwargs \u001b[38;5;241m=\u001b[39m {\u001b[38;5;124m'\u001b[39m\u001b[38;5;124minput_lines\u001b[39m\u001b[38;5;124m'\u001b[39m: input_lines, \u001b[38;5;124m'\u001b[39m\u001b[38;5;124mencoding\u001b[39m\u001b[38;5;124m'\u001b[39m: encoding}\n\u001b[0;32m--> 212\u001b[0m proc \u001b[38;5;241m=\u001b[39m \u001b[43mexecute\u001b[49m\u001b[38;5;241;43m.\u001b[39;49m\u001b[43mrun_check\u001b[49m\u001b[43m(\u001b[49m\u001b[43mcmd\u001b[49m\u001b[43m,\u001b[49m\u001b[43m \u001b[49m\u001b[43mcapture_output\u001b[49m\u001b[38;5;241;43m=\u001b[39;49m\u001b[38;5;28;43;01mTrue\u001b[39;49;00m\u001b[43m,\u001b[49m\u001b[43m \u001b[49m\u001b[43mquiet\u001b[49m\u001b[38;5;241;43m=\u001b[39;49m\u001b[43mquiet\u001b[49m\u001b[43m,\u001b[49m\u001b[43m \u001b[49m\u001b[38;5;241;43m*\u001b[39;49m\u001b[38;5;241;43m*\u001b[39;49m\u001b[43mkwargs\u001b[49m\u001b[43m)\u001b[49m\n\u001b[1;32m    213\u001b[0m \u001b[38;5;28;01mreturn\u001b[39;00m proc\u001b[38;5;241m.\u001b[39mstdout\n",
      "File \u001b[0;32m~/.local/lib/python3.12/site-packages/graphviz/backend/execute.py:81\u001b[0m, in \u001b[0;36mrun_check\u001b[0;34m(cmd, input_lines, encoding, quiet, **kwargs)\u001b[0m\n\u001b[1;32m     79\u001b[0m \u001b[38;5;28;01mexcept\u001b[39;00m \u001b[38;5;167;01mOSError\u001b[39;00m \u001b[38;5;28;01mas\u001b[39;00m e:\n\u001b[1;32m     80\u001b[0m     \u001b[38;5;28;01mif\u001b[39;00m e\u001b[38;5;241m.\u001b[39merrno \u001b[38;5;241m==\u001b[39m errno\u001b[38;5;241m.\u001b[39mENOENT:\n\u001b[0;32m---> 81\u001b[0m         \u001b[38;5;28;01mraise\u001b[39;00m ExecutableNotFound(cmd) \u001b[38;5;28;01mfrom\u001b[39;00m\u001b[38;5;250m \u001b[39m\u001b[38;5;21;01me\u001b[39;00m\n\u001b[1;32m     82\u001b[0m     \u001b[38;5;28;01mraise\u001b[39;00m\n\u001b[1;32m     84\u001b[0m \u001b[38;5;28;01mif\u001b[39;00m \u001b[38;5;129;01mnot\u001b[39;00m quiet \u001b[38;5;129;01mand\u001b[39;00m proc\u001b[38;5;241m.\u001b[39mstderr:\n",
      "\u001b[0;31mExecutableNotFound\u001b[0m: failed to execute PosixPath('dot'), make sure the Graphviz executables are on your systems' PATH"
     ]
    },
    {
     "data": {
      "text/plain": [
       "<graphviz.sources.Source at 0x7f35f839ee70>"
      ]
     },
     "execution_count": 26,
     "metadata": {},
     "output_type": "execute_result"
    }
   ],
   "source": [
    "#Plotting the decision tree for the best estimator \n",
    "dot_data = export_graphviz(best, out_file =None,\n",
    "               feature_names =X.columns, #feature names from dataset\n",
    "               filled=True, \n",
    "                rounded=True, \n",
    "                class_names = ['ave','excellent']) #classification labels \n",
    "               \n",
    "graph=graphviz.Source(dot_data)\n",
    "graph"
   ]
  },
  {
   "cell_type": "code",
   "execution_count": null,
   "metadata": {},
   "outputs": [
    {
     "name": "stdout",
     "output_type": "stream",
     "text": [
      "{'mean_fit_time': array([0.0070577 , 0.00746485, 0.00801764, 0.01009227, 0.01080824,\n",
      "       0.01200768, 0.01084563, 0.01181851, 0.01195262, 0.01326077,\n",
      "       0.01141317]), 'std_fit_time': array([0.00208897, 0.00332146, 0.00244085, 0.00266322, 0.00274454,\n",
      "       0.00236414, 0.00212893, 0.00261687, 0.00253519, 0.0027284 ,\n",
      "       0.00176999]), 'mean_score_time': array([0.01753399, 0.0158397 , 0.01465655, 0.01698773, 0.0150069 ,\n",
      "       0.01637681, 0.01339041, 0.01378935, 0.01322099, 0.01418032,\n",
      "       0.01231482]), 'std_score_time': array([0.00571059, 0.00627105, 0.00434288, 0.00430484, 0.00381213,\n",
      "       0.00458044, 0.00265374, 0.002646  , 0.00307829, 0.00287166,\n",
      "       0.00301122]), 'param_max_depth': masked_array(data=[1, 2, 3, 4, 5, 6, 7, 8, 9, 10, 11],\n",
      "             mask=[False, False, False, False, False, False, False, False,\n",
      "                   False, False, False],\n",
      "       fill_value=999999), 'params': [{'max_depth': 1}, {'max_depth': 2}, {'max_depth': 3}, {'max_depth': 4}, {'max_depth': 5}, {'max_depth': 6}, {'max_depth': 7}, {'max_depth': 8}, {'max_depth': 9}, {'max_depth': 10}, {'max_depth': 11}], 'split0_test_roc_auc': array([0.7468254 , 0.88650794, 0.8952381 , 0.87579365, 0.82420635,\n",
      "       0.81825397, 0.80714286, 0.7702381 , 0.75634921, 0.75119048,\n",
      "       0.79166667]), 'split1_test_roc_auc': array([0.69206349, 0.83095238, 0.81706349, 0.82142857, 0.89880952,\n",
      "       0.91865079, 0.89642857, 0.91507937, 0.9015873 , 0.90238095,\n",
      "       0.90952381]), 'split2_test_roc_auc': array([0.83730159, 0.90753968, 0.88214286, 0.85238095, 0.84642857,\n",
      "       0.85753968, 0.75793651, 0.86984127, 0.71031746, 0.68809524,\n",
      "       0.77777778]), 'split3_test_roc_auc': array([0.74126984, 0.81904762, 0.8031746 , 0.79087302, 0.75079365,\n",
      "       0.70238095, 0.7234127 , 0.64642857, 0.73214286, 0.71746032,\n",
      "       0.7297619 ]), 'split4_test_roc_auc': array([0.65873016, 0.74444444, 0.75238095, 0.71468254, 0.75277778,\n",
      "       0.64960317, 0.72777778, 0.7047619 , 0.73888889, 0.6515873 ,\n",
      "       0.59642857]), 'split5_test_roc_auc': array([0.56029963, 0.66441948, 0.69101124, 0.75505618, 0.79850187,\n",
      "       0.78089888, 0.76741573, 0.69213483, 0.69213483, 0.66292135,\n",
      "       0.6588015 ]), 'split6_test_roc_auc': array([0.68838951, 0.72322097, 0.70599251, 0.70337079, 0.68726592,\n",
      "       0.7093633 , 0.69812734, 0.7011236 , 0.71348315, 0.69363296,\n",
      "       0.76179775]), 'split7_test_roc_auc': array([0.65810594, 0.78250401, 0.71027287, 0.80256822, 0.80658106,\n",
      "       0.84630819, 0.73635634, 0.74799358, 0.73394864, 0.77207063,\n",
      "       0.73033708]), 'split8_test_roc_auc': array([0.78772071, 0.8358748 , 0.79012841, 0.84189406, 0.72833066,\n",
      "       0.74357945, 0.72150883, 0.65690209, 0.69301766, 0.69662921,\n",
      "       0.67977528]), 'split9_test_roc_auc': array([0.81781701, 0.84550562, 0.84550562, 0.83065811, 0.83747994,\n",
      "       0.86276083, 0.66492777, 0.6894061 , 0.65008026, 0.67014446,\n",
      "       0.72913323]), 'split10_test_roc_auc': array([0.85952381, 0.91150794, 0.96309524, 0.95396825, 0.96507937,\n",
      "       0.98690476, 0.80039683, 0.85515873, 0.76071429, 0.77460317,\n",
      "       0.86031746]), 'split11_test_roc_auc': array([0.69206349, 0.76111111, 0.71865079, 0.79404762, 0.80992063,\n",
      "       0.83888889, 0.88730159, 0.84960317, 0.86190476, 0.86230159,\n",
      "       0.84285714]), 'split12_test_roc_auc': array([0.66984127, 0.73650794, 0.66150794, 0.63928571, 0.60833333,\n",
      "       0.60833333, 0.64761905, 0.65079365, 0.64285714, 0.61071429,\n",
      "       0.59484127]), 'split13_test_roc_auc': array([0.78253968, 0.81706349, 0.81944444, 0.81865079, 0.76428571,\n",
      "       0.7781746 , 0.78015873, 0.78809524, 0.78928571, 0.77103175,\n",
      "       0.77738095]), 'split14_test_roc_auc': array([0.79920635, 0.87380952, 0.86944444, 0.85119048, 0.84761905,\n",
      "       0.82777778, 0.89484127, 0.67539683, 0.72460317, 0.67857143,\n",
      "       0.73571429]), 'split15_test_roc_auc': array([0.61048689, 0.74719101, 0.63258427, 0.69400749, 0.70861423,\n",
      "       0.67490637, 0.6588015 , 0.62659176, 0.67153558, 0.63483146,\n",
      "       0.67490637]), 'split16_test_roc_auc': array([0.71610487, 0.76067416, 0.74606742, 0.81161049, 0.8093633 ,\n",
      "       0.84494382, 0.77902622, 0.75131086, 0.61685393, 0.7494382 ,\n",
      "       0.64382022]), 'split17_test_roc_auc': array([0.72953451, 0.85433387, 0.84751204, 0.85433387, 0.87319422,\n",
      "       0.84510433, 0.87640449, 0.82263242, 0.81019262, 0.78170144,\n",
      "       0.77849117]), 'split18_test_roc_auc': array([0.62239165, 0.68218299, 0.68298555, 0.78932584, 0.79654896,\n",
      "       0.64767255, 0.66372392, 0.60313002, 0.61235955, 0.65168539,\n",
      "       0.61918138]), 'split19_test_roc_auc': array([0.70144462, 0.81781701, 0.83306581, 0.83467095, 0.8535313 ,\n",
      "       0.84309791, 0.67897271, 0.6011236 , 0.64967897, 0.70304976,\n",
      "       0.75040128]), 'split20_test_roc_auc': array([0.68095238, 0.71746032, 0.83809524, 0.83690476, 0.77579365,\n",
      "       0.82619048, 0.78373016, 0.80555556, 0.81547619, 0.81984127,\n",
      "       0.82539683]), 'split21_test_roc_auc': array([0.66666667, 0.8281746 , 0.78809524, 0.87579365, 0.8952381 ,\n",
      "       0.88888889, 0.86984127, 0.76865079, 0.7281746 , 0.74325397,\n",
      "       0.75753968]), 'split22_test_roc_auc': array([0.70555556, 0.8047619 , 0.66666667, 0.65555556, 0.67420635,\n",
      "       0.56150794, 0.64722222, 0.68412698, 0.66706349, 0.66507937,\n",
      "       0.66031746]), 'split23_test_roc_auc': array([0.54920635, 0.56825397, 0.71269841, 0.70238095, 0.75515873,\n",
      "       0.77103175, 0.81388889, 0.8015873 , 0.79920635, 0.81269841,\n",
      "       0.78888889]), 'split24_test_roc_auc': array([0.62301587, 0.79484127, 0.81150794, 0.88134921, 0.90515873,\n",
      "       0.91904762, 0.90555556, 0.84642857, 0.73769841, 0.7031746 ,\n",
      "       0.6702381 ]), 'split25_test_roc_auc': array([0.78277154, 0.88052434, 0.87640449, 0.86142322, 0.86254682,\n",
      "       0.72621723, 0.66404494, 0.6247191 , 0.60449438, 0.69363296,\n",
      "       0.58052434]), 'split26_test_roc_auc': array([0.78838951, 0.79250936, 0.74719101, 0.682397  , 0.64719101,\n",
      "       0.65955056, 0.65393258, 0.68052434, 0.68164794, 0.69513109,\n",
      "       0.6906367 ]), 'split27_test_roc_auc': array([0.65810594, 0.73434992, 0.74077047, 0.78130016, 0.69301766,\n",
      "       0.71348315, 0.73876404, 0.64044944, 0.65810594, 0.72792937,\n",
      "       0.7247191 ]), 'split28_test_roc_auc': array([0.77086677, 0.75842697, 0.78170144, 0.79975923, 0.81781701,\n",
      "       0.76083467, 0.69983949, 0.71548957, 0.67977528, 0.679374  ,\n",
      "       0.69502408]), 'split29_test_roc_auc': array([0.79895666, 0.87158909, 0.80778491, 0.78571429, 0.78170144,\n",
      "       0.76926164, 0.77126806, 0.67656501, 0.70746388, 0.75080257,\n",
      "       0.68699839]), 'split30_test_roc_auc': array([0.7       , 0.86071429, 0.86507937, 0.88015873, 0.88055556,\n",
      "       0.83571429, 0.91230159, 0.84087302, 0.81507937, 0.85753968,\n",
      "       0.77103175]), 'split31_test_roc_auc': array([0.8484127 , 0.91428571, 0.91071429, 0.94047619, 0.83134921,\n",
      "       0.83928571, 0.85396825, 0.7531746 , 0.73571429, 0.68730159,\n",
      "       0.73492063]), 'split32_test_roc_auc': array([0.7       , 0.76230159, 0.82896825, 0.83849206, 0.88293651,\n",
      "       0.89960317, 0.86150794, 0.80198413, 0.81984127, 0.74206349,\n",
      "       0.74206349]), 'split33_test_roc_auc': array([0.7468254 , 0.85714286, 0.81150794, 0.83452381, 0.83174603,\n",
      "       0.78412698, 0.78650794, 0.79166667, 0.78650794, 0.80555556,\n",
      "       0.78174603]), 'split34_test_roc_auc': array([0.82936508, 0.81190476, 0.8297619 , 0.80555556, 0.77777778,\n",
      "       0.72738095, 0.66031746, 0.77619048, 0.68253968, 0.75      ,\n",
      "       0.78571429]), 'split35_test_roc_auc': array([0.69400749, 0.7423221 , 0.75168539, 0.74606742, 0.7082397 ,\n",
      "       0.75018727, 0.82134831, 0.79850187, 0.74456929, 0.76629213,\n",
      "       0.77752809]), 'split36_test_roc_auc': array([0.63820225, 0.77602996, 0.77752809, 0.71198502, 0.75318352,\n",
      "       0.7423221 , 0.71011236, 0.74981273, 0.76629213, 0.76067416,\n",
      "       0.73033708]), 'split37_test_roc_auc': array([0.62239165, 0.68097913, 0.7399679 , 0.77327448, 0.82865169,\n",
      "       0.76966292, 0.65609952, 0.63443018, 0.69622793, 0.70505618,\n",
      "       0.7070626 ]), 'split38_test_roc_auc': array([0.66934189, 0.72391653, 0.77849117, 0.83627608, 0.80778491,\n",
      "       0.81621188, 0.80176565, 0.81741573, 0.80738363, 0.78330658,\n",
      "       0.81902087]), 'split39_test_roc_auc': array([0.73515249, 0.70264848, 0.68739968, 0.75080257, 0.81861958,\n",
      "       0.73434992, 0.70987159, 0.71308186, 0.71027287, 0.69863563,\n",
      "       0.68699839]), 'split40_test_roc_auc': array([0.6452381 , 0.80357143, 0.8281746 , 0.76666667, 0.75396825,\n",
      "       0.70238095, 0.69563492, 0.65039683, 0.72857143, 0.75912698,\n",
      "       0.72777778]), 'split41_test_roc_auc': array([0.78253968, 0.82619048, 0.82380952, 0.79444444, 0.825     ,\n",
      "       0.76349206, 0.6452381 , 0.67261905, 0.7       , 0.66111111,\n",
      "       0.65833333]), 'split42_test_roc_auc': array([0.71349206, 0.74563492, 0.75238095, 0.75      , 0.81349206,\n",
      "       0.79365079, 0.81150794, 0.74920635, 0.71746032, 0.72380952,\n",
      "       0.73571429]), 'split43_test_roc_auc': array([0.7       , 0.83730159, 0.81825397, 0.82579365, 0.84404762,\n",
      "       0.81865079, 0.82103175, 0.76666667, 0.66587302, 0.65952381,\n",
      "       0.64880952]), 'split44_test_roc_auc': array([0.71666667, 0.85238095, 0.78055556, 0.68373016, 0.7234127 ,\n",
      "       0.67539683, 0.6       , 0.68174603, 0.66706349, 0.70396825,\n",
      "       0.70396825]), 'split45_test_roc_auc': array([0.7494382 , 0.85468165, 0.87003745, 0.80561798, 0.88164794,\n",
      "       0.80486891, 0.75430712, 0.78014981, 0.71011236, 0.72921348,\n",
      "       0.7340824 ]), 'split46_test_roc_auc': array([0.73820225, 0.7588015 , 0.74719101, 0.76441948, 0.77677903,\n",
      "       0.75468165, 0.63970037, 0.67265918, 0.63445693, 0.68876404,\n",
      "       0.65131086]), 'split47_test_roc_auc': array([0.6994382 , 0.83707865, 0.84109149, 0.87640449, 0.8635634 ,\n",
      "       0.90489567, 0.80216693, 0.77929374, 0.81701445, 0.73354735,\n",
      "       0.7223114 ]), 'split48_test_roc_auc': array([0.74638844, 0.73756019, 0.73354735, 0.82624398, 0.7347512 ,\n",
      "       0.83908507, 0.83266453, 0.73836276, 0.80176565, 0.80016051,\n",
      "       0.79373997]), 'split49_test_roc_auc': array([0.68057785, 0.73916533, 0.74678973, 0.75561798, 0.7752809 ,\n",
      "       0.78170144, 0.82463884, 0.85313002, 0.84069021, 0.81942215,\n",
      "       0.83226324]), 'mean_test_roc_auc': array([0.71503656, 0.7915544 , 0.7872224 , 0.79717853, 0.79776565,\n",
      "       0.78237614, 0.75834118, 0.73766408, 0.72776957, 0.73100062,\n",
      "       0.72935866]), 'std_test_roc_auc': array([0.07007867, 0.07049233, 0.07004223, 0.0681192 , 0.07112703,\n",
      "       0.08464959, 0.08372368, 0.07753224, 0.06754729, 0.06164413,\n",
      "       0.06966876]), 'rank_test_roc_auc': array([11,  3,  4,  2,  1,  5,  6,  7, 10,  8,  9], dtype=int32), 'split0_test_recall': array([0.        , 0.5       , 0.28571429, 0.42857143, 0.28571429,\n",
      "       0.42857143, 0.57142857, 0.5       , 0.64285714, 0.64285714,\n",
      "       0.64285714]), 'split1_test_recall': array([0.        , 0.35714286, 0.14285714, 0.42857143, 0.64285714,\n",
      "       0.64285714, 0.78571429, 0.78571429, 0.85714286, 0.85714286,\n",
      "       0.85714286]), 'split2_test_recall': array([0.        , 0.71428571, 0.5       , 0.64285714, 0.64285714,\n",
      "       0.71428571, 0.57142857, 0.71428571, 0.57142857, 0.57142857,\n",
      "       0.71428571]), 'split3_test_recall': array([0.        , 0.35714286, 0.28571429, 0.35714286, 0.57142857,\n",
      "       0.35714286, 0.57142857, 0.42857143, 0.57142857, 0.5       ,\n",
      "       0.5       ]), 'split4_test_recall': array([0.        , 0.35714286, 0.28571429, 0.28571429, 0.35714286,\n",
      "       0.42857143, 0.42857143, 0.42857143, 0.42857143, 0.35714286,\n",
      "       0.35714286]), 'split5_test_recall': array([0.26666667, 0.2       , 0.2       , 0.26666667, 0.33333333,\n",
      "       0.46666667, 0.4       , 0.46666667, 0.46666667, 0.46666667,\n",
      "       0.46666667]), 'split6_test_recall': array([0.        , 0.46666667, 0.46666667, 0.46666667, 0.13333333,\n",
      "       0.33333333, 0.4       , 0.4       , 0.4       , 0.4       ,\n",
      "       0.6       ]), 'split7_test_recall': array([0.        , 0.21428571, 0.28571429, 0.35714286, 0.42857143,\n",
      "       0.5       , 0.5       , 0.5       , 0.5       , 0.57142857,\n",
      "       0.5       ]), 'split8_test_recall': array([0.        , 0.5       , 0.28571429, 0.21428571, 0.42857143,\n",
      "       0.42857143, 0.42857143, 0.42857143, 0.57142857, 0.5       ,\n",
      "       0.5       ]), 'split9_test_recall': array([0.        , 0.64285714, 0.64285714, 0.42857143, 0.5       ,\n",
      "       0.42857143, 0.42857143, 0.42857143, 0.35714286, 0.35714286,\n",
      "       0.5       ]), 'split10_test_recall': array([0.        , 0.5       , 0.21428571, 0.64285714, 0.42857143,\n",
      "       0.85714286, 0.64285714, 0.78571429, 0.64285714, 0.64285714,\n",
      "       0.78571429]), 'split11_test_recall': array([0.        , 0.35714286, 0.35714286, 0.42857143, 0.64285714,\n",
      "       0.5       , 0.57142857, 0.5       , 0.71428571, 0.78571429,\n",
      "       0.71428571]), 'split12_test_recall': array([0.        , 0.35714286, 0.42857143, 0.21428571, 0.35714286,\n",
      "       0.28571429, 0.35714286, 0.35714286, 0.35714286, 0.28571429,\n",
      "       0.28571429]), 'split13_test_recall': array([0.        , 0.57142857, 0.28571429, 0.57142857, 0.5       ,\n",
      "       0.57142857, 0.57142857, 0.57142857, 0.57142857, 0.57142857,\n",
      "       0.57142857]), 'split14_test_recall': array([0.        , 0.57142857, 0.57142857, 0.71428571, 0.5       ,\n",
      "       0.57142857, 0.71428571, 0.5       , 0.5       , 0.42857143,\n",
      "       0.5       ]), 'split15_test_recall': array([0.        , 0.33333333, 0.33333333, 0.46666667, 0.33333333,\n",
      "       0.13333333, 0.2       , 0.26666667, 0.33333333, 0.26666667,\n",
      "       0.4       ]), 'split16_test_recall': array([0.        , 0.4       , 0.4       , 0.6       , 0.4       ,\n",
      "       0.46666667, 0.4       , 0.6       , 0.4       , 0.53333333,\n",
      "       0.4       ]), 'split17_test_recall': array([0.        , 0.28571429, 0.42857143, 0.42857143, 0.71428571,\n",
      "       0.78571429, 0.85714286, 0.64285714, 0.57142857, 0.64285714,\n",
      "       0.71428571]), 'split18_test_recall': array([0.        , 0.35714286, 0.28571429, 0.21428571, 0.28571429,\n",
      "       0.14285714, 0.21428571, 0.35714286, 0.35714286, 0.42857143,\n",
      "       0.35714286]), 'split19_test_recall': array([0.        , 0.57142857, 0.5       , 0.42857143, 0.64285714,\n",
      "       0.35714286, 0.42857143, 0.42857143, 0.5       , 0.57142857,\n",
      "       0.57142857]), 'split20_test_recall': array([0.        , 0.35714286, 0.21428571, 0.35714286, 0.35714286,\n",
      "       0.57142857, 0.42857143, 0.57142857, 0.57142857, 0.64285714,\n",
      "       0.64285714]), 'split21_test_recall': array([0.        , 0.42857143, 0.07142857, 0.5       , 0.42857143,\n",
      "       0.85714286, 0.71428571, 0.64285714, 0.64285714, 0.64285714,\n",
      "       0.64285714]), 'split22_test_recall': array([0.        , 0.42857143, 0.28571429, 0.35714286, 0.28571429,\n",
      "       0.28571429, 0.21428571, 0.28571429, 0.35714286, 0.42857143,\n",
      "       0.42857143]), 'split23_test_recall': array([0.        , 0.        , 0.07142857, 0.21428571, 0.14285714,\n",
      "       0.28571429, 0.28571429, 0.28571429, 0.28571429, 0.28571429,\n",
      "       0.42857143]), 'split24_test_recall': array([0.        , 0.21428571, 0.21428571, 0.35714286, 0.64285714,\n",
      "       0.64285714, 0.64285714, 0.5       , 0.42857143, 0.42857143,\n",
      "       0.42857143]), 'split25_test_recall': array([0.        , 0.6       , 0.6       , 0.53333333, 0.4       ,\n",
      "       0.46666667, 0.33333333, 0.33333333, 0.33333333, 0.4       ,\n",
      "       0.33333333]), 'split26_test_recall': array([0.        , 0.53333333, 0.33333333, 0.46666667, 0.4       ,\n",
      "       0.33333333, 0.4       , 0.4       , 0.4       , 0.4       ,\n",
      "       0.4       ]), 'split27_test_recall': array([0.        , 0.42857143, 0.21428571, 0.35714286, 0.35714286,\n",
      "       0.42857143, 0.5       , 0.42857143, 0.42857143, 0.5       ,\n",
      "       0.42857143]), 'split28_test_recall': array([0.        , 0.5       , 0.57142857, 0.57142857, 0.57142857,\n",
      "       0.5       , 0.5       , 0.5       , 0.5       , 0.5       ,\n",
      "       0.5       ]), 'split29_test_recall': array([0.        , 0.5       , 0.5       , 0.71428571, 0.71428571,\n",
      "       0.57142857, 0.57142857, 0.64285714, 0.71428571, 0.5       ,\n",
      "       0.57142857]), 'split30_test_recall': array([0.        , 0.35714286, 0.35714286, 0.42857143, 0.71428571,\n",
      "       0.64285714, 0.71428571, 0.42857143, 0.64285714, 0.5       ,\n",
      "       0.64285714]), 'split31_test_recall': array([0.        , 0.71428571, 0.07142857, 0.35714286, 0.28571429,\n",
      "       0.5       , 0.42857143, 0.57142857, 0.64285714, 0.57142857,\n",
      "       0.57142857]), 'split32_test_recall': array([0.        , 0.5       , 0.5       , 0.5       , 0.28571429,\n",
      "       0.64285714, 0.57142857, 0.57142857, 0.64285714, 0.5       ,\n",
      "       0.5       ]), 'split33_test_recall': array([0.        , 0.42857143, 0.35714286, 0.57142857, 0.5       ,\n",
      "       0.57142857, 0.5       , 0.64285714, 0.64285714, 0.64285714,\n",
      "       0.57142857]), 'split34_test_recall': array([0.        , 0.42857143, 0.35714286, 0.35714286, 0.35714286,\n",
      "       0.35714286, 0.42857143, 0.64285714, 0.5       , 0.57142857,\n",
      "       0.64285714]), 'split35_test_recall': array([0.        , 0.46666667, 0.26666667, 0.4       , 0.33333333,\n",
      "       0.53333333, 0.53333333, 0.66666667, 0.53333333, 0.6       ,\n",
      "       0.6       ]), 'split36_test_recall': array([0.        , 0.26666667, 0.26666667, 0.4       , 0.53333333,\n",
      "       0.53333333, 0.53333333, 0.6       , 0.6       , 0.6       ,\n",
      "       0.53333333]), 'split37_test_recall': array([0.        , 0.21428571, 0.21428571, 0.28571429, 0.28571429,\n",
      "       0.35714286, 0.35714286, 0.35714286, 0.35714286, 0.42857143,\n",
      "       0.42857143]), 'split38_test_recall': array([0.        , 0.35714286, 0.35714286, 0.42857143, 0.64285714,\n",
      "       0.57142857, 0.64285714, 0.64285714, 0.71428571, 0.57142857,\n",
      "       0.64285714]), 'split39_test_recall': array([0.        , 0.5       , 0.14285714, 0.21428571, 0.35714286,\n",
      "       0.42857143, 0.35714286, 0.35714286, 0.35714286, 0.35714286,\n",
      "       0.42857143]), 'split40_test_recall': array([0.        , 0.35714286, 0.35714286, 0.28571429, 0.42857143,\n",
      "       0.35714286, 0.5       , 0.42857143, 0.57142857, 0.5       ,\n",
      "       0.5       ]), 'split41_test_recall': array([0.        , 0.64285714, 0.35714286, 0.5       , 0.42857143,\n",
      "       0.5       , 0.5       , 0.5       , 0.57142857, 0.5       ,\n",
      "       0.5       ]), 'split42_test_recall': array([0.        , 0.28571429, 0.28571429, 0.5       , 0.5       ,\n",
      "       0.42857143, 0.57142857, 0.42857143, 0.5       , 0.5       ,\n",
      "       0.5       ]), 'split43_test_recall': array([0.        , 0.42857143, 0.42857143, 0.57142857, 0.28571429,\n",
      "       0.42857143, 0.42857143, 0.5       , 0.42857143, 0.42857143,\n",
      "       0.42857143]), 'split44_test_recall': array([0.        , 0.28571429, 0.21428571, 0.35714286, 0.42857143,\n",
      "       0.5       , 0.42857143, 0.5       , 0.5       , 0.57142857,\n",
      "       0.57142857]), 'split45_test_recall': array([0.        , 0.53333333, 0.46666667, 0.73333333, 0.46666667,\n",
      "       0.53333333, 0.53333333, 0.66666667, 0.53333333, 0.46666667,\n",
      "       0.53333333]), 'split46_test_recall': array([0.        , 0.53333333, 0.4       , 0.33333333, 0.33333333,\n",
      "       0.33333333, 0.33333333, 0.4       , 0.33333333, 0.4       ,\n",
      "       0.33333333]), 'split47_test_recall': array([0.        , 0.5       , 0.28571429, 0.64285714, 0.42857143,\n",
      "       0.42857143, 0.64285714, 0.64285714, 0.57142857, 0.57142857,\n",
      "       0.5       ]), 'split48_test_recall': array([0.        , 0.42857143, 0.35714286, 0.35714286, 0.5       ,\n",
      "       0.57142857, 0.57142857, 0.42857143, 0.57142857, 0.57142857,\n",
      "       0.57142857]), 'split49_test_recall': array([0.        , 0.28571429, 0.35714286, 0.42857143, 0.64285714,\n",
      "       0.42857143, 0.64285714, 0.64285714, 0.57142857, 0.57142857,\n",
      "       0.57142857]), 'mean_test_recall': array([0.00533333, 0.42238095, 0.3332381 , 0.43333333, 0.44333333,\n",
      "       0.47980952, 0.49704762, 0.506     , 0.5152381 , 0.51066667,\n",
      "       0.52628571]), 'std_test_recall': array([0.03733333, 0.13877092, 0.1327316 , 0.13551949, 0.14284841,\n",
      "       0.1498285 , 0.14139855, 0.1268413 , 0.12394498, 0.11692027,\n",
      "       0.11891131]), 'rank_test_recall': array([11,  9, 10,  8,  7,  6,  5,  4,  2,  3,  1], dtype=int32), 'split0_test_balanced_accuracy': array([0.5       , 0.73333333, 0.62619048, 0.69206349, 0.61507937,\n",
      "       0.68095238, 0.75238095, 0.70555556, 0.78809524, 0.77698413,\n",
      "       0.79365079]), 'split1_test_balanced_accuracy': array([0.5       , 0.66190476, 0.56587302, 0.69761905, 0.79365079,\n",
      "       0.81031746, 0.87619048, 0.87619048, 0.91190476, 0.91190476,\n",
      "       0.91746032]), 'split2_test_balanced_accuracy': array([0.5       , 0.83492063, 0.72777778, 0.79365079, 0.78809524,\n",
      "       0.81825397, 0.7468254 , 0.81825397, 0.7468254 , 0.73015873,\n",
      "       0.79047619]), 'split3_test_balanced_accuracy': array([0.5       , 0.65079365, 0.62619048, 0.65079365, 0.75793651,\n",
      "       0.65079365, 0.75793651, 0.68650794, 0.75238095, 0.71666667,\n",
      "       0.72222222]), 'split4_test_balanced_accuracy': array([0.5       , 0.63968254, 0.60952381, 0.60396825, 0.6452381 ,\n",
      "       0.66984127, 0.68650794, 0.66428571, 0.68095238, 0.63968254,\n",
      "       0.61746032]), 'split5_test_balanced_accuracy': array([0.56029963, 0.57191011, 0.56067416, 0.57715356, 0.60486891,\n",
      "       0.6659176 , 0.63258427, 0.6659176 , 0.6659176 , 0.6659176 ,\n",
      "       0.66029963]), 'split6_test_balanced_accuracy': array([0.5       , 0.7164794 , 0.70524345, 0.69962547, 0.54981273,\n",
      "       0.64419476, 0.67191011, 0.67191011, 0.67191011, 0.67191011,\n",
      "       0.76629213]), 'split7_test_balanced_accuracy': array([0.5       , 0.57905297, 0.60914928, 0.65609952, 0.68619583,\n",
      "       0.71629213, 0.70505618, 0.72191011, 0.6994382 , 0.74638844,\n",
      "       0.6994382 ]), 'split8_test_balanced_accuracy': array([0.5       , 0.73314607, 0.62600321, 0.58467095, 0.68057785,\n",
      "       0.67495987, 0.66934189, 0.66934189, 0.72391653, 0.70505618,\n",
      "       0.69382022]), 'split9_test_balanced_accuracy': array([0.5       , 0.82142857, 0.81019262, 0.67495987, 0.72191011,\n",
      "       0.70304976, 0.68057785, 0.6918138 , 0.65609952, 0.65609952,\n",
      "       0.72191011]), 'split10_test_balanced_accuracy': array([0.5       , 0.73888889, 0.59603175, 0.81031746, 0.70873016,\n",
      "       0.92301587, 0.81587302, 0.88730159, 0.81031746, 0.81031746,\n",
      "       0.88174603]), 'split11_test_balanced_accuracy': array([0.5       , 0.66190476, 0.66190476, 0.69761905, 0.79920635,\n",
      "       0.73333333, 0.75793651, 0.72222222, 0.82936508, 0.85952381,\n",
      "       0.82380952]), 'split12_test_balanced_accuracy': array([0.5       , 0.6452381 , 0.66984127, 0.59047619, 0.63968254,\n",
      "       0.5984127 , 0.63412698, 0.63968254, 0.62857143, 0.58174603,\n",
      "       0.58730159]), 'split13_test_balanced_accuracy': array([0.5       , 0.75793651, 0.63174603, 0.75793651, 0.72222222,\n",
      "       0.75793651, 0.75793651, 0.75793651, 0.75238095, 0.7468254 ,\n",
      "       0.7468254 ]), 'split14_test_balanced_accuracy': array([0.5       , 0.76904762, 0.76904762, 0.81269841, 0.72222222,\n",
      "       0.7468254 , 0.81825397, 0.7       , 0.72222222, 0.66428571,\n",
      "       0.7       ]), 'split15_test_balanced_accuracy': array([0.5       , 0.6329588 , 0.62172285, 0.68277154, 0.62172285,\n",
      "       0.53857678, 0.56629213, 0.60524345, 0.62172285, 0.58838951,\n",
      "       0.65505618]), 'split16_test_balanced_accuracy': array([0.5       , 0.68314607, 0.68314607, 0.76067416, 0.67752809,\n",
      "       0.71086142, 0.66067416, 0.76067416, 0.65505618, 0.7329588 ,\n",
      "       0.64382022]), 'split17_test_balanced_accuracy': array([0.5       , 0.63162119, 0.68619583, 0.68619583, 0.80096308,\n",
      "       0.84229535, 0.86677368, 0.7652488 , 0.72953451, 0.7652488 ,\n",
      "       0.78972713]), 'split18_test_balanced_accuracy': array([0.5       , 0.65609952, 0.62038523, 0.58467095, 0.62038523,\n",
      "       0.54333868, 0.59028892, 0.65048154, 0.64486356, 0.67495987,\n",
      "       0.62800963]), 'split19_test_balanced_accuracy': array([0.5       , 0.75200642, 0.6994382 , 0.68057785, 0.77086677,\n",
      "       0.64486356, 0.67495987, 0.67495987, 0.71067416, 0.73515249,\n",
      "       0.75200642]), 'split20_test_balanced_accuracy': array([0.5       , 0.66190476, 0.6015873 , 0.66190476, 0.65634921,\n",
      "       0.75793651, 0.65873016, 0.74126984, 0.73571429, 0.76587302,\n",
      "       0.76587302]), 'split21_test_balanced_accuracy': array([0.5       , 0.68095238, 0.50793651, 0.71111111, 0.67539683,\n",
      "       0.87301587, 0.80714286, 0.76587302, 0.76587302, 0.77142857,\n",
      "       0.77142857]), 'split22_test_balanced_accuracy': array([0.5       , 0.69206349, 0.60952381, 0.63412698, 0.61507937,\n",
      "       0.60952381, 0.57380952, 0.62063492, 0.65634921, 0.66984127,\n",
      "       0.66984127]), 'split23_test_balanced_accuracy': array([0.5       , 0.48888889, 0.52460317, 0.59047619, 0.57142857,\n",
      "       0.63174603, 0.62619048, 0.63174603, 0.62619048, 0.63174603,\n",
      "       0.7031746 ]), 'split24_test_balanced_accuracy': array([0.5       , 0.58492063, 0.58492063, 0.66746032, 0.78809524,\n",
      "       0.78809524, 0.78809524, 0.71111111, 0.67539683, 0.66984127,\n",
      "       0.66984127]), 'split25_test_balanced_accuracy': array([0.5       , 0.77752809, 0.77191011, 0.72734082, 0.67752809,\n",
      "       0.68838951, 0.62172285, 0.61610487, 0.62734082, 0.65505618,\n",
      "       0.61048689]), 'split26_test_balanced_accuracy': array([0.5       , 0.73857678, 0.63857678, 0.68838951, 0.66629213,\n",
      "       0.6329588 , 0.66629213, 0.66067416, 0.66629213, 0.66629213,\n",
      "       0.66067416]), 'split27_test_balanced_accuracy': array([0.5       , 0.69743178, 0.60152488, 0.67295345, 0.67295345,\n",
      "       0.6918138 , 0.72191011, 0.6918138 , 0.6918138 , 0.72191011,\n",
      "       0.6918138 ]), 'split28_test_balanced_accuracy': array([0.5       , 0.71629213, 0.75200642, 0.75200642, 0.75200642,\n",
      "       0.70505618, 0.6994382 , 0.6994382 , 0.68258427, 0.67696629,\n",
      "       0.68820225]), 'split29_test_balanced_accuracy': array([0.5       , 0.73314607, 0.73314607, 0.80096308, 0.80658106,\n",
      "       0.72953451, 0.72953451, 0.77086677, 0.78410915, 0.67134831,\n",
      "       0.70144462]), 'split30_test_balanced_accuracy': array([0.5       , 0.65079365, 0.6452381 , 0.68095238, 0.81269841,\n",
      "       0.79365079, 0.82936508, 0.68650794, 0.79920635, 0.72222222,\n",
      "       0.77142857]), 'split31_test_balanced_accuracy': array([0.5       , 0.83492063, 0.51904762, 0.65634921, 0.62063492,\n",
      "       0.72222222, 0.69206349, 0.76349206, 0.79920635, 0.76349206,\n",
      "       0.76349206]), 'split32_test_balanced_accuracy': array([0.5       , 0.72222222, 0.69444444, 0.71111111, 0.60396825,\n",
      "       0.77698413, 0.75238095, 0.7468254 , 0.78253968, 0.70555556,\n",
      "       0.70555556]), 'split33_test_balanced_accuracy': array([0.5       , 0.69761905, 0.66190476, 0.76349206, 0.72777778,\n",
      "       0.76349206, 0.73333333, 0.8047619 , 0.79920635, 0.79920635,\n",
      "       0.76349206]), 'split34_test_balanced_accuracy': array([0.5       , 0.71428571, 0.66746032, 0.62301587, 0.66746032,\n",
      "       0.63968254, 0.66428571, 0.76031746, 0.7       , 0.73571429,\n",
      "       0.77142857]), 'split35_test_balanced_accuracy': array([0.5       , 0.72209738, 0.62209738, 0.68876404, 0.64981273,\n",
      "       0.75543071, 0.74419476, 0.8164794 , 0.74981273, 0.76629213,\n",
      "       0.77752809]), 'split36_test_balanced_accuracy': array([0.5       , 0.6164794 , 0.60524345, 0.66067416, 0.7329588 ,\n",
      "       0.7329588 , 0.73857678, 0.76067416, 0.76629213, 0.7494382 ,\n",
      "       0.71610487]), 'split37_test_balanced_accuracy': array([0.5       , 0.56781701, 0.56219904, 0.59229535, 0.59791332,\n",
      "       0.62800963, 0.63924559, 0.62239165, 0.63362761, 0.67495987,\n",
      "       0.66372392]), 'split38_test_balanced_accuracy': array([0.5       , 0.6617175 , 0.6617175 , 0.70304976, 0.77086677,\n",
      "       0.72953451, 0.78210273, 0.78772071, 0.82343499, 0.74638844,\n",
      "       0.78772071]), 'split39_test_balanced_accuracy': array([0.5       , 0.71629213, 0.53772071, 0.57905297, 0.64486356,\n",
      "       0.68057785, 0.65048154, 0.65048154, 0.63924559, 0.63362761,\n",
      "       0.66934189]), 'split40_test_balanced_accuracy': array([0.5       , 0.67857143, 0.67857143, 0.62619048, 0.69761905,\n",
      "       0.66746032, 0.72777778, 0.68095238, 0.76349206, 0.72777778,\n",
      "       0.72777778]), 'split41_test_balanced_accuracy': array([0.5       , 0.79920635, 0.66746032, 0.7       , 0.69206349,\n",
      "       0.71666667, 0.7       , 0.7       , 0.73571429, 0.68888889,\n",
      "       0.68333333]), 'split42_test_balanced_accuracy': array([0.5       , 0.60952381, 0.61507937, 0.68888889, 0.70555556,\n",
      "       0.67539683, 0.73571429, 0.68650794, 0.72222222, 0.71666667,\n",
      "       0.71111111]), 'split43_test_balanced_accuracy': array([0.5       , 0.69206349, 0.69206349, 0.76349206, 0.61507937,\n",
      "       0.68650794, 0.69761905, 0.71666667, 0.69206349, 0.68650794,\n",
      "       0.67539683]), 'split44_test_balanced_accuracy': array([0.5       , 0.63174603, 0.59603175, 0.66190476, 0.69206349,\n",
      "       0.72222222, 0.67539683, 0.71666667, 0.68888889, 0.73015873,\n",
      "       0.73015873]), 'split45_test_balanced_accuracy': array([0.5       , 0.73857678, 0.70524345, 0.82172285, 0.70524345,\n",
      "       0.72734082, 0.72734082, 0.79400749, 0.7329588 , 0.69962547,\n",
      "       0.72734082]), 'split46_test_balanced_accuracy': array([0.5       , 0.74981273, 0.66629213, 0.63857678, 0.63857678,\n",
      "       0.63857678, 0.63857678, 0.67191011, 0.6329588 , 0.66629213,\n",
      "       0.62734082]), 'split47_test_balanced_accuracy': array([0.5       , 0.71067416, 0.61476726, 0.77086677, 0.66934189,\n",
      "       0.68057785, 0.77086677, 0.78210273, 0.74077047, 0.74077047,\n",
      "       0.71067416]), 'split48_test_balanced_accuracy': array([0.5       , 0.6918138 , 0.65609952, 0.65609952, 0.71067416,\n",
      "       0.74638844, 0.74638844, 0.66934189, 0.74077047, 0.74077047,\n",
      "       0.73515249]), 'split49_test_balanced_accuracy': array([0.5       , 0.62600321, 0.65609952, 0.68619583, 0.78772071,\n",
      "       0.69743178, 0.79895666, 0.78772071, 0.74638844, 0.7576244 ,\n",
      "       0.74077047]), 'mean_test_balanced_accuracy': array([0.50120599, 0.68950883, 0.6431359 , 0.6854794 , 0.69102996,\n",
      "       0.70726431, 0.71319922, 0.71700999, 0.72005226, 0.71464919,\n",
      "       0.71965971]), 'std_test_balanced_accuracy': array([0.00844195, 0.07014746, 0.06484312, 0.06472792, 0.06692897,\n",
      "       0.07425968, 0.07059444, 0.06471346, 0.06367925, 0.06105132,\n",
      "       0.06486401]), 'rank_test_balanced_accuracy': array([11,  8, 10,  9,  7,  6,  5,  3,  1,  4,  2], dtype=int32)}\n"
     ]
    }
   ],
   "source": [
    "#What about the specific scores (roc_auc, recall, balanced_accuracy)? Let's try and extract them to see what we are working with ...\n",
    "print(model.cv_results_) #This is a dictionary and in order to extract info we need the keys"
   ]
  },
  {
   "cell_type": "code",
   "execution_count": null,
   "metadata": {},
   "outputs": [
    {
     "name": "stdout",
     "output_type": "stream",
     "text": [
      "dict_keys(['mean_fit_time', 'std_fit_time', 'mean_score_time', 'std_score_time', 'param_max_depth', 'params', 'split0_test_roc_auc', 'split1_test_roc_auc', 'split2_test_roc_auc', 'split3_test_roc_auc', 'split4_test_roc_auc', 'split5_test_roc_auc', 'split6_test_roc_auc', 'split7_test_roc_auc', 'split8_test_roc_auc', 'split9_test_roc_auc', 'split10_test_roc_auc', 'split11_test_roc_auc', 'split12_test_roc_auc', 'split13_test_roc_auc', 'split14_test_roc_auc', 'split15_test_roc_auc', 'split16_test_roc_auc', 'split17_test_roc_auc', 'split18_test_roc_auc', 'split19_test_roc_auc', 'split20_test_roc_auc', 'split21_test_roc_auc', 'split22_test_roc_auc', 'split23_test_roc_auc', 'split24_test_roc_auc', 'split25_test_roc_auc', 'split26_test_roc_auc', 'split27_test_roc_auc', 'split28_test_roc_auc', 'split29_test_roc_auc', 'split30_test_roc_auc', 'split31_test_roc_auc', 'split32_test_roc_auc', 'split33_test_roc_auc', 'split34_test_roc_auc', 'split35_test_roc_auc', 'split36_test_roc_auc', 'split37_test_roc_auc', 'split38_test_roc_auc', 'split39_test_roc_auc', 'split40_test_roc_auc', 'split41_test_roc_auc', 'split42_test_roc_auc', 'split43_test_roc_auc', 'split44_test_roc_auc', 'split45_test_roc_auc', 'split46_test_roc_auc', 'split47_test_roc_auc', 'split48_test_roc_auc', 'split49_test_roc_auc', 'mean_test_roc_auc', 'std_test_roc_auc', 'rank_test_roc_auc', 'split0_test_recall', 'split1_test_recall', 'split2_test_recall', 'split3_test_recall', 'split4_test_recall', 'split5_test_recall', 'split6_test_recall', 'split7_test_recall', 'split8_test_recall', 'split9_test_recall', 'split10_test_recall', 'split11_test_recall', 'split12_test_recall', 'split13_test_recall', 'split14_test_recall', 'split15_test_recall', 'split16_test_recall', 'split17_test_recall', 'split18_test_recall', 'split19_test_recall', 'split20_test_recall', 'split21_test_recall', 'split22_test_recall', 'split23_test_recall', 'split24_test_recall', 'split25_test_recall', 'split26_test_recall', 'split27_test_recall', 'split28_test_recall', 'split29_test_recall', 'split30_test_recall', 'split31_test_recall', 'split32_test_recall', 'split33_test_recall', 'split34_test_recall', 'split35_test_recall', 'split36_test_recall', 'split37_test_recall', 'split38_test_recall', 'split39_test_recall', 'split40_test_recall', 'split41_test_recall', 'split42_test_recall', 'split43_test_recall', 'split44_test_recall', 'split45_test_recall', 'split46_test_recall', 'split47_test_recall', 'split48_test_recall', 'split49_test_recall', 'mean_test_recall', 'std_test_recall', 'rank_test_recall', 'split0_test_balanced_accuracy', 'split1_test_balanced_accuracy', 'split2_test_balanced_accuracy', 'split3_test_balanced_accuracy', 'split4_test_balanced_accuracy', 'split5_test_balanced_accuracy', 'split6_test_balanced_accuracy', 'split7_test_balanced_accuracy', 'split8_test_balanced_accuracy', 'split9_test_balanced_accuracy', 'split10_test_balanced_accuracy', 'split11_test_balanced_accuracy', 'split12_test_balanced_accuracy', 'split13_test_balanced_accuracy', 'split14_test_balanced_accuracy', 'split15_test_balanced_accuracy', 'split16_test_balanced_accuracy', 'split17_test_balanced_accuracy', 'split18_test_balanced_accuracy', 'split19_test_balanced_accuracy', 'split20_test_balanced_accuracy', 'split21_test_balanced_accuracy', 'split22_test_balanced_accuracy', 'split23_test_balanced_accuracy', 'split24_test_balanced_accuracy', 'split25_test_balanced_accuracy', 'split26_test_balanced_accuracy', 'split27_test_balanced_accuracy', 'split28_test_balanced_accuracy', 'split29_test_balanced_accuracy', 'split30_test_balanced_accuracy', 'split31_test_balanced_accuracy', 'split32_test_balanced_accuracy', 'split33_test_balanced_accuracy', 'split34_test_balanced_accuracy', 'split35_test_balanced_accuracy', 'split36_test_balanced_accuracy', 'split37_test_balanced_accuracy', 'split38_test_balanced_accuracy', 'split39_test_balanced_accuracy', 'split40_test_balanced_accuracy', 'split41_test_balanced_accuracy', 'split42_test_balanced_accuracy', 'split43_test_balanced_accuracy', 'split44_test_balanced_accuracy', 'split45_test_balanced_accuracy', 'split46_test_balanced_accuracy', 'split47_test_balanced_accuracy', 'split48_test_balanced_accuracy', 'split49_test_balanced_accuracy', 'mean_test_balanced_accuracy', 'std_test_balanced_accuracy', 'rank_test_balanced_accuracy'])\n"
     ]
    }
   ],
   "source": [
    "#Which one of these do we need?\n",
    "print(model.cv_results_.keys()) #get mean_test and std_test for all of our scores, and will need our param_max_depth as well "
   ]
  },
  {
   "cell_type": "code",
   "execution_count": null,
   "metadata": {},
   "outputs": [
    {
     "ename": "ImportError",
     "evalue": "Missing optional dependency 'Jinja2'. DataFrame.style requires jinja2. Use pip or conda to install Jinja2.",
     "output_type": "error",
     "traceback": [
      "\u001b[0;31m---------------------------------------------------------------------------\u001b[0m",
      "\u001b[0;31mModuleNotFoundError\u001b[0m                       Traceback (most recent call last)",
      "File \u001b[0;32m~/.local/lib/python3.12/site-packages/pandas/compat/_optional.py:135\u001b[0m, in \u001b[0;36mimport_optional_dependency\u001b[0;34m(name, extra, errors, min_version)\u001b[0m\n\u001b[1;32m    134\u001b[0m \u001b[38;5;28;01mtry\u001b[39;00m:\n\u001b[0;32m--> 135\u001b[0m     module \u001b[38;5;241m=\u001b[39m \u001b[43mimportlib\u001b[49m\u001b[38;5;241;43m.\u001b[39;49m\u001b[43mimport_module\u001b[49m\u001b[43m(\u001b[49m\u001b[43mname\u001b[49m\u001b[43m)\u001b[49m\n\u001b[1;32m    136\u001b[0m \u001b[38;5;28;01mexcept\u001b[39;00m \u001b[38;5;167;01mImportError\u001b[39;00m:\n",
      "File \u001b[0;32m/usr/local/lib/python3.12/importlib/__init__.py:90\u001b[0m, in \u001b[0;36mimport_module\u001b[0;34m(name, package)\u001b[0m\n\u001b[1;32m     89\u001b[0m         level \u001b[38;5;241m+\u001b[39m\u001b[38;5;241m=\u001b[39m \u001b[38;5;241m1\u001b[39m\n\u001b[0;32m---> 90\u001b[0m \u001b[38;5;28;01mreturn\u001b[39;00m \u001b[43m_bootstrap\u001b[49m\u001b[38;5;241;43m.\u001b[39;49m\u001b[43m_gcd_import\u001b[49m\u001b[43m(\u001b[49m\u001b[43mname\u001b[49m\u001b[43m[\u001b[49m\u001b[43mlevel\u001b[49m\u001b[43m:\u001b[49m\u001b[43m]\u001b[49m\u001b[43m,\u001b[49m\u001b[43m \u001b[49m\u001b[43mpackage\u001b[49m\u001b[43m,\u001b[49m\u001b[43m \u001b[49m\u001b[43mlevel\u001b[49m\u001b[43m)\u001b[49m\n",
      "File \u001b[0;32m<frozen importlib._bootstrap>:1387\u001b[0m, in \u001b[0;36m_gcd_import\u001b[0;34m(name, package, level)\u001b[0m\n",
      "File \u001b[0;32m<frozen importlib._bootstrap>:1360\u001b[0m, in \u001b[0;36m_find_and_load\u001b[0;34m(name, import_)\u001b[0m\n",
      "File \u001b[0;32m<frozen importlib._bootstrap>:1324\u001b[0m, in \u001b[0;36m_find_and_load_unlocked\u001b[0;34m(name, import_)\u001b[0m\n",
      "\u001b[0;31mModuleNotFoundError\u001b[0m: No module named 'jinja2'",
      "\nDuring handling of the above exception, another exception occurred:\n",
      "\u001b[0;31mImportError\u001b[0m                               Traceback (most recent call last)",
      "Cell \u001b[0;32mIn[53], line 21\u001b[0m\n\u001b[1;32m     17\u001b[0m final_model \u001b[38;5;241m=\u001b[39m pd\u001b[38;5;241m.\u001b[39mDataFrame(\u001b[38;5;28mlist\u001b[39m(\u001b[38;5;28mzip\u001b[39m(depth, auc, recall, bal_acc,SDauc,SDrecall,SDbal_acc)),\n\u001b[1;32m     18\u001b[0m                columns \u001b[38;5;241m=\u001b[39m[\u001b[38;5;124m'\u001b[39m\u001b[38;5;124mdepth\u001b[39m\u001b[38;5;124m'\u001b[39m,\u001b[38;5;124m'\u001b[39m\u001b[38;5;124mauc\u001b[39m\u001b[38;5;124m'\u001b[39m,\u001b[38;5;124m'\u001b[39m\u001b[38;5;124mrecall\u001b[39m\u001b[38;5;124m'\u001b[39m,\u001b[38;5;124m'\u001b[39m\u001b[38;5;124mbal_acc\u001b[39m\u001b[38;5;124m'\u001b[39m,\u001b[38;5;124m'\u001b[39m\u001b[38;5;124maucSD\u001b[39m\u001b[38;5;124m'\u001b[39m,\u001b[38;5;124m'\u001b[39m\u001b[38;5;124mrecallSD\u001b[39m\u001b[38;5;124m'\u001b[39m,\u001b[38;5;124m'\u001b[39m\u001b[38;5;124mbal_accSD\u001b[39m\u001b[38;5;124m'\u001b[39m])\n\u001b[1;32m     20\u001b[0m \u001b[38;5;66;03m#Let's take a look\u001b[39;00m\n\u001b[0;32m---> 21\u001b[0m \u001b[43mfinal_model\u001b[49m\u001b[38;5;241;43m.\u001b[39;49m\u001b[43mstyle\u001b[49m\u001b[38;5;241m.\u001b[39mhide(axis\u001b[38;5;241m=\u001b[39m\u001b[38;5;124m'\u001b[39m\u001b[38;5;124mindex\u001b[39m\u001b[38;5;124m'\u001b[39m)\n",
      "File \u001b[0;32m~/.local/lib/python3.12/site-packages/pandas/core/frame.py:1442\u001b[0m, in \u001b[0;36mDataFrame.style\u001b[0;34m(self)\u001b[0m\n\u001b[1;32m   1422\u001b[0m \u001b[38;5;129m@property\u001b[39m\n\u001b[1;32m   1423\u001b[0m \u001b[38;5;28;01mdef\u001b[39;00m\u001b[38;5;250m \u001b[39m\u001b[38;5;21mstyle\u001b[39m(\u001b[38;5;28mself\u001b[39m) \u001b[38;5;241m-\u001b[39m\u001b[38;5;241m>\u001b[39m Styler:\n\u001b[1;32m   1424\u001b[0m \u001b[38;5;250m    \u001b[39m\u001b[38;5;124;03m\"\"\"\u001b[39;00m\n\u001b[1;32m   1425\u001b[0m \u001b[38;5;124;03m    Returns a Styler object.\u001b[39;00m\n\u001b[1;32m   1426\u001b[0m \n\u001b[0;32m   (...)\u001b[0m\n\u001b[1;32m   1440\u001b[0m \u001b[38;5;124;03m    `Table Visualization <../../user_guide/style.ipynb>`_ for more examples.\u001b[39;00m\n\u001b[1;32m   1441\u001b[0m \u001b[38;5;124;03m    \"\"\"\u001b[39;00m\n\u001b[0;32m-> 1442\u001b[0m     \u001b[38;5;28;01mfrom\u001b[39;00m\u001b[38;5;250m \u001b[39m\u001b[38;5;21;01mpandas\u001b[39;00m\u001b[38;5;21;01m.\u001b[39;00m\u001b[38;5;21;01mio\u001b[39;00m\u001b[38;5;21;01m.\u001b[39;00m\u001b[38;5;21;01mformats\u001b[39;00m\u001b[38;5;21;01m.\u001b[39;00m\u001b[38;5;21;01mstyle\u001b[39;00m\u001b[38;5;250m \u001b[39m\u001b[38;5;28;01mimport\u001b[39;00m Styler\n\u001b[1;32m   1444\u001b[0m     \u001b[38;5;28;01mreturn\u001b[39;00m Styler(\u001b[38;5;28mself\u001b[39m)\n",
      "File \u001b[0;32m~/.local/lib/python3.12/site-packages/pandas/io/formats/style.py:44\u001b[0m\n\u001b[1;32m     40\u001b[0m \u001b[38;5;28;01mfrom\u001b[39;00m\u001b[38;5;250m \u001b[39m\u001b[38;5;21;01mpandas\u001b[39;00m\u001b[38;5;21;01m.\u001b[39;00m\u001b[38;5;21;01mcore\u001b[39;00m\u001b[38;5;21;01m.\u001b[39;00m\u001b[38;5;21;01mshared_docs\u001b[39;00m\u001b[38;5;250m \u001b[39m\u001b[38;5;28;01mimport\u001b[39;00m _shared_docs\n\u001b[1;32m     42\u001b[0m \u001b[38;5;28;01mfrom\u001b[39;00m\u001b[38;5;250m \u001b[39m\u001b[38;5;21;01mpandas\u001b[39;00m\u001b[38;5;21;01m.\u001b[39;00m\u001b[38;5;21;01mio\u001b[39;00m\u001b[38;5;21;01m.\u001b[39;00m\u001b[38;5;21;01mformats\u001b[39;00m\u001b[38;5;21;01m.\u001b[39;00m\u001b[38;5;21;01mformat\u001b[39;00m\u001b[38;5;250m \u001b[39m\u001b[38;5;28;01mimport\u001b[39;00m save_to_buffer\n\u001b[0;32m---> 44\u001b[0m jinja2 \u001b[38;5;241m=\u001b[39m \u001b[43mimport_optional_dependency\u001b[49m\u001b[43m(\u001b[49m\u001b[38;5;124;43m\"\u001b[39;49m\u001b[38;5;124;43mjinja2\u001b[39;49m\u001b[38;5;124;43m\"\u001b[39;49m\u001b[43m,\u001b[49m\u001b[43m \u001b[49m\u001b[43mextra\u001b[49m\u001b[38;5;241;43m=\u001b[39;49m\u001b[38;5;124;43m\"\u001b[39;49m\u001b[38;5;124;43mDataFrame.style requires jinja2.\u001b[39;49m\u001b[38;5;124;43m\"\u001b[39;49m\u001b[43m)\u001b[49m\n\u001b[1;32m     46\u001b[0m \u001b[38;5;28;01mfrom\u001b[39;00m\u001b[38;5;250m \u001b[39m\u001b[38;5;21;01mpandas\u001b[39;00m\u001b[38;5;21;01m.\u001b[39;00m\u001b[38;5;21;01mio\u001b[39;00m\u001b[38;5;21;01m.\u001b[39;00m\u001b[38;5;21;01mformats\u001b[39;00m\u001b[38;5;21;01m.\u001b[39;00m\u001b[38;5;21;01mstyle_render\u001b[39;00m\u001b[38;5;250m \u001b[39m\u001b[38;5;28;01mimport\u001b[39;00m (\n\u001b[1;32m     47\u001b[0m     CSSProperties,\n\u001b[1;32m     48\u001b[0m     CSSStyles,\n\u001b[0;32m   (...)\u001b[0m\n\u001b[1;32m     56\u001b[0m     refactor_levels,\n\u001b[1;32m     57\u001b[0m )\n\u001b[1;32m     59\u001b[0m \u001b[38;5;28;01mif\u001b[39;00m TYPE_CHECKING:\n",
      "File \u001b[0;32m~/.local/lib/python3.12/site-packages/pandas/compat/_optional.py:138\u001b[0m, in \u001b[0;36mimport_optional_dependency\u001b[0;34m(name, extra, errors, min_version)\u001b[0m\n\u001b[1;32m    136\u001b[0m \u001b[38;5;28;01mexcept\u001b[39;00m \u001b[38;5;167;01mImportError\u001b[39;00m:\n\u001b[1;32m    137\u001b[0m     \u001b[38;5;28;01mif\u001b[39;00m errors \u001b[38;5;241m==\u001b[39m \u001b[38;5;124m\"\u001b[39m\u001b[38;5;124mraise\u001b[39m\u001b[38;5;124m\"\u001b[39m:\n\u001b[0;32m--> 138\u001b[0m         \u001b[38;5;28;01mraise\u001b[39;00m \u001b[38;5;167;01mImportError\u001b[39;00m(msg)\n\u001b[1;32m    139\u001b[0m     \u001b[38;5;28;01mreturn\u001b[39;00m \u001b[38;5;28;01mNone\u001b[39;00m\n\u001b[1;32m    141\u001b[0m \u001b[38;5;66;03m# Handle submodules: if we have submodule, grab parent module from sys.modules\u001b[39;00m\n",
      "\u001b[0;31mImportError\u001b[0m: Missing optional dependency 'Jinja2'. DataFrame.style requires jinja2. Use pip or conda to install Jinja2."
     ]
    }
   ],
   "source": [
    "#Let's extract these scores, using our function!\n",
    "\n",
    "#Scores: \n",
    "\n",
    "auc = model.cv_results_['mean_test_roc_auc']\n",
    "recall= model.cv_results_['mean_test_recall']\n",
    "bal_acc= model.cv_results_['mean_test_balanced_accuracy']\n",
    "\n",
    "SDauc = model.cv_results_['std_test_roc_auc']\n",
    "SDrecall= model.cv_results_['std_test_recall']\n",
    "SDbal_acc= model.cv_results_['std_test_balanced_accuracy']\n",
    "\n",
    "#Parameter:\n",
    "depth= np.unique(model.cv_results_['param_max_depth']).data\n",
    "\n",
    "#Build DataFrame:\n",
    "final_model = pd.DataFrame(list(zip(depth, auc, recall, bal_acc,SDauc,SDrecall,SDbal_acc)),\n",
    "               columns =['depth','auc','recall','bal_acc','aucSD','recallSD','bal_accSD'])\n",
    "\n",
    "#Let's take a look\n",
    "final_model.style.hide(axis='index')\n"
   ]
  },
  {
   "cell_type": "code",
   "execution_count": null,
   "metadata": {},
   "outputs": [],
   "source": [
    "#Warning!\n",
    "#If we used multiple params... you won't be able to get the scores as easily\n",
    "#Say we wanted to get the scores based on max_depth still, but this time we used the parameter ccp_alpha as well\n",
    "#Use the np.where function to search for the indices where the other parameter equals their best result, in this say it is .001\n",
    "#This is an example code to find auc: #model.cv_results_['mean_test_roc_auc'][np.where((model.cv_results_['param_ccp_alpha'] == .001))]\n",
    "#Essentially takes indices and resulting scores where the best parameters were used "
   ]
  },
  {
   "cell_type": "code",
   "execution_count": 43,
   "metadata": {},
   "outputs": [
    {
     "ename": "NameError",
     "evalue": "name 'final_model' is not defined",
     "output_type": "error",
     "traceback": [
      "\u001b[0;31m---------------------------------------------------------------------------\u001b[0m",
      "\u001b[0;31mNameError\u001b[0m                                 Traceback (most recent call last)",
      "Cell \u001b[0;32mIn[43], line 2\u001b[0m\n\u001b[1;32m      1\u001b[0m \u001b[38;5;66;03m#Check the depth ...\u001b[39;00m\n\u001b[0;32m----> 2\u001b[0m \u001b[38;5;28mprint\u001b[39m(plt\u001b[38;5;241m.\u001b[39mplot(\u001b[43mfinal_model\u001b[49m\u001b[38;5;241m.\u001b[39mdepth,final_model\u001b[38;5;241m.\u001b[39mauc)) \u001b[38;5;66;03m#5 does in fact have the highest (best) AUC!\u001b[39;00m\n",
      "\u001b[0;31mNameError\u001b[0m: name 'final_model' is not defined"
     ]
    }
   ],
   "source": [
    "#Check the depth ...\n",
    "print(plt.plot(final_model.depth,final_model.auc)) #5 does in fact have the highest (best) AUC!"
   ]
  },
  {
   "cell_type": "markdown",
   "metadata": {},
   "source": [
    "# Variable Importance"
   ]
  },
  {
   "cell_type": "code",
   "execution_count": 1,
   "metadata": {},
   "outputs": [
    {
     "ename": "NameError",
     "evalue": "name 'pd' is not defined",
     "output_type": "error",
     "traceback": [
      "\u001b[0;31m---------------------------------------------------------------------------\u001b[0m",
      "\u001b[0;31mNameError\u001b[0m                                 Traceback (most recent call last)",
      "Cell \u001b[0;32mIn[1], line 2\u001b[0m\n\u001b[1;32m      1\u001b[0m \u001b[38;5;66;03m#Variable importance for the best estimator, how much weight does each feature have in determining the classification?\u001b[39;00m\n\u001b[0;32m----> 2\u001b[0m varimp\u001b[38;5;241m=\u001b[39m\u001b[43mpd\u001b[49m\u001b[38;5;241m.\u001b[39mDataFrame(best\u001b[38;5;241m.\u001b[39mfeature_importances_,index \u001b[38;5;241m=\u001b[39m X\u001b[38;5;241m.\u001b[39mcolumns,columns\u001b[38;5;241m=\u001b[39m[\u001b[38;5;124m'\u001b[39m\u001b[38;5;124mimportance\u001b[39m\u001b[38;5;124m'\u001b[39m])\u001b[38;5;241m.\u001b[39msort_values(\u001b[38;5;124m'\u001b[39m\u001b[38;5;124mimportance\u001b[39m\u001b[38;5;124m'\u001b[39m, ascending\u001b[38;5;241m=\u001b[39m\u001b[38;5;28;01mFalse\u001b[39;00m)\n\u001b[1;32m      3\u001b[0m \u001b[38;5;28mprint\u001b[39m(varimp)\n\u001b[1;32m      4\u001b[0m \u001b[38;5;66;03m# from here, you couldn't say that alcohol is the most telling for quality, you could just infer that it's contributing the most to error reduction\u001b[39;00m\n",
      "\u001b[0;31mNameError\u001b[0m: name 'pd' is not defined"
     ]
    }
   ],
   "source": [
    "#Variable importance for the best estimator, how much weight does each feature have in determining the classification?\n",
    "varimp=pd.DataFrame(best.feature_importances_,index = X.columns,columns=['importance']).sort_values('importance', ascending=False)\n",
    "print(varimp)\n",
    "# from here, you couldn't say that alcohol is the most telling for quality, you could just infer that it's contributing the most to error reduction"
   ]
  },
  {
   "cell_type": "code",
   "execution_count": 45,
   "metadata": {},
   "outputs": [
    {
     "name": "stdout",
     "output_type": "stream",
     "text": [
      "Axes(0.125,0.11;0.775x0.77)\n"
     ]
    },
    {
     "data": {
      "image/png": "[encoded data removed]",
      "text/plain": [
       "<Figure size 1000x700 with 1 Axes>"
      ]
     },
     "metadata": {},
     "output_type": "display_data"
    }
   ],
   "source": [
    "#Graph variable importance\n",
    "plt.figure(figsize=(10,7))\n",
    "print(varimp.importance.nlargest(7).plot(kind='barh')) #Alcohol has the largest impact by far!"
   ]
  },
  {
   "cell_type": "markdown",
   "metadata": {},
   "source": [
    "## Let's use the model to predict and the evaluate the performance"
   ]
  },
  {
   "cell_type": "code",
   "execution_count": 46,
   "metadata": {},
   "outputs": [
    {
     "name": "stdout",
     "output_type": "stream",
     "text": [
      "<sklearn.metrics._plot.confusion_matrix.ConfusionMatrixDisplay object at 0x7f35fe54fb00>\n"
     ]
    },
    {
     "data": {
      "image/png": "[encoded data removed]",
      "text/plain": [
       "<Figure size 640x480 with 1 Axes>"
      ]
     },
     "metadata": {},
     "output_type": "display_data"
    }
   ],
   "source": [
    "#Confusion Matrix time! Passing our tuning data into our best model, let's see how we do ...\n",
    "print(ConfusionMatrixDisplay.from_estimator(best,X_tune,y_tune, display_labels = ['ave','excellent'], colorbar=False))"
   ]
  },
  {
   "cell_type": "markdown",
   "metadata": {},
   "source": [
    "## Let's play with the threshold, what do we see "
   ]
  },
  {
   "cell_type": "code",
   "execution_count": 47,
   "metadata": {},
   "outputs": [],
   "source": [
    "## Adjust threshold function\n",
    "def adjust_thres(model,X,y_true, thres):\n",
    "  #model= best estimator, X= feature vairables, y_true= target variables, thres = threshold\n",
    "  y_pred = (model.predict_proba(X)[:,1] >= thres).astype(np.int32) #essentially changes the prediction cut off to our desired threshold\n",
    "  return metrics.ConfusionMatrixDisplay.from_predictions(y_true,y_pred, display_labels = ['ave','excellent'], colorbar=False)"
   ]
  },
  {
   "cell_type": "code",
   "execution_count": 48,
   "metadata": {},
   "outputs": [
    {
     "name": "stdout",
     "output_type": "stream",
     "text": [
      "Axes(0.125,0.11;0.775x0.77)\n"
     ]
    },
    {
     "data": {
      "image/png": "[encoded data removed]",
      "text/plain": [
       "<Figure size 640x480 with 1 Axes>"
      ]
     },
     "metadata": {},
     "output_type": "display_data"
    }
   ],
   "source": [
    "#Where should we change the threshold to see a difference...\n",
    "print(pd.DataFrame(model.predict_proba(X_tune)[:,1]).plot.density())"
   ]
  },
  {
   "cell_type": "code",
   "execution_count": null,
   "metadata": {},
   "outputs": [],
   "source": [
    "#Let's try .1 as our new threshold ...\n",
    "print(adjust_thres(best,X_tune, y_tune,.1))"
   ]
  },
  {
   "cell_type": "markdown",
   "metadata": {},
   "source": [
    "## Accuracy Score"
   ]
  },
  {
   "cell_type": "code",
   "execution_count": 45,
   "metadata": {},
   "outputs": [
    {
     "ename": "NameError",
     "evalue": "name 'best' is not defined",
     "output_type": "error",
     "traceback": [
      "\u001b[0;31m---------------------------------------------------------------------------\u001b[0m",
      "\u001b[0;31mNameError\u001b[0m                                 Traceback (most recent call last)",
      "\u001b[1;32m/Users/bpugs/Desktop/DS-3001/08_DT_Class/Decision Trees.ipynb Cell 45'\u001b[0m in \u001b[0;36m<cell line: 1>\u001b[0;34m()\u001b[0m\n\u001b[0;32m----> <a href='vscode-notebook-cell:/Users/bpugs/Desktop/DS-3001/08_DT_Class/Decision%20Trees.ipynb#ch0000179?line=0'>1</a>\u001b[0m \u001b[39mprint\u001b[39m(best\u001b[39m.\u001b[39mscore(X_test,y_test))\n",
      "\u001b[0;31mNameError\u001b[0m: name 'best' is not defined"
     ]
    }
   ],
   "source": [
    "print(best.score(X_test,y_test)) #Pretty precise, nice!"
   ]
  },
  {
   "cell_type": "code",
   "execution_count": null,
   "metadata": {},
   "outputs": [],
   "source": [
    "print(best.score(X_tune,y_tune)) #same with tuning set"
   ]
  },
  {
   "cell_type": "markdown",
   "metadata": {},
   "source": [
    "## Feature Engineering: "
   ]
  },
  {
   "cell_type": "code",
   "execution_count": 18,
   "metadata": {},
   "outputs": [
    {
     "name": "stdout",
     "output_type": "stream",
     "text": [
      "       fixed acidity  volatile acidity  citric acid  residual sugar  \\\n",
      "count    1482.000000       1482.000000  1482.000000     1482.000000   \n",
      "mean        8.320243          0.528870     0.269744        2.548853   \n",
      "std         1.718001          0.180651     0.194912        1.431911   \n",
      "min         4.600000          0.120000     0.000000        0.900000   \n",
      "25%         7.100000          0.390000     0.090000        1.900000   \n",
      "50%         7.900000          0.520000     0.260000        2.200000   \n",
      "75%         9.200000          0.640000     0.420000        2.600000   \n",
      "max        15.900000          1.580000     1.000000       15.500000   \n",
      "\n",
      "         chlorides  free sulfur dioxide  total sulfur dioxide      density  \\\n",
      "count  1482.000000          1482.000000           1482.000000  1482.000000   \n",
      "mean      0.087808            16.018893             46.965587     0.996764   \n",
      "std       0.048015            10.419929             33.141959     0.001868   \n",
      "min       0.012000             1.000000              6.000000     0.990070   \n",
      "25%       0.070000             7.000000             22.000000     0.995653   \n",
      "50%       0.080000            14.000000             38.000000     0.996800   \n",
      "75%       0.091000            22.000000             63.000000     0.997857   \n",
      "max       0.611000            72.000000            289.000000     1.003690   \n",
      "\n",
      "                pH    sulphates      alcohol  \n",
      "count  1482.000000  1482.000000  1482.000000  \n",
      "mean      3.311505     0.659777    10.406545  \n",
      "std       0.153826     0.168406     1.064761  \n",
      "min       2.740000     0.330000     8.400000  \n",
      "25%       3.210000     0.550000     9.500000  \n",
      "50%       3.310000     0.620000    10.100000  \n",
      "75%       3.400000     0.730000    11.100000  \n",
      "max       4.010000     2.000000    14.900000  \n"
     ]
    }
   ],
   "source": [
    "#What feature should we look at?\n",
    "print(winequality.describe())"
   ]
  },
  {
   "cell_type": "code",
   "execution_count": null,
   "metadata": {},
   "outputs": [],
   "source": [
    "# How about total sulfur dioxide ...\n",
    "print(plt.hist(winequality['total sulfur dioxide'], width=15, bins = 15))"
   ]
  },
  {
   "cell_type": "code",
   "execution_count": null,
   "metadata": {},
   "outputs": [],
   "source": [
    "#Get the five number summary, and some...\n",
    "print(winequality['total sulfur dioxide'].describe())"
   ]
  },
  {
   "cell_type": "code",
   "execution_count": null,
   "metadata": {},
   "outputs": [],
   "source": [
    "#make a new dataframe so we can preserve our working environment\n",
    "winequality1 = winequality.copy(deep=True)"
   ]
  },
  {
   "cell_type": "code",
   "execution_count": null,
   "metadata": {},
   "outputs": [],
   "source": [
    "#lump total sulfure dioxide to below and above its median (38)\n",
    "winequality1['total sulfur dioxide']=pd.cut(winequality1['total sulfur dioxide'],(0,37,300), labels = (\"low\",\"high\"))"
   ]
  },
  {
   "cell_type": "code",
   "execution_count": null,
   "metadata": {},
   "outputs": [],
   "source": [
    "#transform it to a numeric variable so we can use it in sklearn decision tree\n",
    "winequality1[[\"total sulfur dioxide\"]] = OrdinalEncoder().fit_transform(winequality1[[\"total sulfur dioxide\"]])"
   ]
  },
  {
   "cell_type": "code",
   "execution_count": null,
   "metadata": {},
   "outputs": [],
   "source": [
    "#Separate features and target \n",
    "X1=winequality1.drop(columns='text_rank')\n",
    "y1=winequality1.text_rank"
   ]
  },
  {
   "cell_type": "code",
   "execution_count": null,
   "metadata": {},
   "outputs": [],
   "source": [
    "#Data splitting\n",
    "X_train1, X_test1, y_train1, y_test1 = train_test_split(X1, y1, train_size=0.70, stratify= y1, random_state=21)\n",
    "X_tune1, X_test1, y_tune1, y_test1 = train_test_split(X_test1,y_test1,  train_size = 0.50,stratify= y_test1, random_state=49)"
   ]
  },
  {
   "cell_type": "code",
   "execution_count": null,
   "metadata": {},
   "outputs": [],
   "source": [
    "#define search, model, paramameters and scoring will be the same...\n",
    "search_eng = GridSearchCV(cl, param, scoring=scoring, n_jobs=-1, cv=kf,refit='roc_auc')\n",
    "\n",
    "#execute search\n",
    "model_eng = search_eng.fit(X_train1, y_train1)"
   ]
  },
  {
   "cell_type": "code",
   "execution_count": null,
   "metadata": {},
   "outputs": [],
   "source": [
    "#Take a look at our best estimator for depth this time\n",
    "best_eng = model_eng.best_estimator_ \n",
    "print(best_eng) #4, a different depth!"
   ]
  },
  {
   "cell_type": "code",
   "execution_count": null,
   "metadata": {},
   "outputs": [],
   "source": [
    "#Check out the mean and standard deviation test scores again ...\n",
    "auc = model_eng.cv_results_['mean_test_roc_auc']\n",
    "recall= model_eng.cv_results_['mean_test_recall']\n",
    "bal_acc= model_eng.cv_results_['mean_test_balanced_accuracy']\n",
    "\n",
    "SDauc = model_eng.cv_results_['std_test_roc_auc']\n",
    "SDrecall= model_eng.cv_results_['std_test_recall']\n",
    "SDbal_acc= model_eng.cv_results_['std_test_balanced_accuracy']\n",
    "\n",
    "#Parameter:\n",
    "depth= np.unique(model_eng.cv_results_['param_max_depth']).data\n",
    "\n",
    "#Build DataFrame:\n",
    "final_model = pd.DataFrame(list(zip(depth, auc, recall, bal_acc,SDauc,SDrecall,SDbal_acc)),\n",
    "               columns =['depth','auc','recall','bal_acc','aucSD','recallSD','bal_accSD'])\n",
    "\n",
    "#Let's take a look\n",
    "final_model.style.hide(axis='index')"
   ]
  },
  {
   "cell_type": "markdown",
   "metadata": {},
   "source": [
    "# Compare the confusion matrices from the two models"
   ]
  },
  {
   "cell_type": "code",
   "execution_count": null,
   "metadata": {},
   "outputs": [],
   "source": [
    "#First model\n",
    "print(ConfusionMatrixDisplay.from_estimator(best,X_tune,y_tune,colorbar=False))"
   ]
  },
  {
   "cell_type": "code",
   "execution_count": null,
   "metadata": {},
   "outputs": [],
   "source": [
    "#New engineered model\n",
    "print(ConfusionMatrixDisplay.from_estimator(best_eng,X_tune1,y_tune1,colorbar=False)) #Better tpr and tnr!"
   ]
  },
  {
   "cell_type": "markdown",
   "metadata": {},
   "source": [
    "## We can also review the variable importance"
   ]
  },
  {
   "cell_type": "code",
   "execution_count": null,
   "metadata": {},
   "outputs": [],
   "source": [
    "#First model\n",
    "print(pd.DataFrame(best.feature_importances_,index = X.columns,columns=['importance']).sort_values('importance', ascending=False))\n"
   ]
  },
  {
   "cell_type": "code",
   "execution_count": null,
   "metadata": {},
   "outputs": [],
   "source": [
    "#Engineered model\n",
    "print(pd.DataFrame(best_eng.feature_importances_,index = X1.columns,columns=['importance']).sort_values('importance', ascending=False))\n",
    "#Smaller model so less variables are considered in the decision making for better or worse..."
   ]
  },
  {
   "cell_type": "markdown",
   "metadata": {},
   "source": [
    "## Predict with test, how did we do? "
   ]
  },
  {
   "cell_type": "code",
   "execution_count": null,
   "metadata": {},
   "outputs": [],
   "source": [
    "#Original model\n",
    "print(ConfusionMatrixDisplay.from_estimator(best,X_test,y_test,colorbar=False))"
   ]
  },
  {
   "cell_type": "code",
   "execution_count": null,
   "metadata": {},
   "outputs": [],
   "source": [
    "#New engineered model\n",
    "print(ConfusionMatrixDisplay.from_estimator(best_eng,X_test1,y_test1,colorbar=False)) #Ultimately, very similar results"
   ]
  },
  {
   "cell_type": "markdown",
   "metadata": {},
   "source": [
    "## How about accuracy score?"
   ]
  },
  {
   "cell_type": "code",
   "execution_count": null,
   "metadata": {},
   "outputs": [],
   "source": [
    "#Original model\n",
    "print(best.score(X_test,y_test)) #accuracy "
   ]
  },
  {
   "cell_type": "code",
   "execution_count": null,
   "metadata": {},
   "outputs": [],
   "source": [
    "#Engineered model\n",
    "print(best_eng.score(X_test1,y_test1)) #Basically the same"
   ]
  },
  {
   "cell_type": "markdown",
   "metadata": {},
   "source": [
    "## Another example with a binary dataset this time!"
   ]
  },
  {
   "cell_type": "code",
   "execution_count": 27,
   "metadata": {},
   "outputs": [],
   "source": [
    "#Load in new dataset\n",
    "pregnancy = pd.read_csv(\"https://raw.githubusercontent.com/UVADS/DS-3001/main/data/pregnancy.csv\")"
   ]
  },
  {
   "cell_type": "code",
   "execution_count": 28,
   "metadata": {},
   "outputs": [
    {
     "name": "stdout",
     "output_type": "stream",
     "text": [
      "<class 'pandas.core.frame.DataFrame'>\n",
      "RangeIndex: 2000 entries, 0 to 1999\n",
      "Data columns (total 16 columns):\n",
      " #   Column                  Non-Null Count  Dtype\n",
      "---  ------                  --------------  -----\n",
      " 0   Pregnancy Test          2000 non-null   int64\n",
      " 1   Birth Control           2000 non-null   int64\n",
      " 2   Feminine Hygiene        2000 non-null   int64\n",
      " 3   Folic Acid              2000 non-null   int64\n",
      " 4   Prenatal Vitamins       2000 non-null   int64\n",
      " 5   Prenatal Yoga           2000 non-null   int64\n",
      " 6   Body Pillow             2000 non-null   int64\n",
      " 7   Ginger Ale              2000 non-null   int64\n",
      " 8   Sea Bands               2000 non-null   int64\n",
      " 9   Stopped buying ciggies  2000 non-null   int64\n",
      " 10  Cigarettes              2000 non-null   int64\n",
      " 11  Smoking Cessation       2000 non-null   int64\n",
      " 12  Stopped buying wine     2000 non-null   int64\n",
      " 13  Wine                    2000 non-null   int64\n",
      " 14  Maternity Clothes       2000 non-null   int64\n",
      " 15  PREGNANT                2000 non-null   int64\n",
      "dtypes: int64(16)\n",
      "memory usage: 250.1 KB\n",
      "None\n",
      "   Pregnancy Test  Birth Control  Feminine Hygiene  Folic Acid  \\\n",
      "0               1              0                 0           0   \n",
      "1               1              0                 0           0   \n",
      "2               1              0                 0           0   \n",
      "3               0              0                 0           0   \n",
      "4               0              0                 0           0   \n",
      "\n",
      "   Prenatal Vitamins  Prenatal Yoga  Body Pillow  Ginger Ale  Sea Bands  \\\n",
      "0                  1              0            0           0          0   \n",
      "1                  1              0            0           0          0   \n",
      "2                  0              0            0           0          1   \n",
      "3                  0              0            0           1          0   \n",
      "4                  0              1            0           0          0   \n",
      "\n",
      "   Stopped buying ciggies  Cigarettes  Smoking Cessation  Stopped buying wine  \\\n",
      "0                       0           0                  0                    0   \n",
      "1                       0           0                  0                    0   \n",
      "2                       0           0                  0                    0   \n",
      "3                       0           0                  0                    0   \n",
      "4                       0           0                  0                    1   \n",
      "\n",
      "   Wine  Maternity Clothes  PREGNANT  \n",
      "0     0                  0         1  \n",
      "1     0                  0         1  \n",
      "2     0                  0         1  \n",
      "3     0                  0         1  \n",
      "4     0                  0         1  \n"
     ]
    }
   ],
   "source": [
    "#Let's get familiar with the data\n",
    "print(pregnancy.info())\n",
    "print(pregnancy.head())"
   ]
  },
  {
   "cell_type": "code",
   "execution_count": 29,
   "metadata": {},
   "outputs": [
    {
     "name": "stdout",
     "output_type": "stream",
     "text": [
      "560\n",
      "2000\n",
      "0.72\n"
     ]
    }
   ],
   "source": [
    "#We want to build a classifier that can predict whether a shopper is pregnant\n",
    "#based on the items they buy so we can direct-market to that customer if possible. \n",
    "\n",
    "print(pregnancy.PREGNANT.sum())\n",
    "print(len(pregnancy.PREGNANT))\n",
    "\n",
    "print((1- pregnancy.PREGNANT.sum()/len(pregnancy.PREGNANT)))\n",
    "#What does .72 represent in this context? Prevalence of not being pregnant"
   ]
  },
  {
   "cell_type": "markdown",
   "metadata": {},
   "source": [
    "# reformat for exploration purposes"
   ]
  },
  {
   "cell_type": "code",
   "execution_count": 30,
   "metadata": {},
   "outputs": [
    {
     "name": "stdout",
     "output_type": "stream",
     "text": [
      "   PREGNANT        variable  value\n",
      "0         1  Pregnancy Test      1\n",
      "1         1  Pregnancy Test      1\n",
      "2         1  Pregnancy Test      1\n",
      "3         1  Pregnancy Test      0\n",
      "4         1  Pregnancy Test      0\n"
     ]
    }
   ],
   "source": [
    "#Creating a vertical dataframe for the pregnant variable, just stacking the variables on top of each other. \n",
    "#First get the column names of features then use pd.melt based on the Pregnancy variable\n",
    "feature_cols = pregnancy.drop(columns='PREGNANT').columns\n",
    "pregnancy_long = df = pd.melt(pregnancy, id_vars='PREGNANT', value_vars=feature_cols,\n",
    "             var_name='variable', value_name='value')\n",
    "\n",
    "\n",
    "print(pregnancy_long.head())"
   ]
  },
  {
   "cell_type": "markdown",
   "metadata": {},
   "source": [
    "# See what the base rate likihood of pregnancy looks like for each variable"
   ]
  },
  {
   "cell_type": "code",
   "execution_count": 31,
   "metadata": {},
   "outputs": [
    {
     "name": "stdout",
     "output_type": "stream",
     "text": [
      "                       Var  Value  prob_pregnant  prob_not_pregnant\n",
      "0           Pregnancy Test      0       0.254441           0.745559\n",
      "1           Pregnancy Test      1       0.848837           0.151163\n",
      "2            Birth Control      0       0.327859           0.672141\n",
      "3            Birth Control      1       0.058989           0.941011\n",
      "4         Feminine Hygiene      0       0.321212           0.678788\n",
      "5         Feminine Hygiene      1       0.085714           0.914286\n",
      "6               Folic Acid      0       0.234792           0.765208\n",
      "7               Folic Acid      1       0.952381           0.047619\n",
      "8        Prenatal Vitamins      0       0.236741           0.763259\n",
      "9        Prenatal Vitamins      1       0.742690           0.257310\n",
      "10           Prenatal Yoga      0       0.273647           0.726353\n",
      "11           Prenatal Yoga      1       0.826087           0.173913\n",
      "12             Body Pillow      0       0.276596           0.723404\n",
      "13             Body Pillow      1       0.538462           0.461538\n",
      "14              Ginger Ale      0       0.261717           0.738283\n",
      "15              Ginger Ale      1       0.623762           0.376238\n",
      "16               Sea Bands      0       0.271845           0.728155\n",
      "17               Sea Bands      1       0.651163           0.348837\n",
      "18  Stopped buying ciggies      0       0.255113           0.744887\n",
      "19  Stopped buying ciggies      1       0.605634           0.394366\n",
      "20              Cigarettes      0       0.305413           0.694587\n",
      "21              Cigarettes      1       0.097959           0.902041\n",
      "22       Smoking Cessation      0       0.261523           0.738477\n",
      "23       Smoking Cessation      1       0.797101           0.202899\n",
      "24     Stopped buying wine      0       0.242458           0.757542\n",
      "25     Stopped buying wine      1       0.600000           0.400000\n",
      "26                    Wine      0       0.317612           0.682388\n",
      "27                    Wine      1       0.086154           0.913846\n",
      "28       Maternity Clothes      0       0.239956           0.760044\n",
      "29       Maternity Clothes      1       0.677596           0.322404\n"
     ]
    }
   ],
   "source": [
    "# Calculate the probability of being pregnant by predictor variable.\n",
    "# First let's create a new list to store our probability data\n",
    "data=[]\n",
    "#loop through features and retrieve probability of pregnancy for whether it is bought or not bought\n",
    "#Since the data is binary you can take the average to get the probability.\n",
    "for col in feature_cols:\n",
    "    x = pregnancy.groupby([col])['PREGNANT'].mean()\n",
    "    data.extend([[col,0,x[0]],[col,1,x[1]]])\n",
    "base_rate = pd.DataFrame(data, columns = ['Var', 'Value','prob_pregnant'])\n",
    "base_rate['prob_not_pregnant']= 1-base_rate.prob_pregnant\n",
    "print(base_rate)"
   ]
  },
  {
   "cell_type": "markdown",
   "metadata": {},
   "source": [
    "# Build  the model "
   ]
  },
  {
   "cell_type": "code",
   "execution_count": 32,
   "metadata": {},
   "outputs": [],
   "source": [
    "#Split between features and target and do a three way split\n",
    "X_preg=pregnancy.drop(columns='PREGNANT')\n",
    "y_preg=pregnancy.PREGNANT\n",
    "X_train_preg, X_test_preg, y_train_preg, y_test_preg = train_test_split(X_preg, y_preg, train_size=0.70, stratify= y_preg, random_state=21)\n",
    "X_tune_preg, X_test_preg, y_tune_preg, y_test_preg = train_test_split(X_test_preg,y_test_preg,  train_size = 0.50,stratify= y_test_preg, random_state=49)"
   ]
  },
  {
   "cell_type": "code",
   "execution_count": 33,
   "metadata": {},
   "outputs": [],
   "source": [
    "#This time we are going to use a different technique to complete our hyper-parameter search\n",
    "\n",
    "#define our model, still using the same classifier as before\n",
    "cl2=DecisionTreeClassifier(random_state=1000)\n",
    "\n",
    "#prune our model using minimal cost-complexity pruning, this is an algorithm used to prune a tree to avoid over-fitting\n",
    "path = cl2.cost_complexity_pruning_path(X_train_preg, y_train_preg)\n",
    "ccp_alphas, impurities = path.ccp_alphas, path.impurities"
   ]
  },
  {
   "cell_type": "code",
   "execution_count": 34,
   "metadata": {},
   "outputs": [
    {
     "data": {
      "text/plain": [
       "Text(0.5, 1.0, 'Total Impurity vs effective alpha for training set')"
      ]
     },
     "execution_count": 34,
     "metadata": {},
     "output_type": "execute_result"
    },
    {
     "data": {
      "image/png": "[encoded data removed]",
      "text/plain": [
       "<Figure size 1332x756 with 1 Axes>"
      ]
     },
     "metadata": {
      "needs_background": "light"
     },
     "output_type": "display_data"
    }
   ],
   "source": [
    "#Let's do some exploration into what cost complexity alpha gives the best results without overfitting or underfitting ...\n",
    "fig, ax = plt.subplots()\n",
    "#In the following plot, the maximum effective alpha value is removed, because it is the trivial tree with only one node\n",
    "fig.set_size_inches(18.5, 10.5, forward=True)\n",
    "plt.xticks(ticks=np.arange(0.00,0.06,.0025))\n",
    "ax.plot(ccp_alphas[:-1], impurities[:-1], marker=\"o\", drawstyle=\"steps-post\")\n",
    "ax.set_xlabel(\"effective alpha\")\n",
    "ax.set_ylabel(\"total impurity of leaves\")\n",
    "ax.set_title(\"Total Impurity vs effective alpha for training set\")\n",
    "#As alpha increases, more of the tree is pruned, which increases the total impurity of its leaves."
   ]
  },
  {
   "cell_type": "code",
   "execution_count": 35,
   "metadata": {},
   "outputs": [],
   "source": [
    "#run through all of our alphas and create fitted decision tree classifiers for them so we can explore even further\n",
    "clfs = []\n",
    "for ccp_alpha in ccp_alphas:\n",
    "    clf = DecisionTreeClassifier(random_state=0, ccp_alpha=ccp_alpha)\n",
    "    clf.fit(X_train_preg, y_train_preg)\n",
    "    clfs.append(clf)\n"
   ]
  },
  {
   "cell_type": "code",
   "execution_count": 36,
   "metadata": {},
   "outputs": [
    {
     "data": {
      "image/png": "[encoded data removed]",
      "text/plain": [
       "<Figure size 1332x756 with 2 Axes>"
      ]
     },
     "metadata": {
      "needs_background": "light"
     },
     "output_type": "display_data"
    }
   ],
   "source": [
    "#we remove the last element in clfs and ccp_alphas, because it is the trivial tree with only one node. \n",
    "clfs = clfs[:-1]\n",
    "ccp_alphas = ccp_alphas[:-1]\n",
    "\n",
    "# Here we show that the number of nodes and tree depth decreases as alpha increases, makes sense since the tree is getting smaller\n",
    "node_counts = [clf.tree_.node_count for clf in clfs]\n",
    "depth = [clf.tree_.max_depth for clf in clfs]\n",
    "fig, ax = plt.subplots(2, 1)\n",
    "ax[0].plot(ccp_alphas, node_counts, marker=\"o\", drawstyle=\"steps-post\")\n",
    "ax[0].set_xlabel(\"alpha\")\n",
    "ax[0].set_ylabel(\"number of nodes\")\n",
    "ax[0].set_title(\"Number of nodes vs alpha\")\n",
    "ax[1].plot(ccp_alphas, depth, marker=\"o\", drawstyle=\"steps-post\")\n",
    "ax[1].set_xlabel(\"alpha\")\n",
    "ax[1].set_ylabel(\"depth of tree\")\n",
    "ax[1].set_title(\"Depth vs alpha\")\n",
    "fig.set_size_inches(18.5, 10.5, forward=True)\n",
    "plt.xticks(ticks=np.arange(0.00,0.06,.0025))\n",
    "fig.tight_layout()"
   ]
  },
  {
   "cell_type": "code",
   "execution_count": 37,
   "metadata": {},
   "outputs": [
    {
     "data": {
      "image/png": "[encoded data removed]",
      "text/plain": [
       "<Figure size 1332x756 with 1 Axes>"
      ]
     },
     "metadata": {
      "needs_background": "light"
     },
     "output_type": "display_data"
    }
   ],
   "source": [
    "#When ccp_alpha is set to zero and keeping the other default parameters of DecisionTreeClassifier, \n",
    "#the tree overfits, leading to a 100% training accuracy and less testing accuracy. \n",
    "#As alpha increases, more of the tree is pruned, thus creating a decision tree that generalizes better. \n",
    "#Let's try and find the alpha where we get the highest accuracy for both training and testing data simultaneously \n",
    "train_scores = [clf.score(X_train_preg, y_train_preg) for clf in clfs]\n",
    "test_scores = [clf.score(X_tune_preg, y_tune_preg) for clf in clfs]\n",
    "fig, ax = plt.subplots()\n",
    "ax.set_xlabel(\"alpha\")\n",
    "ax.set_ylabel(\"accuracy\")\n",
    "ax.set_title(\"Accuracy vs alpha for training and testing sets\")\n",
    "ax.plot(ccp_alphas, train_scores, marker=\"o\", label=\"train\", drawstyle=\"steps-post\")\n",
    "ax.plot(ccp_alphas, test_scores, marker=\"o\", label=\"test\", drawstyle=\"steps-post\")\n",
    "ax.legend()\n",
    "plt.xticks(ticks=np.arange(0.00,0.06,.0025))\n",
    "fig.set_size_inches(18.5, 10.5, forward=True)\n",
    "plt.show()\n",
    "#In this example, setting ccp_alpha=0.001 maximizes the testing accuracy."
   ]
  },
  {
   "cell_type": "code",
   "execution_count": 38,
   "metadata": {},
   "outputs": [
    {
     "data": {
      "text/plain": [
       "0.8433333333333334"
      ]
     },
     "execution_count": 38,
     "metadata": {},
     "output_type": "execute_result"
    }
   ],
   "source": [
    "#Let's take a look to get an exact value\n",
    "tree=DecisionTreeClassifier(ccp_alpha= 0.001)\n",
    "tree.fit(X_train_preg,y_train_preg)"
   ]
  },
  {
   "cell_type": "markdown",
   "metadata": {},
   "source": [
    "# Variable Importance"
   ]
  },
  {
   "cell_type": "code",
   "execution_count": 39,
   "metadata": {},
   "outputs": [
    {
     "name": "stdout",
     "output_type": "stream",
     "text": [
      "                        importance\n",
      "Folic Acid                0.282159\n",
      "Prenatal Vitamins         0.157229\n",
      "Pregnancy Test            0.117627\n",
      "Maternity Clothes         0.097533\n",
      "Stopped buying wine       0.073541\n",
      "Feminine Hygiene          0.064128\n",
      "Birth Control             0.063039\n",
      "Smoking Cessation         0.030172\n",
      "Ginger Ale                0.029064\n",
      "Wine                      0.024732\n",
      "Cigarettes                0.023650\n",
      "Stopped buying ciggies    0.018642\n",
      "Sea Bands                 0.013422\n",
      "Body Pillow               0.005061\n",
      "Prenatal Yoga             0.000000\n"
     ]
    }
   ],
   "source": [
    "#Shows the reduction in error provided by including a given variable \n",
    "print(pd.DataFrame(tree.feature_importances_,index = X_preg.columns,columns=['importance']).sort_values('importance', ascending=False))"
   ]
  },
  {
   "cell_type": "markdown",
   "metadata": {},
   "source": [
    "# Test the accuracy "
   ]
  },
  {
   "cell_type": "code",
   "execution_count": 40,
   "metadata": {},
   "outputs": [
    {
     "data": {
      "text/plain": [
       "0.8433333333333334"
      ]
     },
     "execution_count": 40,
     "metadata": {},
     "output_type": "execute_result"
    }
   ],
   "source": [
    "tree.score(X_test_preg,y_test_preg) #84% accurate, nice!"
   ]
  },
  {
   "cell_type": "code",
   "execution_count": 41,
   "metadata": {},
   "outputs": [
    {
     "data": {
      "text/plain": [
       "<sklearn.metrics._plot.confusion_matrix.ConfusionMatrixDisplay at 0x7f99bba25ee0>"
      ]
     },
     "execution_count": 41,
     "metadata": {},
     "output_type": "execute_result"
    },
    {
     "data": {
      "image/png": "[encoded data removed]",
      "text/plain": [
       "<Figure size 432x288 with 1 Axes>"
      ]
     },
     "metadata": {
      "needs_background": "light"
     },
     "output_type": "display_data"
    }
   ],
   "source": [
    "#Confusion matrix\n",
    "ConfusionMatrixDisplay.from_estimator(tree,X_test_preg,y_test_preg, colorbar = False)"
   ]
  },
  {
   "cell_type": "markdown",
   "metadata": {},
   "source": [
    "## Hit Rate or True Classification Rate, Detection Rate and ROC"
   ]
  },
  {
   "cell_type": "code",
   "execution_count": 42,
   "metadata": {},
   "outputs": [
    {
     "name": "stdout",
     "output_type": "stream",
     "text": [
      "Hit Rate/True Error Rate = 15.666666666666668\n"
     ]
    }
   ],
   "source": [
    "# The error rate is defined as a classification of \"Pregnant\" when \n",
    "# this is not the case, and vice versa. It's the sum of all the\n",
    "# values where a column contains the opposite value of the row.\n",
    "pred_preg = tree.predict(X_test_preg)\n",
    "tn, fp, fn, tp = metrics.confusion_matrix(y_test_preg,pred_preg).ravel()\n",
    "# The error rate divides this figure by the total number of data points\n",
    "# for which the forecast is created.\n",
    "print(\"Hit Rate/True Error Rate = \"+ str((fp+fn)/len(y_test_preg)*100))"
   ]
  },
  {
   "cell_type": "code",
   "execution_count": 43,
   "metadata": {},
   "outputs": [
    {
     "name": "stdout",
     "output_type": "stream",
     "text": [
      "Detection Rate = 18.333333333333332\n"
     ]
    }
   ],
   "source": [
    "#Detection Rate is the rate at which the algo detects the positive class in proportion to the entire classification A/(A+B+C+D) where A is poss poss\n",
    "print(\"Detection Rate = \" +str((tp)/len(y_test_preg)*100)) #want this to be higher but there is only so high it can go..."
   ]
  },
  {
   "cell_type": "code",
   "execution_count": 44,
   "metadata": {},
   "outputs": [
    {
     "data": {
      "text/plain": [
       "Text(0.5, 0, 'False Positive Rate')"
      ]
     },
     "execution_count": 44,
     "metadata": {},
     "output_type": "execute_result"
    },
    {
     "data": {
      "image/png": "[encoded data removed]",
      "text/plain": [
       "<Figure size 432x288 with 1 Axes>"
      ]
     },
     "metadata": {
      "needs_background": "light"
     },
     "output_type": "display_data"
    }
   ],
   "source": [
    "#Building the evaluation ROC and AUC using the predicted and original target variables \n",
    "metrics.RocCurveDisplay.from_predictions(y_test_preg,pred_preg)\n",
    "#Set labels and midline...\n",
    "plt.plot([0, 1], [0, 1],'r--')\n",
    "plt.ylabel('True Positive Rate')\n",
    "plt.xlabel('False Positive Rate')"
   ]
  },
  {
   "cell_type": "code",
   "execution_count": null,
   "metadata": {},
   "outputs": [],
   "source": [
    "#We can adjust using a if else statement and the predicted prob, now we have to be 75% sure to classify as pregnant\n",
    "pred_adjusted = (tree.predict_proba(X_test_preg)[:,1] >= .75).astype(np.int32)\n",
    "metrics.RocCurveDisplay.from_predictions(y_test_preg,pred_adjusted)\n",
    "plt.plot([0, 1], [0, 1],'r--')\n",
    "plt.ylabel('True Positive Rate')\n",
    "plt.xlabel('False Positive Rate')"
   ]
  },
  {
   "cell_type": "markdown",
   "metadata": {},
   "source": [
    "# We can also prune the tree to make it less complex "
   ]
  },
  {
   "cell_type": "code",
   "execution_count": null,
   "metadata": {},
   "outputs": [],
   "source": [
    "#Set parameters for our model, this time let's use the complexity parameter or the value of the splitting criterion \n",
    "param2={\"max_depth\" : [1,2,3,4,5,6,7],\n",
    "        #\"splitter\":[\"best\",\"random\"],\n",
    "        #'criterion': ['gini','entropy'],\n",
    "        #\"min_samples_split\":[5,10,15,20,25],\n",
    "        #\"min_samples_leaf\":[2,4,6,8,10],\n",
    "        #\"min_weight_fraction_leaf\":[0,0.1,0.2,0.3,0.4,0.5,0.6,0.7,0.8,0.9],\n",
    "        #\"max_features\":[\"auto\",\"log2\",\"sqrt\",None],\n",
    "        #\"max_leaf_nodes\":[10,20,30,40,50],\n",
    "        #'min_impurity_decrease':[0.00005,0.0001,0.0002,0.0005,0.001,0.0015,0.002,0.005,0.01],\n",
    "        'ccp_alpha' : [.001]\n",
    "           }\n",
    "# set our model\n",
    "cl2=DecisionTreeClassifier(random_state=1000)\n",
    "# set scoring\n",
    "scoring2= ['roc_auc','recall','balanced_accuracy']\n",
    "# define search\n",
    "search_preg = GridSearchCV(cl2, param2, scoring=scoring2, n_jobs=-1, cv=kf,refit='roc_auc') \n",
    "#execute search\n",
    "model_preg = search_preg.fit(X_train_preg, y_train_preg)\n",
    "\n",
    "#Let's get our results!\n",
    "best_preg= model_preg.best_estimator_\n",
    "print(best_preg) #Now only has a max depth of 7"
   ]
  },
  {
   "cell_type": "code",
   "execution_count": null,
   "metadata": {},
   "outputs": [],
   "source": [
    "print(tree.tree_.max_depth) #A lot better than 14!"
   ]
  },
  {
   "cell_type": "code",
   "execution_count": null,
   "metadata": {},
   "outputs": [],
   "source": [
    "#let's take a look\n",
    "dot_data = export_graphviz(best_preg, out_file =None,\n",
    "               feature_names =X_preg.columns, #column names of our features\n",
    "               filled=True, \n",
    "                rounded=True,\n",
    "                class_names=['no','yes']) #classification labels\n",
    "               \n",
    "graph_preg=graphviz.Source(dot_data)\n",
    "graph_preg"
   ]
  },
  {
   "cell_type": "code",
   "execution_count": 46,
   "metadata": {},
   "outputs": [
    {
     "ename": "NameError",
     "evalue": "name 'best_preg' is not defined",
     "output_type": "error",
     "traceback": [
      "\u001b[0;31m---------------------------------------------------------------------------\u001b[0m",
      "\u001b[0;31mNameError\u001b[0m                                 Traceback (most recent call last)",
      "\u001b[1;32m/Users/bpugs/Desktop/DS-3001/08_DT_Class/Decision Trees.ipynb Cell 101'\u001b[0m in \u001b[0;36m<cell line: 1>\u001b[0;34m()\u001b[0m\n\u001b[0;32m----> <a href='vscode-notebook-cell:/Users/bpugs/Desktop/DS-3001/08_DT_Class/Decision%20Trees.ipynb#ch0000149?line=0'>1</a>\u001b[0m best_preg\u001b[39m.\u001b[39mscore(X_test_preg,y_test_preg)\n",
      "\u001b[0;31mNameError\u001b[0m: name 'best_preg' is not defined"
     ]
    }
   ],
   "source": [
    "best_preg.score(X_test_preg,y_test_preg) #Same accuracy as well!"
   ]
  }
 ],
 "metadata": {
  "kernelspec": {
   "display_name": "Python 3",
   "language": "python",
   "name": "python3"
  },
  "language_info": {
   "codemirror_mode": {
    "name": "ipython",
    "version": 3
   },
   "file_extension": ".py",
   "mimetype": "text/x-python",
   "name": "python",
   "nbconvert_exporter": "python",
   "pygments_lexer": "ipython3",
   "version": "3.12.8"
  },
  "orig_nbformat": 4
 },
 "nbformat": 4,
 "nbformat_minor": 2
}

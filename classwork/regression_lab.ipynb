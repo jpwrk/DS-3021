{
 "cells": [
  {
   "cell_type": "markdown",
   "metadata": {},
   "source": [
    "## Q0"
   ]
  },
  {
   "cell_type": "markdown",
   "metadata": {},
   "source": [
    "1. What makes a model “linear”? “Linear” in what?\n",
    "   - A function is linear if the a line of best fit is used to represent the overall relationship between the coefficients. Additionally, it is linear if the coefficient isn't squared (so the highest degree of the variables is 1). There should be a constant rate of change between the variables, which is their relationship to each other. \n",
    "2. How do you interpret the coefficient for a dummy/one-hot-encoded variable? (This is a trick question, and the trick involves how you handle the intercept of the model.) There’s further explanation at the end of this document, if needed.\n",
    "   - For the dummy variable, you need to drop one of the dummy variables (the y-intercept or constant) in order to avoid multicollinearity. This occurs when you overuse dummy variables, leading to a perfect correlation between the variables, which leads to the singularity effect (your model not working). The coefficient would then be the average change associated with each category compared to the reference (dropped) category.\n",
    "3. Can linear regression be used for classification? Explain why, or why not.\n",
    "   - Linear regression could technically be used for classification in certain scenarios if it was binary (two groups) by creating the line of best fit and then categorizing values by above the line and below it, however this is very much not ideal. One reason it's not ideal is because classification often involves data that isn't linear, while regressions main purpose is to find linear relationships. Additionally, classification requires outputs of between 0 and 1, since it uses probabilities. However regression can produce outputs that are negative or outside of the 0 to 1 range. Even if it did produce an output that was within the range, it can be a fake probability, as regression does not use probability. \n",
    "4. If you have a high accuracy on training but low on testing, what might be the problem? It’s also possible you’ll see a pattern in the residuals.\n",
    "   - The problem for low accuracy on the testing data may be from multiple factors. For example, this could be a problem of overfitting, where the model is more memorizing the training data instead of finding an applicable general relationship between the variables. This may also lead to patterns in the residuals as the errors created in the model aren't random, which reveals that there is a problem with the model itself. Low accuracy on the test data could also be due to the initial data having too much noise, causing the model to not be able to create an accurate pattern. The model might also not be able to create an accurate pattern if there isn't enough training data for the model to use.\n",
    "5. Review this page: Non-Linear with Linear What are two ways to incorporate nonlinear relationships between your target/response/dependent/outcome variable y and your features/control/response/independent variables x?\n",
    "    - The first way to deal with a non linear relationship is to modify the data to make new features by adding polynomials (squares, cubes, etc.), and this is called polynomial feature expansion. This fits the data in a unique way, as the line of best fit becomes curved to fit the curved relationship of the x and y variable. The next way is to choose a model that can deal with non-linearity, such as Decision tree regression. This uses a tree-like model to represent the data with a dynamic branch-like lines. This allows for non linear relationships between the x and y to be represented through these \"branches\".\n",
    "1. What is the interpretation of the intercept? A slope coefficient for a variable? The coefficient for a dummy/one-hot-encoded variable?\n",
    "   - Intercept is the predicted value when the control variable is at 0. The slope is how much a variable changes with regard to the independent variable. The coefficient of the dummy variable is the average difference in the dependent variable between the categories, which is compared to the constant version."
   ]
  },
  {
   "cell_type": "code",
   "execution_count": 2,
   "metadata": {},
   "outputs": [
    {
     "data": {
      "text/html": [
       "<div>\n",
       "<style scoped>\n",
       "    .dataframe tbody tr th:only-of-type {\n",
       "        vertical-align: middle;\n",
       "    }\n",
       "\n",
       "    .dataframe tbody tr th {\n",
       "        vertical-align: top;\n",
       "    }\n",
       "\n",
       "    .dataframe thead th {\n",
       "        text-align: right;\n",
       "    }\n",
       "</style>\n",
       "<table border=\"1\" class=\"dataframe\">\n",
       "  <thead>\n",
       "    <tr style=\"text-align: right;\">\n",
       "      <th></th>\n",
       "      <th>Price</th>\n",
       "      <th>Review Scores Rating</th>\n",
       "      <th>Neighbourhood</th>\n",
       "      <th>Property Type</th>\n",
       "      <th>Room Type</th>\n",
       "    </tr>\n",
       "  </thead>\n",
       "  <tbody>\n",
       "    <tr>\n",
       "      <th>0</th>\n",
       "      <td>549</td>\n",
       "      <td>96.0</td>\n",
       "      <td>Manhattan</td>\n",
       "      <td>Apartment</td>\n",
       "      <td>Private room</td>\n",
       "    </tr>\n",
       "    <tr>\n",
       "      <th>1</th>\n",
       "      <td>149</td>\n",
       "      <td>100.0</td>\n",
       "      <td>Brooklyn</td>\n",
       "      <td>Apartment</td>\n",
       "      <td>Entire home/apt</td>\n",
       "    </tr>\n",
       "    <tr>\n",
       "      <th>2</th>\n",
       "      <td>250</td>\n",
       "      <td>100.0</td>\n",
       "      <td>Manhattan</td>\n",
       "      <td>Apartment</td>\n",
       "      <td>Entire home/apt</td>\n",
       "    </tr>\n",
       "    <tr>\n",
       "      <th>3</th>\n",
       "      <td>90</td>\n",
       "      <td>94.0</td>\n",
       "      <td>Brooklyn</td>\n",
       "      <td>Apartment</td>\n",
       "      <td>Private room</td>\n",
       "    </tr>\n",
       "    <tr>\n",
       "      <th>4</th>\n",
       "      <td>270</td>\n",
       "      <td>90.0</td>\n",
       "      <td>Manhattan</td>\n",
       "      <td>Apartment</td>\n",
       "      <td>Entire home/apt</td>\n",
       "    </tr>\n",
       "  </tbody>\n",
       "</table>\n",
       "</div>"
      ],
      "text/plain": [
       "   Price  Review Scores Rating Neighbourhood  Property Type        Room Type\n",
       "0    549                  96.0      Manhattan     Apartment     Private room\n",
       "1    149                 100.0       Brooklyn     Apartment  Entire home/apt\n",
       "2    250                 100.0      Manhattan     Apartment  Entire home/apt\n",
       "3     90                  94.0       Brooklyn     Apartment     Private room\n",
       "4    270                  90.0      Manhattan     Apartment  Entire home/apt"
      ]
     },
     "execution_count": 2,
     "metadata": {},
     "output_type": "execute_result"
    }
   ],
   "source": [
    "import pandas as pd\n",
    "import seaborn as sns\n",
    "import numpy as np\n",
    "\n",
    "q1_clean = pd.read_csv(\"https://raw.githubusercontent.com/DS3001/linearRegression/refs/heads/main/data/Q1_clean.csv\")\n",
    "q1_clean.head()"
   ]
  },
  {
   "cell_type": "markdown",
   "metadata": {},
   "source": [
    "## Q1"
   ]
  },
  {
   "cell_type": "markdown",
   "metadata": {},
   "source": [
    "### 1. Compute the average prices and scores by Neighborhood ; which borough is the most expensive on average? Create a kernel density plot of price and log price, grouping by Neighborhood."
   ]
  },
  {
   "cell_type": "code",
   "execution_count": 3,
   "metadata": {},
   "outputs": [
    {
     "name": "stdout",
     "output_type": "stream",
     "text": [
      "                Review Scores Rating       Price\n",
      "Neighbourhood                                   \n",
      "Bronx                      91.654378   75.276498\n",
      "Brooklyn                   92.363497  127.747378\n",
      "Manhattan                  91.801496  183.664286\n",
      "Queens                     91.549057   96.857233\n",
      "Staten Island              90.843750  146.166667\n"
     ]
    }
   ],
   "source": [
    "neighborhood = q1_clean.groupby('Neighbourhood ').agg({'Review Scores Rating': 'mean','Price': 'mean'})\n",
    "print(neighborhood)"
   ]
  },
  {
   "cell_type": "markdown",
   "metadata": {},
   "source": [
    "From this data, we can see that Manhattan is the most expensive neighborhood on average"
   ]
  },
  {
   "cell_type": "code",
   "execution_count": 4,
   "metadata": {},
   "outputs": [
    {
     "data": {
      "text/plain": [
       "<Axes: xlabel='Log_Price', ylabel='Density'>"
      ]
     },
     "execution_count": 4,
     "metadata": {},
     "output_type": "execute_result"
    },
    {
     "data": {
      "image/png": "[encoded data removed]",
      "text/plain": [
       "<Figure size 640x480 with 1 Axes>"
      ]
     },
     "metadata": {},
     "output_type": "display_data"
    }
   ],
   "source": [
    "q1_clean = q1_clean[q1_clean['Price'] > 0]\n",
    "\n",
    "q1_clean['Log_Price'] = np.log(q1_clean['Price'])\n",
    "\n",
    "sns.kdeplot(q1_clean, x = \"Log_Price\", hue=\"Neighbourhood \", fill=True)"
   ]
  },
  {
   "cell_type": "code",
   "execution_count": 5,
   "metadata": {},
   "outputs": [
    {
     "data": {
      "text/plain": [
       "<Axes: xlabel='Price', ylabel='Density'>"
      ]
     },
     "execution_count": 5,
     "metadata": {},
     "output_type": "execute_result"
    },
    {
     "data": {
      "image/png": "[encoded data removed]",
      "text/plain": [
       "<Figure size 640x480 with 1 Axes>"
      ]
     },
     "metadata": {},
     "output_type": "display_data"
    }
   ],
   "source": [
    "sns.kdeplot(q1_clean, x = \"Price\", hue = \"Neighbourhood \", fill = True)"
   ]
  },
  {
   "cell_type": "markdown",
   "metadata": {},
   "source": [
    "### 2. Regress price on Neighborhood by creating the appropriate dummy/one-hot-encoded variables, without an intercept in the linear model. Compare the coefficients in the regression to the table from part 1. What pattern do you see? What are the coefficients in a regression of a continuous variable on one categorical variable?"
   ]
  },
  {
   "cell_type": "code",
   "execution_count": null,
   "metadata": {},
   "outputs": [
    {
     "name": "stdout",
     "output_type": "stream",
     "text": [
      "  Neighbourhood   coefficient\n",
      "0          Bronx    75.276498\n",
      "1       Brooklyn   127.747378\n",
      "2      Manhattan   183.664286\n",
      "3         Queens    96.857233\n",
      "4  Staten Island   146.166667\n"
     ]
    }
   ],
   "source": [
    "from sklearn.linear_model import LinearRegression\n",
    "from sklearn.metrics import r2_score\n",
    "X1 = pd.get_dummies(q1_clean['Neighbourhood ']) \n",
    "y = q1_clean[\"Price\"]\n",
    "\n",
    "reg = LinearRegression(fit_intercept=False).fit(X1, y)\n",
    "results = pd.DataFrame({'Neighbourhood ': X1.columns, 'coefficient': reg.coef_})\n",
    "print(results)\n"
   ]
  },
  {
   "cell_type": "markdown",
   "metadata": {},
   "source": [
    "We can observe that the coefficients in the regression are exactly the same as they were in the original table. This is because we regressed the price without an intercept. We didn't drop one of the variables when using one hot encoding, which led to perfect multicollinearity. Therefore, the coefficients in this case directly show the difference in the mean price for each neighborhood. "
   ]
  },
  {
   "cell_type": "markdown",
   "metadata": {},
   "source": [
    "### 3. Repeat part 2, but leave an intercept in the linear model. How do you have to handle the creation of the dummies differently? What is the intercept? Interpret the coefficients. How can I get the coefficients in part 2 from these new coefficients?"
   ]
  },
  {
   "cell_type": "code",
   "execution_count": 33,
   "metadata": {},
   "outputs": [
    {
     "name": "stdout",
     "output_type": "stream",
     "text": [
      "  Neighbourhood   coefficient\n",
      "0       Brooklyn    52.470881\n",
      "1      Manhattan   108.387789\n",
      "2         Queens    21.580735\n",
      "3  Staten Island    70.890169\n"
     ]
    }
   ],
   "source": [
    "X1 = pd.get_dummies(q1_clean['Neighbourhood '], drop_first = True) \n",
    "y = q1_clean[\"Price\"]\n",
    "\n",
    "reg = LinearRegression().fit(X1, y)\n",
    "results = pd.DataFrame({'Neighbourhood ': X1.columns, 'coefficient': reg.coef_})\n",
    "print(results)"
   ]
  },
  {
   "cell_type": "markdown",
   "metadata": {},
   "source": [
    "To leave the intercept in the linear model and avoid the dummy variable trap, we have to drop one variable when getting our dummies. This will mean that one of the variables won't have a column, meaning that the model can then assume that the variable with 0 values is the reference variable. The intercept in this case would then be the mean price of the dropped reference category, while the coefficients would represent how much the mean price of each neighborhood differs in comparison to the reference neighborhood. From these new coefficients, you can then add the mean of the first dropped variable (in this case it's the Bronx) to every other mean neighborhood price. So for example, in part 3 the coefficient shown for Brooklyn is 52.47, and if you add the mean for the Bronx from part 2, it then becomes 127.75, which is the coefficient for Brooklyn from part 2."
   ]
  },
  {
   "cell_type": "markdown",
   "metadata": {},
   "source": [
    "### 4. Split the sample 80/20 into a training and a test set. Run a regression of Price on Review Scores Rating and Neighborhood . What is the R^2 and RMSE on the test set? What is the coefficient on Review Scores Rating? What is the most expensive kind of property you can rent?"
   ]
  },
  {
   "cell_type": "code",
   "execution_count": 64,
   "metadata": {},
   "outputs": [
    {
     "name": "stdout",
     "output_type": "stream",
     "text": [
      "Root Mean Squared Error (RMSE): 140.91821103729345\n",
      "R-squared (R²): 0.045925883817350965\n"
     ]
    },
    {
     "data": {
      "text/html": [
       "<div>\n",
       "<style scoped>\n",
       "    .dataframe tbody tr th:only-of-type {\n",
       "        vertical-align: middle;\n",
       "    }\n",
       "\n",
       "    .dataframe tbody tr th {\n",
       "        vertical-align: top;\n",
       "    }\n",
       "\n",
       "    .dataframe thead th {\n",
       "        text-align: right;\n",
       "    }\n",
       "</style>\n",
       "<table border=\"1\" class=\"dataframe\">\n",
       "  <thead>\n",
       "    <tr style=\"text-align: right;\">\n",
       "      <th></th>\n",
       "      <th>variable</th>\n",
       "      <th>coefficient</th>\n",
       "    </tr>\n",
       "  </thead>\n",
       "  <tbody>\n",
       "    <tr>\n",
       "      <th>0</th>\n",
       "      <td>Review Scores Rating</td>\n",
       "      <td>1.211852</td>\n",
       "    </tr>\n",
       "    <tr>\n",
       "      <th>1</th>\n",
       "      <td>Neighbourhood _Brooklyn</td>\n",
       "      <td>51.555970</td>\n",
       "    </tr>\n",
       "    <tr>\n",
       "      <th>2</th>\n",
       "      <td>Neighbourhood _Manhattan</td>\n",
       "      <td>107.413553</td>\n",
       "    </tr>\n",
       "    <tr>\n",
       "      <th>3</th>\n",
       "      <td>Neighbourhood _Queens</td>\n",
       "      <td>20.198573</td>\n",
       "    </tr>\n",
       "    <tr>\n",
       "      <th>4</th>\n",
       "      <td>Neighbourhood _Staten Island</td>\n",
       "      <td>23.454672</td>\n",
       "    </tr>\n",
       "  </tbody>\n",
       "</table>\n",
       "</div>"
      ],
      "text/plain": [
       "                       variable  coefficient\n",
       "0          Review Scores Rating     1.211852\n",
       "1       Neighbourhood _Brooklyn    51.555970\n",
       "2      Neighbourhood _Manhattan   107.413553\n",
       "3         Neighbourhood _Queens    20.198573\n",
       "4  Neighbourhood _Staten Island    23.454672"
      ]
     },
     "execution_count": 64,
     "metadata": {},
     "output_type": "execute_result"
    }
   ],
   "source": [
    "from sklearn.model_selection import train_test_split\n",
    "\n",
    "X = pd.get_dummies(q1_clean[['Neighbourhood ', 'Review Scores Rating']], drop_first=True)\n",
    "y = q1_clean[\"Price\"]\n",
    "\n",
    "X_train, X_test, Y_train, Y_test = train_test_split(X, y, test_size=0.2, random_state=42)\n",
    "\n",
    "model = LinearRegression().fit(X_train, Y_train) \n",
    "\n",
    "#stores predicted values for target variable\n",
    "y_test_pred = model.predict(X_test)\n",
    "\n",
    "from sklearn.metrics import mean_absolute_error, mean_squared_error, r2_score\n",
    "\n",
    "mse = mean_squared_error(Y_test, y_test_pred)\n",
    "rmse = mse**0.5\n",
    "r2 = r2_score(Y_test, y_test_pred)\n",
    "\n",
    "print(f\"Root Mean Squared Error (RMSE): {rmse}\")\n",
    "print(f\"R-squared (R²): {r2}\")\n",
    "\n",
    "results = pd.DataFrame({'variable': X.columns, 'coefficient': model.coef_})\n",
    "results"
   ]
  },
  {
   "cell_type": "markdown",
   "metadata": {},
   "source": [
    "The RMSE on the test set is 140.92, while the R^2 is 0.046. The coefficient of the review scores rating is 1.21, which means that for every one point increase in the rating, the predicted price of the property goes up by 1.21. Since this is positive, we can assume that the most expensive type of property we can buy would be a property located in Manhattan, with a review score rating of 10. "
   ]
  },
  {
   "cell_type": "markdown",
   "metadata": {},
   "source": [
    "### Run a regression of Price on Review Scores Rating and Neighborhood and Property Type. What is the R^2 and RMSE on the test set? What is the coefficient on Review Scores Rating? What is the most expensive kind of property you can rent?"
   ]
  },
  {
   "cell_type": "code",
   "execution_count": 65,
   "metadata": {},
   "outputs": [
    {
     "name": "stdout",
     "output_type": "stream",
     "text": [
      "Root Mean Squared Error (RMSE): 140.30266238276283\n",
      "R-squared (R²): 0.054242713551245325\n"
     ]
    },
    {
     "data": {
      "text/html": [
       "<div>\n",
       "<style scoped>\n",
       "    .dataframe tbody tr th:only-of-type {\n",
       "        vertical-align: middle;\n",
       "    }\n",
       "\n",
       "    .dataframe tbody tr th {\n",
       "        vertical-align: top;\n",
       "    }\n",
       "\n",
       "    .dataframe thead th {\n",
       "        text-align: right;\n",
       "    }\n",
       "</style>\n",
       "<table border=\"1\" class=\"dataframe\">\n",
       "  <thead>\n",
       "    <tr style=\"text-align: right;\">\n",
       "      <th></th>\n",
       "      <th>variable</th>\n",
       "      <th>coefficient</th>\n",
       "    </tr>\n",
       "  </thead>\n",
       "  <tbody>\n",
       "    <tr>\n",
       "      <th>0</th>\n",
       "      <td>Review Scores Rating</td>\n",
       "      <td>1.201011</td>\n",
       "    </tr>\n",
       "    <tr>\n",
       "      <th>1</th>\n",
       "      <td>Neighbourhood _Brooklyn</td>\n",
       "      <td>59.633702</td>\n",
       "    </tr>\n",
       "    <tr>\n",
       "      <th>2</th>\n",
       "      <td>Neighbourhood _Manhattan</td>\n",
       "      <td>121.005520</td>\n",
       "    </tr>\n",
       "    <tr>\n",
       "      <th>3</th>\n",
       "      <td>Neighbourhood _Queens</td>\n",
       "      <td>26.830617</td>\n",
       "    </tr>\n",
       "    <tr>\n",
       "      <th>4</th>\n",
       "      <td>Neighbourhood _Staten Island</td>\n",
       "      <td>15.700974</td>\n",
       "    </tr>\n",
       "    <tr>\n",
       "      <th>5</th>\n",
       "      <td>Property Type_Bed &amp; Breakfast</td>\n",
       "      <td>-28.703920</td>\n",
       "    </tr>\n",
       "    <tr>\n",
       "      <th>6</th>\n",
       "      <td>Property Type_Boat</td>\n",
       "      <td>47.070419</td>\n",
       "    </tr>\n",
       "    <tr>\n",
       "      <th>7</th>\n",
       "      <td>Property Type_Bungalow</td>\n",
       "      <td>83.972440</td>\n",
       "    </tr>\n",
       "    <tr>\n",
       "      <th>8</th>\n",
       "      <td>Property Type_Cabin</td>\n",
       "      <td>12.389621</td>\n",
       "    </tr>\n",
       "    <tr>\n",
       "      <th>9</th>\n",
       "      <td>Property Type_Camper/RV</td>\n",
       "      <td>-13.817125</td>\n",
       "    </tr>\n",
       "    <tr>\n",
       "      <th>10</th>\n",
       "      <td>Property Type_Castle</td>\n",
       "      <td>-41.810548</td>\n",
       "    </tr>\n",
       "    <tr>\n",
       "      <th>11</th>\n",
       "      <td>Property Type_Chalet</td>\n",
       "      <td>-30.237720</td>\n",
       "    </tr>\n",
       "    <tr>\n",
       "      <th>12</th>\n",
       "      <td>Property Type_Condominium</td>\n",
       "      <td>61.907162</td>\n",
       "    </tr>\n",
       "    <tr>\n",
       "      <th>13</th>\n",
       "      <td>Property Type_Dorm</td>\n",
       "      <td>-42.277758</td>\n",
       "    </tr>\n",
       "    <tr>\n",
       "      <th>14</th>\n",
       "      <td>Property Type_House</td>\n",
       "      <td>34.711346</td>\n",
       "    </tr>\n",
       "    <tr>\n",
       "      <th>15</th>\n",
       "      <td>Property Type_Hut</td>\n",
       "      <td>-134.604484</td>\n",
       "    </tr>\n",
       "    <tr>\n",
       "      <th>16</th>\n",
       "      <td>Property Type_Lighthouse</td>\n",
       "      <td>-91.438731</td>\n",
       "    </tr>\n",
       "    <tr>\n",
       "      <th>17</th>\n",
       "      <td>Property Type_Loft</td>\n",
       "      <td>69.891025</td>\n",
       "    </tr>\n",
       "    <tr>\n",
       "      <th>18</th>\n",
       "      <td>Property Type_Other</td>\n",
       "      <td>49.249761</td>\n",
       "    </tr>\n",
       "    <tr>\n",
       "      <th>19</th>\n",
       "      <td>Property Type_Townhouse</td>\n",
       "      <td>44.110768</td>\n",
       "    </tr>\n",
       "    <tr>\n",
       "      <th>20</th>\n",
       "      <td>Property Type_Treehouse</td>\n",
       "      <td>10.325182</td>\n",
       "    </tr>\n",
       "    <tr>\n",
       "      <th>21</th>\n",
       "      <td>Property Type_Villa</td>\n",
       "      <td>33.901468</td>\n",
       "    </tr>\n",
       "  </tbody>\n",
       "</table>\n",
       "</div>"
      ],
      "text/plain": [
       "                         variable  coefficient\n",
       "0            Review Scores Rating     1.201011\n",
       "1         Neighbourhood _Brooklyn    59.633702\n",
       "2        Neighbourhood _Manhattan   121.005520\n",
       "3           Neighbourhood _Queens    26.830617\n",
       "4    Neighbourhood _Staten Island    15.700974\n",
       "5   Property Type_Bed & Breakfast   -28.703920\n",
       "6              Property Type_Boat    47.070419\n",
       "7          Property Type_Bungalow    83.972440\n",
       "8             Property Type_Cabin    12.389621\n",
       "9         Property Type_Camper/RV   -13.817125\n",
       "10           Property Type_Castle   -41.810548\n",
       "11           Property Type_Chalet   -30.237720\n",
       "12      Property Type_Condominium    61.907162\n",
       "13             Property Type_Dorm   -42.277758\n",
       "14            Property Type_House    34.711346\n",
       "15              Property Type_Hut  -134.604484\n",
       "16       Property Type_Lighthouse   -91.438731\n",
       "17             Property Type_Loft    69.891025\n",
       "18            Property Type_Other    49.249761\n",
       "19        Property Type_Townhouse    44.110768\n",
       "20        Property Type_Treehouse    10.325182\n",
       "21            Property Type_Villa    33.901468"
      ]
     },
     "execution_count": 65,
     "metadata": {},
     "output_type": "execute_result"
    }
   ],
   "source": [
    "X = pd.get_dummies(q1_clean[['Neighbourhood ', 'Review Scores Rating', 'Property Type']], drop_first=True)\n",
    "y = q1_clean[\"Price\"]\n",
    "X_train, X_test, Y_train, Y_test = train_test_split(X, y, test_size=0.2, random_state=42)\n",
    "\n",
    "model = LinearRegression().fit(X_train, Y_train) \n",
    "\n",
    "#stores predicted values for target variable\n",
    "y_test_pred = model.predict(X_test)\n",
    "\n",
    "from sklearn.metrics import mean_absolute_error, mean_squared_error, r2_score\n",
    "\n",
    "mse = mean_squared_error(Y_test, y_test_pred)\n",
    "rmse = mse**0.5\n",
    "r2 = r2_score(Y_test, y_test_pred)\n",
    "\n",
    "print(f\"Root Mean Squared Error (RMSE): {rmse}\")\n",
    "print(f\"R-squared (R²): {r2}\")\n",
    "\n",
    "results = pd.DataFrame({'variable': X.columns, 'coefficient': model.coef_})\n",
    "results"
   ]
  },
  {
   "cell_type": "markdown",
   "metadata": {},
   "source": [
    "The RMSE is 140.3, while the R^2 is 0.054. The coefficient on the Review Score rating is 1.2, which means that for every point increase in the rating, the price went up by 1.2. We can observe from the results that the most expensive property we can rent is a bungalow. "
   ]
  },
  {
   "cell_type": "markdown",
   "metadata": {},
   "source": [
    "### 6. What does the coefficient on Review Scores Rating mean if it changes from part 4 to 5? Hint: Think about how multiple linear regression works."
   ]
  },
  {
   "cell_type": "markdown",
   "metadata": {},
   "source": [
    "If the coefficient on review scores rating changed from part 4 to 5, it's because we are accounting for additional variables. In part 4, we were calculating how much the price goes up for each point increase in rating while controlling for Neighborhood, but in part 5 we were controlling for Neighborhood and Property. This means that the model is adjusting for the influence of both Neighborhood and Property in part 5, which explains why the coefficient on review scores rating changed. "
   ]
  },
  {
   "cell_type": "markdown",
   "metadata": {},
   "source": [
    "## Q2"
   ]
  },
  {
   "cell_type": "markdown",
   "metadata": {},
   "source": [
    "### 1. Load cars_hw.csv. These data were really dirty, and I’ve already cleaned them a significant amount in terms of missing values and other issues, but some issues remain (e.g. outliers, badly skewed variables that require a log or arcsinh transformation) Note this is different than normalizing: there is a text below that explains further. Clean the data however you think is most appropriate."
   ]
  },
  {
   "cell_type": "code",
   "execution_count": 142,
   "metadata": {},
   "outputs": [
    {
     "data": {
      "text/html": [
       "<div>\n",
       "<style scoped>\n",
       "    .dataframe tbody tr th:only-of-type {\n",
       "        vertical-align: middle;\n",
       "    }\n",
       "\n",
       "    .dataframe tbody tr th {\n",
       "        vertical-align: top;\n",
       "    }\n",
       "\n",
       "    .dataframe thead th {\n",
       "        text-align: right;\n",
       "    }\n",
       "</style>\n",
       "<table border=\"1\" class=\"dataframe\">\n",
       "  <thead>\n",
       "    <tr style=\"text-align: right;\">\n",
       "      <th></th>\n",
       "      <th>Unnamed: 0</th>\n",
       "      <th>Make</th>\n",
       "      <th>Make_Year</th>\n",
       "      <th>Color</th>\n",
       "      <th>Body_Type</th>\n",
       "      <th>Mileage_Run</th>\n",
       "      <th>No_of_Owners</th>\n",
       "      <th>Seating_Capacity</th>\n",
       "      <th>Fuel_Type</th>\n",
       "      <th>Transmission</th>\n",
       "      <th>Transmission_Type</th>\n",
       "      <th>Price</th>\n",
       "    </tr>\n",
       "  </thead>\n",
       "  <tbody>\n",
       "    <tr>\n",
       "      <th>0</th>\n",
       "      <td>1</td>\n",
       "      <td>Volkswagen</td>\n",
       "      <td>2017</td>\n",
       "      <td>silver</td>\n",
       "      <td>sedan</td>\n",
       "      <td>44611</td>\n",
       "      <td>1st</td>\n",
       "      <td>5</td>\n",
       "      <td>diesel</td>\n",
       "      <td>7-Speed</td>\n",
       "      <td>Automatic</td>\n",
       "      <td>657000</td>\n",
       "    </tr>\n",
       "    <tr>\n",
       "      <th>1</th>\n",
       "      <td>2</td>\n",
       "      <td>Hyundai</td>\n",
       "      <td>2016</td>\n",
       "      <td>red</td>\n",
       "      <td>crossover</td>\n",
       "      <td>20305</td>\n",
       "      <td>1st</td>\n",
       "      <td>5</td>\n",
       "      <td>petrol</td>\n",
       "      <td>5-Speed</td>\n",
       "      <td>Manual</td>\n",
       "      <td>682000</td>\n",
       "    </tr>\n",
       "    <tr>\n",
       "      <th>2</th>\n",
       "      <td>3</td>\n",
       "      <td>Honda</td>\n",
       "      <td>2019</td>\n",
       "      <td>white</td>\n",
       "      <td>suv</td>\n",
       "      <td>29540</td>\n",
       "      <td>2nd</td>\n",
       "      <td>5</td>\n",
       "      <td>petrol</td>\n",
       "      <td>5-Speed</td>\n",
       "      <td>Manual</td>\n",
       "      <td>793000</td>\n",
       "    </tr>\n",
       "    <tr>\n",
       "      <th>3</th>\n",
       "      <td>4</td>\n",
       "      <td>Renault</td>\n",
       "      <td>2017</td>\n",
       "      <td>bronze</td>\n",
       "      <td>hatchback</td>\n",
       "      <td>35680</td>\n",
       "      <td>1st</td>\n",
       "      <td>5</td>\n",
       "      <td>petrol</td>\n",
       "      <td>5-Speed</td>\n",
       "      <td>Manual</td>\n",
       "      <td>414000</td>\n",
       "    </tr>\n",
       "    <tr>\n",
       "      <th>4</th>\n",
       "      <td>5</td>\n",
       "      <td>Hyundai</td>\n",
       "      <td>2017</td>\n",
       "      <td>orange</td>\n",
       "      <td>hatchback</td>\n",
       "      <td>25126</td>\n",
       "      <td>1st</td>\n",
       "      <td>5</td>\n",
       "      <td>petrol</td>\n",
       "      <td>5-Speed</td>\n",
       "      <td>Manual</td>\n",
       "      <td>515000</td>\n",
       "    </tr>\n",
       "  </tbody>\n",
       "</table>\n",
       "</div>"
      ],
      "text/plain": [
       "   Unnamed: 0        Make  Make_Year   Color  Body_Type  Mileage_Run  \\\n",
       "0           1  Volkswagen       2017  silver      sedan        44611   \n",
       "1           2     Hyundai       2016     red  crossover        20305   \n",
       "2           3       Honda       2019   white        suv        29540   \n",
       "3           4     Renault       2017  bronze  hatchback        35680   \n",
       "4           5     Hyundai       2017  orange  hatchback        25126   \n",
       "\n",
       "  No_of_Owners  Seating_Capacity Fuel_Type Transmission Transmission_Type  \\\n",
       "0          1st                 5    diesel      7-Speed         Automatic   \n",
       "1          1st                 5    petrol      5-Speed            Manual   \n",
       "2          2nd                 5    petrol      5-Speed            Manual   \n",
       "3          1st                 5    petrol      5-Speed            Manual   \n",
       "4          1st                 5    petrol      5-Speed            Manual   \n",
       "\n",
       "    Price  \n",
       "0  657000  \n",
       "1  682000  \n",
       "2  793000  \n",
       "3  414000  \n",
       "4  515000  "
      ]
     },
     "execution_count": 142,
     "metadata": {},
     "output_type": "execute_result"
    }
   ],
   "source": [
    "cars = pd.read_csv(\"/workspaces/DS-3021/data/cars_hw.csv\")\n",
    "cars['Price'] = pd.to_numeric(cars['Price'])\n",
    "\n",
    "from sklearn.preprocessing import MinMaxScaler, StandardScaler\n",
    "scaler = StandardScaler()\n",
    "cars_scaled = scaler.fit_transform(cars[['Seating_Capacity', 'Mileage_Run', 'Make_Year']])\n",
    "\n",
    "cars.head()\n"
   ]
  },
  {
   "cell_type": "code",
   "execution_count": 126,
   "metadata": {},
   "outputs": [
    {
     "data": {
      "text/plain": [
       "Unnamed: 0            int64\n",
       "Make                 object\n",
       "Make_Year             int64\n",
       "Color                object\n",
       "Body_Type            object\n",
       "Mileage_Run           int64\n",
       "No_of_Owners         object\n",
       "Seating_Capacity      int64\n",
       "Fuel_Type            object\n",
       "Transmission         object\n",
       "Transmission_Type    object\n",
       "Price                 int64\n",
       "dtype: object"
      ]
     },
     "execution_count": 126,
     "metadata": {},
     "output_type": "execute_result"
    }
   ],
   "source": [
    "cars.dtypes"
   ]
  },
  {
   "cell_type": "markdown",
   "metadata": {},
   "source": [
    "### 2. Summarize the Price variable and create a kernel density plot. Use .groupby() and .describe() to summarize prices by brand (Make). Make a grouped kernel density plot by Make. Which car brands are the most expensive? What do prices look like in general?"
   ]
  },
  {
   "cell_type": "code",
   "execution_count": 143,
   "metadata": {},
   "outputs": [
    {
     "name": "stdout",
     "output_type": "stream",
     "text": [
      "count    9.760000e+02\n",
      "mean     7.410195e+05\n",
      "std      3.673234e+05\n",
      "min      1.880000e+05\n",
      "25%      4.757500e+05\n",
      "50%      6.665000e+05\n",
      "75%      8.830000e+05\n",
      "max      2.941000e+06\n",
      "Name: Price, dtype: float64\n",
      "               count          mean           std        min        25%  \\\n",
      "Make                                                                     \n",
      "Chevrolet        6.0  4.535000e+05  2.466064e+05   267000.0   288500.0   \n",
      "Datsun           3.0  2.896667e+05  1.050397e+04   279000.0   284500.0   \n",
      "Ford            52.0  7.211731e+05  1.409277e+05   290000.0   635000.0   \n",
      "Honda           73.0  7.989726e+05  2.665091e+05   316000.0   581000.0   \n",
      "Hyundai        305.0  6.918918e+05  2.791597e+05   248000.0   485000.0   \n",
      "Jeep             4.0  1.499500e+06  1.525134e+05  1290000.0  1447500.0   \n",
      "Kia              8.0  1.614750e+06  1.190567e+05  1369000.0  1579000.0   \n",
      "MG Motors       35.0  1.869457e+06  1.216611e+05  1589000.0  1786500.0   \n",
      "Mahindra        18.0  1.100167e+06  1.755493e+05   796000.0  1037000.0   \n",
      "Maruti Suzuki  293.0  5.887850e+05  2.160199e+05   237000.0   411000.0   \n",
      "Nissan           4.0  8.842500e+05  2.895599e+05   475000.0   782500.0   \n",
      "Renault         68.0  6.625735e+05  2.148273e+05   287000.0   475000.0   \n",
      "Skoda            5.0  1.136000e+06  1.070175e+06   436000.0   466000.0   \n",
      "Tata            23.0  1.055217e+06  5.578305e+05   188000.0   779500.0   \n",
      "Toyota          50.0  8.003400e+05  2.466900e+05   368000.0   526250.0   \n",
      "Volkswagen      29.0  6.058276e+05  1.198312e+05   402000.0   542000.0   \n",
      "\n",
      "                     50%        75%        max  \n",
      "Make                                            \n",
      "Chevrolet       345500.0   537500.0   892000.0  \n",
      "Datsun          290000.0   295000.0   300000.0  \n",
      "Ford            707500.0   787000.0  1066000.0  \n",
      "Honda           785000.0   915000.0  1537000.0  \n",
      "Hyundai         638000.0   837000.0  1742000.0  \n",
      "Jeep           1529500.0  1581500.0  1649000.0  \n",
      "Kia            1628500.0  1705750.0  1741000.0  \n",
      "MG Motors      1848000.0  1978000.0  2019000.0  \n",
      "Mahindra       1094500.0  1157000.0  1465000.0  \n",
      "Maruti Suzuki   527000.0   764000.0  1163000.0  \n",
      "Nissan          978000.0  1079750.0  1106000.0  \n",
      "Renault         644000.0   801000.0  1164000.0  \n",
      "Skoda           538000.0  1299000.0  2941000.0  \n",
      "Tata            869000.0  1552000.0  2100000.0  \n",
      "Toyota          894000.0  1023000.0  1092000.0  \n",
      "Volkswagen      607000.0   699000.0   790000.0  \n"
     ]
    }
   ],
   "source": [
    "price_summary = cars['Price'].describe()\n",
    "\n",
    "price_summary_by_brand = cars.groupby('Make')['Price'].describe()\n",
    "\n",
    "print(price_summary)\n",
    "print(price_summary_by_brand)\n"
   ]
  },
  {
   "cell_type": "code",
   "execution_count": 144,
   "metadata": {},
   "outputs": [
    {
     "data": {
      "text/plain": [
       "<Axes: xlabel='Price', ylabel='Density'>"
      ]
     },
     "execution_count": 144,
     "metadata": {},
     "output_type": "execute_result"
    },
    {
     "data": {
      "image/png": "[encoded data removed]",
      "text/plain": [
       "<Figure size 640x480 with 1 Axes>"
      ]
     },
     "metadata": {},
     "output_type": "display_data"
    }
   ],
   "source": [
    "cars['Price'] = np.log(cars['Price'])\n",
    "\n",
    "sns.kdeplot(cars, x = \"Price\", hue=\"Make\", fill=True)"
   ]
  },
  {
   "cell_type": "markdown",
   "metadata": {},
   "source": [
    "As we can observe from the graph, very popular car brands such as Hyundai and Toyota have a very high density, and their prices span pretty wide. The most expensive brand with a very concentrated density is MG Motors, and the most expensive cars we can see are made by Tata."
   ]
  },
  {
   "cell_type": "markdown",
   "metadata": {},
   "source": [
    "### 3. Split the data into an 80% training set and a 20% testing set."
   ]
  },
  {
   "cell_type": "code",
   "execution_count": 145,
   "metadata": {},
   "outputs": [],
   "source": [
    "X = pd.get_dummies(cars[['Make']], drop_first=True)\n",
    "y = cars[\"Price\"]\n",
    "\n",
    "X_train, X_test, Y_train, Y_test = train_test_split(X, y, test_size=0.2, random_state=42)"
   ]
  },
  {
   "cell_type": "markdown",
   "metadata": {},
   "source": [
    "### 4. Make a model where you regress price on the numeric variables alone; what is the R^2 and RMSE on the training set and test set? Make a second model where, for the categorical variables, you regress price on a model comprised of one-hot encoded regressors/features alone (you can use pd.get_dummies(); be careful of the dummy variable trap); what is the R^2 and RMSE on the test set? Which model performs better on the test set? Make a third model that combines all the regressors from the previous two; what is the R^2 and RMSE on the test set? Does the joint model perform better or worse, and by home much?"
   ]
  },
  {
   "cell_type": "code",
   "execution_count": 146,
   "metadata": {},
   "outputs": [
    {
     "name": "stdout",
     "output_type": "stream",
     "text": [
      "test_rmse: 0.3441661940197742\n",
      "test r^2: 0.37887654254503\n",
      "train_rmse: 0.34586399898317854\n",
      "train r^2: 0.41700138783176044\n"
     ]
    }
   ],
   "source": [
    "X = cars[['Mileage_Run', 'Seating_Capacity', 'Make_Year']]\n",
    "y = cars[\"Price\"]\n",
    "X_train, X_test, Y_train, Y_test = train_test_split(X, y, test_size=0.2, random_state=42)\n",
    "\n",
    "model = LinearRegression().fit(X_train, Y_train) \n",
    "\n",
    "#stores predicted values for target variable\n",
    "y_test_pred = model.predict(X_test)\n",
    "\n",
    "from sklearn.metrics import mean_absolute_error, mean_squared_error, r2_score\n",
    "\n",
    "test_mse = mean_squared_error(Y_test, y_test_pred)\n",
    "test_rmse = test_mse**0.5\n",
    "test_r2 = r2_score(Y_test, y_test_pred)\n",
    "\n",
    "print(f\"test_rmse: {test_rmse}\")\n",
    "print(f\"test r^2: {test_r2}\")\n",
    "\n",
    "y_train_pred = model.predict(X_train)\n",
    "\n",
    "train_mse = mean_squared_error(Y_train, y_train_pred)\n",
    "train_rmse = train_mse**0.5\n",
    "train_r2 = r2_score(Y_train, y_train_pred)\n",
    "\n",
    "print(f\"train_rmse: {train_rmse}\")\n",
    "print(f\"train r^2: {train_r2}\")\n"
   ]
  },
  {
   "cell_type": "code",
   "execution_count": 151,
   "metadata": {},
   "outputs": [
    {
     "name": "stdout",
     "output_type": "stream",
     "text": [
      "rmse: 0.29723324047036226\n",
      "r^2: 0.5367277728870576\n"
     ]
    }
   ],
   "source": [
    "X = pd.get_dummies(cars[['Body_Type', 'No_of_Owners', 'Fuel_Type', 'Transmission', 'Transmission_Type']], drop_first=True)\n",
    "y = cars[\"Price\"]\n",
    "X_train, X_test, Y_train, Y_test = train_test_split(X, y, test_size=0.2, random_state=42)\n",
    "\n",
    "model = LinearRegression().fit(X_train, Y_train) \n",
    "\n",
    "#stores predicted values for target variable\n",
    "y_test_pred = model.predict(X_test)\n",
    "\n",
    "from sklearn.metrics import mean_absolute_error, mean_squared_error, r2_score\n",
    "\n",
    "mse = mean_squared_error(Y_test, y_test_pred)\n",
    "rmse = mse**0.5\n",
    "r2 = r2_score(Y_test, y_test_pred)\n",
    "\n",
    "print(f\"rmse: {rmse}\")\n",
    "print(f\"r^2: {r2}\")\n"
   ]
  },
  {
   "cell_type": "markdown",
   "metadata": {},
   "source": [
    "From the two RMSE's we generated for each model on the test set, we can see that the test set with all of the categorical variables had a lower RMSE and therefore performed better. "
   ]
  },
  {
   "cell_type": "code",
   "execution_count": 150,
   "metadata": {},
   "outputs": [
    {
     "name": "stdout",
     "output_type": "stream",
     "text": [
      "test rmse: 0.21928060333711905\n",
      "test r^2: 0.7478598843169744\n",
      "train rmse: 0.22097376487414333\n",
      "train r2: 0.7620212199346144\n"
     ]
    }
   ],
   "source": [
    "X_categorical = pd.get_dummies(cars[['Body_Type', 'No_of_Owners', 'Fuel_Type', 'Transmission', 'Transmission_Type']], drop_first=True)\n",
    "X_combined = pd.concat([X_categorical, cars[['Mileage_Run', 'Seating_Capacity', 'Make_Year']]], axis=1)\n",
    "\n",
    "y = cars[\"Price\"]\n",
    "\n",
    "X_train, X_test, Y_train, Y_test = train_test_split(X_combined, y, test_size=0.2, random_state=42)\n",
    "\n",
    "model = LinearRegression().fit(X_train, Y_train)\n",
    "\n",
    "y_test_pred = model.predict(X_test)\n",
    "\n",
    "test_mse = mean_squared_error(Y_test, y_test_pred)\n",
    "test_rmse = test_mse**0.5\n",
    "test_r2 = r2_score(Y_test, y_test_pred)\n",
    "\n",
    "print(f\"test rmse: {test_rmse}\")\n",
    "print(f\"test r^2: {test_r2}\")\n",
    "\n",
    "y_train_pred = model.predict(X_train)\n",
    "\n",
    "train_mse = mean_squared_error(Y_train, y_train_pred)\n",
    "train_rmse = train_mse**0.5\n",
    "train_r2 = r2_score(Y_train, y_train_pred)\n",
    "\n",
    "print(f\"train rmse: {train_rmse}\")\n",
    "print(f\"train r2: {train_r2}\")\n"
   ]
  },
  {
   "cell_type": "markdown",
   "metadata": {},
   "source": [
    "The rmse is lower for the combined model using both the categorical and numerical variables. It out performed the numerical model by around 0.12, and the categorical model by about 0.08. "
   ]
  },
  {
   "cell_type": "markdown",
   "metadata": {},
   "source": [
    "### 5. Use the PolynomialFeatures function from sklearn to expand the set of numerical variables you’re using in the regression. As you increase the degree of the expansion, how do the R^2 and RMSE change? At what point does R^2 go negative on the test set? For your best model with expanded features, what is the R^2 and RMSE? How does it compare to your best model from part 4?"
   ]
  },
  {
   "cell_type": "code",
   "execution_count": null,
   "metadata": {},
   "outputs": [
    {
     "name": "stdout",
     "output_type": "stream",
     "text": [
      "test rmse: 0.21928060333711905\n",
      "test r^2: 0.7478598843169744\n",
      "train rmse: 0.22097376487414333\n",
      "train r2: 0.7620212199346144\n"
     ]
    }
   ],
   "source": [
    "from sklearn.preprocessing import PolynomialFeatures\n",
    "\n",
    "expander = PolynomialFeatures(degree=1,interaction_only=True,include_bias=False) # Create the expander\n",
    "Z = expander.fit_transform(X_combined) # Pass the df into the expander to get powers/interactions of x and y\n",
    "names = expander.get_feature_names_out() # Get the names of these variables\n",
    "zdf = pd.DataFrame(data=Z, columns = names) # Create a new, expanded dataframe\n",
    "zdf.head()\n",
    "\n",
    "y = cars[\"Price\"]\n",
    "\n",
    "X_train, X_test, Y_train, Y_test = train_test_split(zdf, y, test_size=0.2, random_state=42)\n",
    "\n",
    "model = LinearRegression().fit(X_train, Y_train)\n",
    "\n",
    "y_test_pred = model.predict(X_test)\n",
    "\n",
    "test_mse = mean_squared_error(Y_test, y_test_pred)\n",
    "test_rmse = test_mse**0.5\n",
    "test_r2 = r2_score(Y_test, y_test_pred)\n",
    "\n",
    "print(f\"test rmse: {test_rmse}\")\n",
    "print(f\"test r^2: {test_r2}\")\n",
    "\n",
    "y_train_pred = model.predict(X_train)\n",
    "\n",
    "train_mse = mean_squared_error(Y_train, y_train_pred)\n",
    "train_rmse = train_mse**0.5\n",
    "train_r2 = r2_score(Y_train, y_train_pred)\n",
    "\n",
    "print(f\"train rmse: {train_rmse}\")\n",
    "print(f\"train r2: {train_r2}\")"
   ]
  },
  {
   "cell_type": "code",
   "execution_count": 161,
   "metadata": {},
   "outputs": [
    {
     "name": "stdout",
     "output_type": "stream",
     "text": [
      "test rmse: 2.365468879741266\n",
      "test r^2: -28.341072902011266\n",
      "train rmse: 0.19260129257438938\n",
      "train r2: 0.8192096695735219\n"
     ]
    }
   ],
   "source": [
    "\n",
    "expander = PolynomialFeatures(degree=2,interaction_only=True,include_bias=False) # Create the expander\n",
    "Z = expander.fit_transform(X_combined) # Pass the df into the expander to get powers/interactions of x and y\n",
    "names = expander.get_feature_names_out() # Get the names of these variables\n",
    "zdf = pd.DataFrame(data=Z, columns = names) # Create a new, expanded dataframe\n",
    "zdf.head()\n",
    "\n",
    "y = cars[\"Price\"]\n",
    "\n",
    "X_train, X_test, Y_train, Y_test = train_test_split(zdf, y, test_size=0.2, random_state=42)\n",
    "\n",
    "model = LinearRegression().fit(X_train, Y_train)\n",
    "\n",
    "y_test_pred = model.predict(X_test)\n",
    "\n",
    "test_mse = mean_squared_error(Y_test, y_test_pred)\n",
    "test_rmse = test_mse**0.5\n",
    "test_r2 = r2_score(Y_test, y_test_pred)\n",
    "\n",
    "print(f\"test rmse: {test_rmse}\")\n",
    "print(f\"test r^2: {test_r2}\")\n",
    "\n",
    "y_train_pred = model.predict(X_train)\n",
    "\n",
    "train_mse = mean_squared_error(Y_train, y_train_pred)\n",
    "train_rmse = train_mse**0.5\n",
    "train_r2 = r2_score(Y_train, y_train_pred)\n",
    "\n",
    "print(f\"train rmse: {train_rmse}\")\n",
    "print(f\"train r2: {train_r2}\")"
   ]
  },
  {
   "cell_type": "code",
   "execution_count": 162,
   "metadata": {},
   "outputs": [
    {
     "name": "stdout",
     "output_type": "stream",
     "text": [
      "test rmse: 6.518416464118307\n",
      "test r^2: -221.80540460088326\n",
      "train rmse: 0.18025735750740024\n",
      "train r2: 0.8416409804919658\n"
     ]
    }
   ],
   "source": [
    "expander = PolynomialFeatures(degree=3,interaction_only=True,include_bias=False) # Create the expander\n",
    "Z = expander.fit_transform(X_combined) # Pass the df into the expander to get powers/interactions of x and y\n",
    "names = expander.get_feature_names_out() # Get the names of these variables\n",
    "zdf = pd.DataFrame(data=Z, columns = names) # Create a new, expanded dataframe\n",
    "zdf.head()\n",
    "\n",
    "y = cars[\"Price\"]\n",
    "\n",
    "X_train, X_test, Y_train, Y_test = train_test_split(zdf, y, test_size=0.2, random_state=42)\n",
    "\n",
    "model = LinearRegression().fit(X_train, Y_train)\n",
    "\n",
    "y_test_pred = model.predict(X_test)\n",
    "\n",
    "test_mse = mean_squared_error(Y_test, y_test_pred)\n",
    "test_rmse = test_mse**0.5\n",
    "test_r2 = r2_score(Y_test, y_test_pred)\n",
    "\n",
    "print(f\"test rmse: {test_rmse}\")\n",
    "print(f\"test r^2: {test_r2}\")\n",
    "\n",
    "y_train_pred = model.predict(X_train)\n",
    "\n",
    "train_mse = mean_squared_error(Y_train, y_train_pred)\n",
    "train_rmse = train_mse**0.5\n",
    "train_r2 = r2_score(Y_train, y_train_pred)\n",
    "\n",
    "print(f\"train rmse: {train_rmse}\")\n",
    "print(f\"train r2: {train_r2}\")"
   ]
  },
  {
   "cell_type": "markdown",
   "metadata": {},
   "source": [
    "As we increase the degree of expansion, the R^2 grows further away from 1 (which means that the model is performing worse), and the RMSE also grows further away from 0. The R^2 goes negative after you increase the degree from 1 to 2, and our best model was when the degree was 1, which is the same thing we had before we used PolynomialFeatures to increase the number of numerical variables we use in the regression. The R^2 in this model was 0.75, which is the the same as in step 4, and the RMSE is around 0.22, which is also the same as our best model in step 4. This means that our relationship is linear, and best represented with a simple model."
   ]
  },
  {
   "cell_type": "markdown",
   "metadata": {},
   "source": [
    "### For your best model so far, determine the predicted values for the test data and plot them against the true values. Do the predicted values and true values roughly line up along the diagonal, or not? Compute the residuals/errors for the test data and create a kernel density plot. Do the residuals look roughly bell-shaped around zero? Evaluate the strengths and weaknesses of your model."
   ]
  },
  {
   "cell_type": "code",
   "execution_count": null,
   "metadata": {},
   "outputs": [
    {
     "data": {
      "image/png": "[encoded data removed]",
      "text/plain": [
       "<Figure size 640x480 with 1 Axes>"
      ]
     },
     "metadata": {},
     "output_type": "display_data"
    }
   ],
   "source": [
    "X_categorical = pd.get_dummies(cars[['Body_Type', 'No_of_Owners', 'Fuel_Type', 'Transmission', 'Transmission_Type']], drop_first=True)\n",
    "X_combined = pd.concat([X_categorical, cars[['Mileage_Run', 'Seating_Capacity', 'Make_Year']]], axis=1)\n",
    "\n",
    "y = cars[\"Price\"]\n",
    "\n",
    "X_train, X_test, Y_train, Y_test = train_test_split(X_combined, y, test_size=0.2, random_state=42)\n",
    "\n",
    "model = LinearRegression().fit(X_train, Y_train)\n",
    "\n",
    "y_test_pred = model.predict(X_test)\n",
    "\n",
    "test_mse = mean_squared_error(Y_test, y_test_pred)\n",
    "test_rmse = test_mse**0.5\n",
    "test_r2 = r2_score(Y_test, y_test_pred)\n",
    "\n",
    "import matplotlib.pyplot as plt\n",
    "\n",
    "plt.scatter(Y_test, y_test_pred)\n",
    "plt.scatter(Y_train, y_train_pred)\n",
    "plt.show()\n",
    "\n",
    "\n"
   ]
  },
  {
   "cell_type": "markdown",
   "metadata": {},
   "source": [
    "From this graph, we can see that the predicted and true values roughly line up around the diagonal!"
   ]
  },
  {
   "cell_type": "code",
   "execution_count": 166,
   "metadata": {},
   "outputs": [
    {
     "data": {
      "text/plain": [
       "<Axes: xlabel='Price', ylabel='Density'>"
      ]
     },
     "execution_count": 166,
     "metadata": {},
     "output_type": "execute_result"
    },
    {
     "data": {
      "image/png": "[encoded data removed]",
      "text/plain": [
       "<Figure size 640x480 with 1 Axes>"
      ]
     },
     "metadata": {},
     "output_type": "display_data"
    }
   ],
   "source": [
    "residuals = Y_test - y_test_pred\n",
    "sns.kdeplot(residuals)\n"
   ]
  },
  {
   "cell_type": "markdown",
   "metadata": {},
   "source": [
    "Yes, the residuals roughly look bell shaped around 0!"
   ]
  },
  {
   "cell_type": "markdown",
   "metadata": {},
   "source": [
    "Judging from the scatter plot of the true and predicted values, we can see that the model is accurately making predictions regarding the price of the car, based on the variables that we used with the model. The relationship between the variables and the target variable is being properly captured by the model, which is good. Additionally, the bell shaped plot around 0 suggests that the model is not underestimating or overestimating price, meaning that our model is successfully making predictions without bias. Some of the weaknesses in our model could be that the variables we are using to estimate the target variable could be expanded. For instance, the crash history or whether the car was used as a rental car in the past could greatly affect the price of the car, and could improve our model if added. "
   ]
  },
  {
   "cell_type": "markdown",
   "metadata": {},
   "source": [
    "## Q3"
   ]
  },
  {
   "cell_type": "markdown",
   "metadata": {},
   "source": [
    "### 1. Find a dataset on a topic you’re interested in. Some easy options are data.gov, kaggle.com, and data.world."
   ]
  },
  {
   "cell_type": "code",
   "execution_count": null,
   "metadata": {},
   "outputs": [
    {
     "data": {
      "text/html": [
       "<div>\n",
       "<style scoped>\n",
       "    .dataframe tbody tr th:only-of-type {\n",
       "        vertical-align: middle;\n",
       "    }\n",
       "\n",
       "    .dataframe tbody tr th {\n",
       "        vertical-align: top;\n",
       "    }\n",
       "\n",
       "    .dataframe thead th {\n",
       "        text-align: right;\n",
       "    }\n",
       "</style>\n",
       "<table border=\"1\" class=\"dataframe\">\n",
       "  <thead>\n",
       "    <tr style=\"text-align: right;\">\n",
       "      <th></th>\n",
       "      <th>Species</th>\n",
       "      <th>Weight</th>\n",
       "      <th>Length1</th>\n",
       "      <th>Length2</th>\n",
       "      <th>Length3</th>\n",
       "      <th>Height</th>\n",
       "      <th>Width</th>\n",
       "    </tr>\n",
       "  </thead>\n",
       "  <tbody>\n",
       "    <tr>\n",
       "      <th>0</th>\n",
       "      <td>Bream</td>\n",
       "      <td>242.0</td>\n",
       "      <td>23.2</td>\n",
       "      <td>25.4</td>\n",
       "      <td>30.0</td>\n",
       "      <td>11.5200</td>\n",
       "      <td>4.0200</td>\n",
       "    </tr>\n",
       "    <tr>\n",
       "      <th>1</th>\n",
       "      <td>Bream</td>\n",
       "      <td>290.0</td>\n",
       "      <td>24.0</td>\n",
       "      <td>26.3</td>\n",
       "      <td>31.2</td>\n",
       "      <td>12.4800</td>\n",
       "      <td>4.3056</td>\n",
       "    </tr>\n",
       "    <tr>\n",
       "      <th>2</th>\n",
       "      <td>Bream</td>\n",
       "      <td>340.0</td>\n",
       "      <td>23.9</td>\n",
       "      <td>26.5</td>\n",
       "      <td>31.1</td>\n",
       "      <td>12.3778</td>\n",
       "      <td>4.6961</td>\n",
       "    </tr>\n",
       "    <tr>\n",
       "      <th>3</th>\n",
       "      <td>Bream</td>\n",
       "      <td>363.0</td>\n",
       "      <td>26.3</td>\n",
       "      <td>29.0</td>\n",
       "      <td>33.5</td>\n",
       "      <td>12.7300</td>\n",
       "      <td>4.4555</td>\n",
       "    </tr>\n",
       "    <tr>\n",
       "      <th>4</th>\n",
       "      <td>Bream</td>\n",
       "      <td>430.0</td>\n",
       "      <td>26.5</td>\n",
       "      <td>29.0</td>\n",
       "      <td>34.0</td>\n",
       "      <td>12.4440</td>\n",
       "      <td>5.1340</td>\n",
       "    </tr>\n",
       "  </tbody>\n",
       "</table>\n",
       "</div>"
      ],
      "text/plain": [
       "  Species  Weight  Length1  Length2  Length3   Height   Width\n",
       "0   Bream   242.0     23.2     25.4     30.0  11.5200  4.0200\n",
       "1   Bream   290.0     24.0     26.3     31.2  12.4800  4.3056\n",
       "2   Bream   340.0     23.9     26.5     31.1  12.3778  4.6961\n",
       "3   Bream   363.0     26.3     29.0     33.5  12.7300  4.4555\n",
       "4   Bream   430.0     26.5     29.0     34.0  12.4440  5.1340"
      ]
     },
     "execution_count": 185,
     "metadata": {},
     "output_type": "execute_result"
    }
   ],
   "source": [
    "# I chose a dataset on fish!\n",
    "fish = pd.read_csv('/workspaces/DS-3021/data/Fish.csv')"
   ]
  },
  {
   "cell_type": "markdown",
   "metadata": {},
   "source": [
    "### 2. Clean the data and do some exploratory data analysis on key variables that interest you. Pick a particular target/outcome variable and features/predictors."
   ]
  },
  {
   "cell_type": "code",
   "execution_count": 202,
   "metadata": {},
   "outputs": [
    {
     "data": {
      "text/plain": [
       "Species     object\n",
       "Weight     float64\n",
       "Length1    float64\n",
       "Length2    float64\n",
       "Length3    float64\n",
       "Height     float64\n",
       "Width      float64\n",
       "dtype: object"
      ]
     },
     "execution_count": 202,
     "metadata": {},
     "output_type": "execute_result"
    }
   ],
   "source": [
    "fish.dtypes"
   ]
  },
  {
   "cell_type": "code",
   "execution_count": 204,
   "metadata": {},
   "outputs": [
    {
     "data": {
      "text/html": [
       "<div>\n",
       "<style scoped>\n",
       "    .dataframe tbody tr th:only-of-type {\n",
       "        vertical-align: middle;\n",
       "    }\n",
       "\n",
       "    .dataframe tbody tr th {\n",
       "        vertical-align: top;\n",
       "    }\n",
       "\n",
       "    .dataframe thead th {\n",
       "        text-align: right;\n",
       "    }\n",
       "</style>\n",
       "<table border=\"1\" class=\"dataframe\">\n",
       "  <thead>\n",
       "    <tr style=\"text-align: right;\">\n",
       "      <th></th>\n",
       "      <th>Species</th>\n",
       "      <th>Weight</th>\n",
       "      <th>Length1</th>\n",
       "      <th>Length2</th>\n",
       "      <th>Length3</th>\n",
       "      <th>Height</th>\n",
       "      <th>Width</th>\n",
       "    </tr>\n",
       "  </thead>\n",
       "  <tbody>\n",
       "    <tr>\n",
       "      <th>0</th>\n",
       "      <td>Bream</td>\n",
       "      <td>242.0</td>\n",
       "      <td>23.2</td>\n",
       "      <td>25.4</td>\n",
       "      <td>30.0</td>\n",
       "      <td>11.5200</td>\n",
       "      <td>4.0200</td>\n",
       "    </tr>\n",
       "    <tr>\n",
       "      <th>1</th>\n",
       "      <td>Bream</td>\n",
       "      <td>290.0</td>\n",
       "      <td>24.0</td>\n",
       "      <td>26.3</td>\n",
       "      <td>31.2</td>\n",
       "      <td>12.4800</td>\n",
       "      <td>4.3056</td>\n",
       "    </tr>\n",
       "    <tr>\n",
       "      <th>2</th>\n",
       "      <td>Bream</td>\n",
       "      <td>340.0</td>\n",
       "      <td>23.9</td>\n",
       "      <td>26.5</td>\n",
       "      <td>31.1</td>\n",
       "      <td>12.3778</td>\n",
       "      <td>4.6961</td>\n",
       "    </tr>\n",
       "    <tr>\n",
       "      <th>3</th>\n",
       "      <td>Bream</td>\n",
       "      <td>363.0</td>\n",
       "      <td>26.3</td>\n",
       "      <td>29.0</td>\n",
       "      <td>33.5</td>\n",
       "      <td>12.7300</td>\n",
       "      <td>4.4555</td>\n",
       "    </tr>\n",
       "    <tr>\n",
       "      <th>4</th>\n",
       "      <td>Bream</td>\n",
       "      <td>430.0</td>\n",
       "      <td>26.5</td>\n",
       "      <td>29.0</td>\n",
       "      <td>34.0</td>\n",
       "      <td>12.4440</td>\n",
       "      <td>5.1340</td>\n",
       "    </tr>\n",
       "  </tbody>\n",
       "</table>\n",
       "</div>"
      ],
      "text/plain": [
       "  Species  Weight  Length1  Length2  Length3   Height   Width\n",
       "0   Bream   242.0     23.2     25.4     30.0  11.5200  4.0200\n",
       "1   Bream   290.0     24.0     26.3     31.2  12.4800  4.3056\n",
       "2   Bream   340.0     23.9     26.5     31.1  12.3778  4.6961\n",
       "3   Bream   363.0     26.3     29.0     33.5  12.7300  4.4555\n",
       "4   Bream   430.0     26.5     29.0     34.0  12.4440  5.1340"
      ]
     },
     "execution_count": 204,
     "metadata": {},
     "output_type": "execute_result"
    }
   ],
   "source": [
    "fish.head()\n",
    "# I decided to make the fish weight my target variable"
   ]
  },
  {
   "cell_type": "markdown",
   "metadata": {},
   "source": [
    "### 3. Split the sample into an ~80% training set and a ~20% test set."
   ]
  },
  {
   "cell_type": "markdown",
   "metadata": {},
   "source": [
    "### (and) 4. Run a few regressions of your target/outcome variable on a variety of features/predictors. Compute the RMSE on the test set."
   ]
  },
  {
   "cell_type": "code",
   "execution_count": null,
   "metadata": {},
   "outputs": [
    {
     "name": "stdout",
     "output_type": "stream",
     "text": [
      "0.4022991105087622\n",
      "291.57597339705336\n"
     ]
    }
   ],
   "source": [
    "# running the model on just the categorical variables\n",
    "\n",
    "X_categorical = pd.get_dummies(fish[['Species']], drop_first=True)\n",
    "\n",
    "y = fish['Weight']\n",
    "\n",
    "X_train, X_test, Y_train, Y_test = train_test_split(X_categorical, y, test_size=0.2, random_state=42)\n",
    "\n",
    "model = LinearRegression().fit(X_train, Y_train)\n",
    "\n",
    "y_test_pred = model.predict(X_test)\n",
    "y_train_pred = model.predict(X_train)\n",
    "\n",
    "test_mse = mean_squared_error(Y_test, y_test_pred)\n",
    "test_rmse = test_mse**0.5\n",
    "test_r2 = r2_score(Y_test, y_test_pred)\n",
    "\n",
    "print(test_r2)\n",
    "print(test_rmse)"
   ]
  },
  {
   "cell_type": "code",
   "execution_count": null,
   "metadata": {},
   "outputs": [
    {
     "name": "stdout",
     "output_type": "stream",
     "text": [
      "0.8821430593048695\n",
      "129.47543084748065\n"
     ]
    }
   ],
   "source": [
    "# running the model in just the numerical variables \n",
    "X = fish[['Length1', 'Length2', 'Length3', 'Height', 'Width']]\n",
    "\n",
    "y = fish['Weight']\n",
    "\n",
    "X_train, X_test, Y_train, Y_test = train_test_split(X, y, test_size=0.2, random_state=42)\n",
    "\n",
    "model = LinearRegression().fit(X_train, Y_train)\n",
    "\n",
    "y_test_pred = model.predict(X_test)\n",
    "y_train_pred = model.predict(X_train)\n",
    "\n",
    "test_mse = mean_squared_error(Y_test, y_test_pred)\n",
    "test_rmse = test_mse**0.5\n",
    "test_r2 = r2_score(Y_test, y_test_pred)\n",
    "\n",
    "print(test_r2)\n",
    "print(test_rmse)"
   ]
  },
  {
   "cell_type": "code",
   "execution_count": 206,
   "metadata": {},
   "outputs": [
    {
     "name": "stdout",
     "output_type": "stream",
     "text": [
      "0.950735248005451\n",
      "83.71011402365896\n"
     ]
    }
   ],
   "source": [
    "# running the model on both numerical and categorical variables\n",
    "\n",
    "X_combined = pd.concat([X_categorical, X], axis=1)\n",
    "\n",
    "y = fish['Weight']\n",
    "\n",
    "X_train, X_test, Y_train, Y_test = train_test_split(X_combined, y, test_size=0.2, random_state=42)\n",
    "\n",
    "model = LinearRegression().fit(X_train, Y_train)\n",
    "\n",
    "y_test_pred = model.predict(X_test)\n",
    "y_train_pred = model.predict(X_train)\n",
    "\n",
    "test_mse = mean_squared_error(Y_test, y_test_pred)\n",
    "test_rmse = test_mse**0.5\n",
    "test_r2 = r2_score(Y_test, y_test_pred)\n",
    "\n",
    "print(test_r2)\n",
    "print(test_rmse)"
   ]
  },
  {
   "cell_type": "code",
   "execution_count": 190,
   "metadata": {},
   "outputs": [
    {
     "data": {
      "text/plain": [
       "<Axes: xlabel='Weight', ylabel='Density'>"
      ]
     },
     "execution_count": 190,
     "metadata": {},
     "output_type": "execute_result"
    },
    {
     "data": {
      "image/png": "[encoded data removed]",
      "text/plain": [
       "<Figure size 640x480 with 1 Axes>"
      ]
     },
     "metadata": {},
     "output_type": "display_data"
    }
   ],
   "source": [
    "residuals = Y_test - y_test_pred\n",
    "sns.kdeplot(residuals)"
   ]
  },
  {
   "cell_type": "markdown",
   "metadata": {},
   "source": [
    "The residuals are roughly bell shaped around 0!"
   ]
  },
  {
   "cell_type": "code",
   "execution_count": 191,
   "metadata": {},
   "outputs": [
    {
     "data": {
      "image/png": "[encoded data removed]",
      "text/plain": [
       "<Figure size 640x480 with 1 Axes>"
      ]
     },
     "metadata": {},
     "output_type": "display_data"
    }
   ],
   "source": [
    "plt.scatter(Y_test, y_test_pred)\n",
    "plt.scatter(Y_train, y_train_pred)\n",
    "plt.show()"
   ]
  },
  {
   "cell_type": "markdown",
   "metadata": {},
   "source": [
    "Yay the test values are along the diagonal!"
   ]
  },
  {
   "cell_type": "markdown",
   "metadata": {},
   "source": [
    "### 5. Which model performed the best, and why?"
   ]
  },
  {
   "cell_type": "markdown",
   "metadata": {},
   "source": [
    "The model that performed the best was the model that used both the numerical and categorical variables. This is because all of the features in the data had somewhat of a relationship to the weight of the fish, and could contribute to the model. When just the numerical or categorical variables were isolated, the model couldn't make predictions as accurate as compared to if they were both incorporated. "
   ]
  },
  {
   "cell_type": "markdown",
   "metadata": {},
   "source": [
    "### 6. What did you learn?"
   ]
  },
  {
   "cell_type": "markdown",
   "metadata": {},
   "source": [
    "In the specific Q3 portion of this lab, I learned that fish weight is very simple to predict using other variables such as the different lengths, width, and species! Regression wise, over the course of this lab I grew much more comfortable using regression to predict target variables. I learned that there's ways to incorporate non-linear relationships between the dependent and independent variables, which is something that I didn't know was possible prior to this lab. Not only that, but I also learned how to do this with PolynomialFeatures, and applied it to the dataset I was working with. I also learned what the bell curve around 0 for the residuals means in regards to the model, as well as how to plot this to see the bias within the model. I also grew much more familiar with what the coefficients mean in different scenarios, such as when a variable is not dropped when getting dummies, versus when it is. I also learned in depth what the dummy variable trap is and why it occurs, when before I just had a general idea that dropping one variable is good. In conclusion, this lab helped me build upon and truly understand the ideas that we discussed in class. The combination of the real application of the skills, as well as the questions we had to answer to test our understanding of what we were doing led to me feeling much more comfortable with both the concepts and skills required for regression models. "
   ]
  }
 ],
 "metadata": {
  "kernelspec": {
   "display_name": "Python 3",
   "language": "python",
   "name": "python3"
  },
  "language_info": {
   "codemirror_mode": {
    "name": "ipython",
    "version": 3
   },
   "file_extension": ".py",
   "mimetype": "text/x-python",
   "name": "python",
   "nbconvert_exporter": "python",
   "pygments_lexer": "ipython3",
   "version": "3.12.8"
  }
 },
 "nbformat": 4,
 "nbformat_minor": 2
}

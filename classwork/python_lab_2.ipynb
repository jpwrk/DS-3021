{
 "cells": [
  {
   "cell_type": "markdown",
   "metadata": {},
   "source": [
    "# Assignment No.2"
   ]
  },
  {
   "cell_type": "markdown",
   "metadata": {},
   "source": [
    "## Data set 1, Question 1"
   ]
  },
  {
   "cell_type": "markdown",
   "metadata": {},
   "source": [
    "### Is there a difference in the most prevalent age group for suicides before/during and after the 2000s?"
   ]
  },
  {
   "cell_type": "markdown",
   "metadata": {},
   "source": [
    "### Pseudocode:\n",
    "1. Turn the data set into a pandas data frame\n",
    "2. Separate the data set into one with deaths before/during 2000s and after\n",
    "3. Group by age\n",
    "4. Find the mean number of individuals who have committed suicide for each age group"
   ]
  },
  {
   "cell_type": "code",
   "execution_count": 118,
   "metadata": {},
   "outputs": [],
   "source": [
    "import numpy as np\n",
    "import pandas as pd\n",
    "import matplotlib as plt\n",
    "import os"
   ]
  },
  {
   "cell_type": "markdown",
   "metadata": {},
   "source": [
    "### Single line code"
   ]
  },
  {
   "cell_type": "code",
   "execution_count": 83,
   "metadata": {},
   "outputs": [],
   "source": [
    "suicide_data = pd.read_csv(\"/workspaces/DS-3021/random datasets/Death_rates_for_suicide__by_sex__race__Hispanic_origin__and_age__United_States.csv\")"
   ]
  },
  {
   "cell_type": "code",
   "execution_count": 55,
   "metadata": {},
   "outputs": [
    {
     "data": {
      "text/html": [
       "<div>\n",
       "<style scoped>\n",
       "    .dataframe tbody tr th:only-of-type {\n",
       "        vertical-align: middle;\n",
       "    }\n",
       "\n",
       "    .dataframe tbody tr th {\n",
       "        vertical-align: top;\n",
       "    }\n",
       "\n",
       "    .dataframe thead th {\n",
       "        text-align: right;\n",
       "    }\n",
       "</style>\n",
       "<table border=\"1\" class=\"dataframe\">\n",
       "  <thead>\n",
       "    <tr style=\"text-align: right;\">\n",
       "      <th></th>\n",
       "      <th>INDICATOR</th>\n",
       "      <th>UNIT</th>\n",
       "      <th>UNIT_NUM</th>\n",
       "      <th>STUB_NAME</th>\n",
       "      <th>STUB_NAME_NUM</th>\n",
       "      <th>STUB_LABEL</th>\n",
       "      <th>STUB_LABEL_NUM</th>\n",
       "      <th>YEAR</th>\n",
       "      <th>YEAR_NUM</th>\n",
       "      <th>AGE</th>\n",
       "      <th>AGE_NUM</th>\n",
       "      <th>ESTIMATE</th>\n",
       "      <th>FLAG</th>\n",
       "    </tr>\n",
       "  </thead>\n",
       "  <tbody>\n",
       "    <tr>\n",
       "      <th>0</th>\n",
       "      <td>Death rates for suicide</td>\n",
       "      <td>Deaths per 100,000 resident population, age-ad...</td>\n",
       "      <td>1</td>\n",
       "      <td>Total</td>\n",
       "      <td>0</td>\n",
       "      <td>All persons</td>\n",
       "      <td>0.0</td>\n",
       "      <td>1950</td>\n",
       "      <td>1</td>\n",
       "      <td>All ages</td>\n",
       "      <td>0.0</td>\n",
       "      <td>13.2</td>\n",
       "      <td>NaN</td>\n",
       "    </tr>\n",
       "    <tr>\n",
       "      <th>1</th>\n",
       "      <td>Death rates for suicide</td>\n",
       "      <td>Deaths per 100,000 resident population, age-ad...</td>\n",
       "      <td>1</td>\n",
       "      <td>Total</td>\n",
       "      <td>0</td>\n",
       "      <td>All persons</td>\n",
       "      <td>0.0</td>\n",
       "      <td>1960</td>\n",
       "      <td>2</td>\n",
       "      <td>All ages</td>\n",
       "      <td>0.0</td>\n",
       "      <td>12.5</td>\n",
       "      <td>NaN</td>\n",
       "    </tr>\n",
       "    <tr>\n",
       "      <th>2</th>\n",
       "      <td>Death rates for suicide</td>\n",
       "      <td>Deaths per 100,000 resident population, age-ad...</td>\n",
       "      <td>1</td>\n",
       "      <td>Total</td>\n",
       "      <td>0</td>\n",
       "      <td>All persons</td>\n",
       "      <td>0.0</td>\n",
       "      <td>1970</td>\n",
       "      <td>3</td>\n",
       "      <td>All ages</td>\n",
       "      <td>0.0</td>\n",
       "      <td>13.1</td>\n",
       "      <td>NaN</td>\n",
       "    </tr>\n",
       "    <tr>\n",
       "      <th>3</th>\n",
       "      <td>Death rates for suicide</td>\n",
       "      <td>Deaths per 100,000 resident population, age-ad...</td>\n",
       "      <td>1</td>\n",
       "      <td>Total</td>\n",
       "      <td>0</td>\n",
       "      <td>All persons</td>\n",
       "      <td>0.0</td>\n",
       "      <td>1980</td>\n",
       "      <td>4</td>\n",
       "      <td>All ages</td>\n",
       "      <td>0.0</td>\n",
       "      <td>12.2</td>\n",
       "      <td>NaN</td>\n",
       "    </tr>\n",
       "    <tr>\n",
       "      <th>4</th>\n",
       "      <td>Death rates for suicide</td>\n",
       "      <td>Deaths per 100,000 resident population, age-ad...</td>\n",
       "      <td>1</td>\n",
       "      <td>Total</td>\n",
       "      <td>0</td>\n",
       "      <td>All persons</td>\n",
       "      <td>0.0</td>\n",
       "      <td>1981</td>\n",
       "      <td>5</td>\n",
       "      <td>All ages</td>\n",
       "      <td>0.0</td>\n",
       "      <td>12.3</td>\n",
       "      <td>NaN</td>\n",
       "    </tr>\n",
       "  </tbody>\n",
       "</table>\n",
       "</div>"
      ],
      "text/plain": [
       "                 INDICATOR                                               UNIT  \\\n",
       "0  Death rates for suicide  Deaths per 100,000 resident population, age-ad...   \n",
       "1  Death rates for suicide  Deaths per 100,000 resident population, age-ad...   \n",
       "2  Death rates for suicide  Deaths per 100,000 resident population, age-ad...   \n",
       "3  Death rates for suicide  Deaths per 100,000 resident population, age-ad...   \n",
       "4  Death rates for suicide  Deaths per 100,000 resident population, age-ad...   \n",
       "\n",
       "   UNIT_NUM STUB_NAME  STUB_NAME_NUM   STUB_LABEL  STUB_LABEL_NUM  YEAR  \\\n",
       "0         1     Total              0  All persons             0.0  1950   \n",
       "1         1     Total              0  All persons             0.0  1960   \n",
       "2         1     Total              0  All persons             0.0  1970   \n",
       "3         1     Total              0  All persons             0.0  1980   \n",
       "4         1     Total              0  All persons             0.0  1981   \n",
       "\n",
       "   YEAR_NUM       AGE  AGE_NUM  ESTIMATE FLAG  \n",
       "0         1  All ages      0.0      13.2  NaN  \n",
       "1         2  All ages      0.0      12.5  NaN  \n",
       "2         3  All ages      0.0      13.1  NaN  \n",
       "3         4  All ages      0.0      12.2  NaN  \n",
       "4         5  All ages      0.0      12.3  NaN  "
      ]
     },
     "execution_count": 55,
     "metadata": {},
     "output_type": "execute_result"
    }
   ],
   "source": [
    "suicide_data.head()"
   ]
  },
  {
   "cell_type": "code",
   "execution_count": 56,
   "metadata": {},
   "outputs": [],
   "source": [
    "before_2000s = suicide_data.query('YEAR <= 2000')\n",
    "after_2000s = suicide_data.query('YEAR > 2000')"
   ]
  },
  {
   "cell_type": "code",
   "execution_count": 73,
   "metadata": {},
   "outputs": [
    {
     "name": "stdout",
     "output_type": "stream",
     "text": [
      "AGE\n",
      "10-14 years           72\n",
      "15-19 years           72\n",
      "15-24 years          416\n",
      "20-24 years           72\n",
      "25-34 years           72\n",
      "25-44 years          416\n",
      "35-44 years           72\n",
      "45-54 years           72\n",
      "45-64 years          416\n",
      "55-64 years           72\n",
      "65 years and over    416\n",
      "65-74 years          120\n",
      "75-84 years          120\n",
      "85 years and over    120\n",
      "All ages             832\n",
      "dtype: int64\n"
     ]
    }
   ],
   "source": [
    "x1 = before_2000s.groupby(['AGE']).size()\n",
    "x2 = after_2000s.groupby(['AGE']).size()"
   ]
  },
  {
   "cell_type": "markdown",
   "metadata": {},
   "source": [
    "### Function"
   ]
  },
  {
   "cell_type": "code",
   "execution_count": 78,
   "metadata": {},
   "outputs": [],
   "source": [
    "def age_year_suicide(x):\n",
    "    before_2000s = x.query('YEAR <= 2000')\n",
    "    after_2000s = x.query('YEAR > 2000')\n",
    "    x1 = before_2000s.groupby(['AGE']).size()\n",
    "    x2 = after_2000s.groupby(['AGE']).size()\n",
    "    return x1, x2\n"
   ]
  },
  {
   "cell_type": "code",
   "execution_count": 79,
   "metadata": {},
   "outputs": [
    {
     "data": {
      "text/plain": [
       "(AGE\n",
       " 10-14 years           72\n",
       " 15-19 years           72\n",
       " 15-24 years          416\n",
       " 20-24 years           72\n",
       " 25-34 years           72\n",
       " 25-44 years          416\n",
       " 35-44 years           72\n",
       " 45-54 years           72\n",
       " 45-64 years          416\n",
       " 55-64 years           72\n",
       " 65 years and over    416\n",
       " 65-74 years          120\n",
       " 75-84 years          120\n",
       " 85 years and over    120\n",
       " All ages             832\n",
       " dtype: int64,\n",
       " AGE\n",
       " 10-14 years           54\n",
       " 15-19 years           54\n",
       " 15-24 years          396\n",
       " 20-24 years           54\n",
       " 25-34 years           54\n",
       " 25-44 years          396\n",
       " 35-44 years           54\n",
       " 45-54 years           54\n",
       " 45-64 years          396\n",
       " 55-64 years           54\n",
       " 65 years and over    396\n",
       " 65-74 years           92\n",
       " 75-84 years           92\n",
       " 85 years and over     92\n",
       " All ages             792\n",
       " dtype: int64)"
      ]
     },
     "execution_count": 79,
     "metadata": {},
     "output_type": "execute_result"
    }
   ],
   "source": [
    "age_year_suicide(suicide_data)"
   ]
  },
  {
   "cell_type": "markdown",
   "metadata": {},
   "source": [
    "## Data set 1, Question 2"
   ]
  },
  {
   "cell_type": "markdown",
   "metadata": {},
   "source": [
    "### Is suicide more prevalent in Black or African American men or women?"
   ]
  },
  {
   "cell_type": "markdown",
   "metadata": {},
   "source": [
    "### Pseudocode:\n",
    "1. Clean and organize the 'STUB_LABEL'column by dropping every row that represents an individual who is not Black or African American\n",
    "2. Sort the organized data set into two new data frames. One for men and one for women\n",
    "3. Count if there are more men or women affected"
   ]
  },
  {
   "cell_type": "markdown",
   "metadata": {},
   "source": [
    "### Single line code"
   ]
  },
  {
   "cell_type": "code",
   "execution_count": 112,
   "metadata": {},
   "outputs": [],
   "source": [
    "suicide_data1 = suicide_data.drop(suicide_data[~suicide_data['STUB_LABEL'].str.contains('Black', case=False, na=False)].index)"
   ]
  },
  {
   "cell_type": "code",
   "execution_count": 113,
   "metadata": {},
   "outputs": [],
   "source": [
    "female_black_data = suicide_data1.query('STUB_LABEL.str.startswith(\"Female\") and STUB_LABEL.str.contains(\"Black\")', engine='python').count()\n",
    "male_black_data = suicide_data1.query('STUB_LABEL.str.startswith(\"Male\") and STUB_LABEL.str.contains(\"Black\")', engine='python').count()\n",
    "\n",
    "\n"
   ]
  },
  {
   "cell_type": "code",
   "execution_count": 114,
   "metadata": {},
   "outputs": [
    {
     "name": "stdout",
     "output_type": "stream",
     "text": [
      "INDICATOR         521\n",
      "UNIT              521\n",
      "UNIT_NUM          521\n",
      "STUB_NAME         521\n",
      "STUB_NAME_NUM     521\n",
      "STUB_LABEL        521\n",
      "STUB_LABEL_NUM    521\n",
      "YEAR              521\n",
      "YEAR_NUM          521\n",
      "AGE               521\n",
      "AGE_NUM           521\n",
      "ESTIMATE          370\n",
      "FLAG              151\n",
      "dtype: int64\n",
      "INDICATOR         648\n",
      "UNIT              648\n",
      "UNIT_NUM          648\n",
      "STUB_NAME         648\n",
      "STUB_NAME_NUM     648\n",
      "STUB_LABEL        648\n",
      "STUB_LABEL_NUM    648\n",
      "YEAR              648\n",
      "YEAR_NUM          648\n",
      "AGE               648\n",
      "AGE_NUM           648\n",
      "ESTIMATE          469\n",
      "FLAG              179\n",
      "dtype: int64\n"
     ]
    }
   ],
   "source": [
    "print(female_black_data)\n",
    "print(male_black_data)"
   ]
  },
  {
   "cell_type": "markdown",
   "metadata": {},
   "source": [
    "### Function"
   ]
  },
  {
   "cell_type": "code",
   "execution_count": 115,
   "metadata": {},
   "outputs": [],
   "source": [
    "def black_menvwomen(x):\n",
    "    suicide_data1 = x.drop(x[~x['STUB_LABEL'].str.contains('Black', case=False, na=False)].index)\n",
    "    female_black_data = suicide_data1.query('STUB_LABEL.str.startswith(\"Female\") and STUB_LABEL.str.contains(\"Black\")', engine='python').count()\n",
    "    male_black_data = suicide_data1.query('STUB_LABEL.str.startswith(\"Male\") and STUB_LABEL.str.contains(\"Black\")', engine='python').count()\n",
    "    return(female_black_data, male_black_data)\n",
    "    "
   ]
  },
  {
   "cell_type": "code",
   "execution_count": 116,
   "metadata": {},
   "outputs": [
    {
     "data": {
      "text/plain": [
       "(INDICATOR         521\n",
       " UNIT              521\n",
       " UNIT_NUM          521\n",
       " STUB_NAME         521\n",
       " STUB_NAME_NUM     521\n",
       " STUB_LABEL        521\n",
       " STUB_LABEL_NUM    521\n",
       " YEAR              521\n",
       " YEAR_NUM          521\n",
       " AGE               521\n",
       " AGE_NUM           521\n",
       " ESTIMATE          370\n",
       " FLAG              151\n",
       " dtype: int64,\n",
       " INDICATOR         648\n",
       " UNIT              648\n",
       " UNIT_NUM          648\n",
       " STUB_NAME         648\n",
       " STUB_NAME_NUM     648\n",
       " STUB_LABEL        648\n",
       " STUB_LABEL_NUM    648\n",
       " YEAR              648\n",
       " YEAR_NUM          648\n",
       " AGE               648\n",
       " AGE_NUM           648\n",
       " ESTIMATE          469\n",
       " FLAG              179\n",
       " dtype: int64)"
      ]
     },
     "execution_count": 116,
     "metadata": {},
     "output_type": "execute_result"
    }
   ],
   "source": [
    "black_menvwomen(suicide_data)"
   ]
  },
  {
   "cell_type": "markdown",
   "metadata": {},
   "source": [
    "## Data set 2 Question 1"
   ]
  },
  {
   "cell_type": "markdown",
   "metadata": {},
   "source": [
    "### Is suffering from a heart attack more prevalent in the group of people that live in urban areas, or the group of people that smoke?"
   ]
  },
  {
   "cell_type": "markdown",
   "metadata": {},
   "source": [
    "### Pseudocode:\n",
    "1. Separate the data into two data frames; one that contains all the individuals who smoke and one that contains all the individuals living in urban areas\n",
    "2. Find the number of individuals with lung cancer in each data frame"
   ]
  },
  {
   "cell_type": "markdown",
   "metadata": {},
   "source": [
    "### Single line code"
   ]
  },
  {
   "cell_type": "code",
   "execution_count": 168,
   "metadata": {},
   "outputs": [
    {
     "data": {
      "text/html": [
       "<div>\n",
       "<style scoped>\n",
       "    .dataframe tbody tr th:only-of-type {\n",
       "        vertical-align: middle;\n",
       "    }\n",
       "\n",
       "    .dataframe tbody tr th {\n",
       "        vertical-align: top;\n",
       "    }\n",
       "\n",
       "    .dataframe thead th {\n",
       "        text-align: right;\n",
       "    }\n",
       "</style>\n",
       "<table border=\"1\" class=\"dataframe\">\n",
       "  <thead>\n",
       "    <tr style=\"text-align: right;\">\n",
       "      <th></th>\n",
       "      <th>Age</th>\n",
       "      <th>Gender</th>\n",
       "      <th>Region</th>\n",
       "      <th>Smoking_History</th>\n",
       "      <th>Diabetes_History</th>\n",
       "      <th>Hypertension_History</th>\n",
       "      <th>Cholesterol_Level</th>\n",
       "      <th>Physical_Activity</th>\n",
       "      <th>Diet_Quality</th>\n",
       "      <th>Alcohol_Consumption</th>\n",
       "      <th>...</th>\n",
       "      <th>Extra_Column_6</th>\n",
       "      <th>Extra_Column_7</th>\n",
       "      <th>Extra_Column_8</th>\n",
       "      <th>Extra_Column_9</th>\n",
       "      <th>Extra_Column_10</th>\n",
       "      <th>Extra_Column_11</th>\n",
       "      <th>Extra_Column_12</th>\n",
       "      <th>Extra_Column_13</th>\n",
       "      <th>Extra_Column_14</th>\n",
       "      <th>Extra_Column_15</th>\n",
       "    </tr>\n",
       "  </thead>\n",
       "  <tbody>\n",
       "    <tr>\n",
       "      <th>0</th>\n",
       "      <td>56</td>\n",
       "      <td>Male</td>\n",
       "      <td>Urban</td>\n",
       "      <td>Yes</td>\n",
       "      <td>No</td>\n",
       "      <td>No</td>\n",
       "      <td>186.400209</td>\n",
       "      <td>Moderate</td>\n",
       "      <td>Poor</td>\n",
       "      <td>Low</td>\n",
       "      <td>...</td>\n",
       "      <td>0.007901</td>\n",
       "      <td>0.794583</td>\n",
       "      <td>0.290779</td>\n",
       "      <td>0.497193</td>\n",
       "      <td>0.521995</td>\n",
       "      <td>0.799657</td>\n",
       "      <td>0.722398</td>\n",
       "      <td>0.148739</td>\n",
       "      <td>0.834010</td>\n",
       "      <td>0.061632</td>\n",
       "    </tr>\n",
       "    <tr>\n",
       "      <th>1</th>\n",
       "      <td>69</td>\n",
       "      <td>Male</td>\n",
       "      <td>Urban</td>\n",
       "      <td>No</td>\n",
       "      <td>No</td>\n",
       "      <td>No</td>\n",
       "      <td>185.136747</td>\n",
       "      <td>Low</td>\n",
       "      <td>Good</td>\n",
       "      <td>Low</td>\n",
       "      <td>...</td>\n",
       "      <td>0.083933</td>\n",
       "      <td>0.688951</td>\n",
       "      <td>0.830164</td>\n",
       "      <td>0.634490</td>\n",
       "      <td>0.302043</td>\n",
       "      <td>0.043683</td>\n",
       "      <td>0.451668</td>\n",
       "      <td>0.878671</td>\n",
       "      <td>0.535602</td>\n",
       "      <td>0.617825</td>\n",
       "    </tr>\n",
       "    <tr>\n",
       "      <th>2</th>\n",
       "      <td>46</td>\n",
       "      <td>Male</td>\n",
       "      <td>Rural</td>\n",
       "      <td>Yes</td>\n",
       "      <td>No</td>\n",
       "      <td>No</td>\n",
       "      <td>210.696611</td>\n",
       "      <td>Low</td>\n",
       "      <td>Average</td>\n",
       "      <td>Moderate</td>\n",
       "      <td>...</td>\n",
       "      <td>0.227205</td>\n",
       "      <td>0.496344</td>\n",
       "      <td>0.752107</td>\n",
       "      <td>0.181501</td>\n",
       "      <td>0.629180</td>\n",
       "      <td>0.018276</td>\n",
       "      <td>0.063227</td>\n",
       "      <td>0.146512</td>\n",
       "      <td>0.997296</td>\n",
       "      <td>0.974455</td>\n",
       "    </tr>\n",
       "    <tr>\n",
       "      <th>3</th>\n",
       "      <td>32</td>\n",
       "      <td>Female</td>\n",
       "      <td>Urban</td>\n",
       "      <td>No</td>\n",
       "      <td>No</td>\n",
       "      <td>No</td>\n",
       "      <td>211.165478</td>\n",
       "      <td>Moderate</td>\n",
       "      <td>Good</td>\n",
       "      <td>High</td>\n",
       "      <td>...</td>\n",
       "      <td>0.403182</td>\n",
       "      <td>0.741409</td>\n",
       "      <td>0.223968</td>\n",
       "      <td>0.329314</td>\n",
       "      <td>0.143191</td>\n",
       "      <td>0.907781</td>\n",
       "      <td>0.542322</td>\n",
       "      <td>0.922461</td>\n",
       "      <td>0.626217</td>\n",
       "      <td>0.228606</td>\n",
       "    </tr>\n",
       "    <tr>\n",
       "      <th>4</th>\n",
       "      <td>60</td>\n",
       "      <td>Female</td>\n",
       "      <td>Rural</td>\n",
       "      <td>No</td>\n",
       "      <td>No</td>\n",
       "      <td>No</td>\n",
       "      <td>223.814253</td>\n",
       "      <td>High</td>\n",
       "      <td>Good</td>\n",
       "      <td>High</td>\n",
       "      <td>...</td>\n",
       "      <td>0.689787</td>\n",
       "      <td>0.904574</td>\n",
       "      <td>0.757098</td>\n",
       "      <td>0.337761</td>\n",
       "      <td>0.362375</td>\n",
       "      <td>0.728552</td>\n",
       "      <td>0.176699</td>\n",
       "      <td>0.484749</td>\n",
       "      <td>0.312091</td>\n",
       "      <td>0.452809</td>\n",
       "    </tr>\n",
       "  </tbody>\n",
       "</table>\n",
       "<p>5 rows × 32 columns</p>\n",
       "</div>"
      ],
      "text/plain": [
       "   Age  Gender Region Smoking_History Diabetes_History Hypertension_History  \\\n",
       "0   56    Male  Urban             Yes               No                   No   \n",
       "1   69    Male  Urban              No               No                   No   \n",
       "2   46    Male  Rural             Yes               No                   No   \n",
       "3   32  Female  Urban              No               No                   No   \n",
       "4   60  Female  Rural              No               No                   No   \n",
       "\n",
       "   Cholesterol_Level Physical_Activity Diet_Quality Alcohol_Consumption  ...  \\\n",
       "0         186.400209          Moderate         Poor                 Low  ...   \n",
       "1         185.136747               Low         Good                 Low  ...   \n",
       "2         210.696611               Low      Average            Moderate  ...   \n",
       "3         211.165478          Moderate         Good                High  ...   \n",
       "4         223.814253              High         Good                High  ...   \n",
       "\n",
       "   Extra_Column_6  Extra_Column_7  Extra_Column_8  Extra_Column_9  \\\n",
       "0        0.007901        0.794583        0.290779        0.497193   \n",
       "1        0.083933        0.688951        0.830164        0.634490   \n",
       "2        0.227205        0.496344        0.752107        0.181501   \n",
       "3        0.403182        0.741409        0.223968        0.329314   \n",
       "4        0.689787        0.904574        0.757098        0.337761   \n",
       "\n",
       "   Extra_Column_10 Extra_Column_11 Extra_Column_12  Extra_Column_13  \\\n",
       "0         0.521995        0.799657        0.722398         0.148739   \n",
       "1         0.302043        0.043683        0.451668         0.878671   \n",
       "2         0.629180        0.018276        0.063227         0.146512   \n",
       "3         0.143191        0.907781        0.542322         0.922461   \n",
       "4         0.362375        0.728552        0.176699         0.484749   \n",
       "\n",
       "   Extra_Column_14  Extra_Column_15  \n",
       "0         0.834010         0.061632  \n",
       "1         0.535602         0.617825  \n",
       "2         0.997296         0.974455  \n",
       "3         0.626217         0.228606  \n",
       "4         0.312091         0.452809  \n",
       "\n",
       "[5 rows x 32 columns]"
      ]
     },
     "execution_count": 168,
     "metadata": {},
     "output_type": "execute_result"
    }
   ],
   "source": [
    "heartattack_data = pd.read_csv(\"/workspaces/DS-3021/random datasets/japan_heart_attack_dataset.csv\")\n",
    "heartattack_data.head()"
   ]
  },
  {
   "cell_type": "code",
   "execution_count": 169,
   "metadata": {},
   "outputs": [],
   "source": [
    "living1 = heartattack_data.groupby(['Region']).size()\n",
    "smoking1 = heartattack_data.groupby(['Smoking_History']).size()\n",
    "\n",
    "living_ha = pd.DataFrame\n",
    "living_ha = heartattack_data.groupby(['Heart_Attack_Occurrence', 'Region']).size()\n",
    "\n",
    "smoking_ha = pd.DataFrame\n",
    "smoking_ha = heartattack_data.groupby(['Heart_Attack_Occurrence', 'Smoking_History']).size()\n",
    "\n"
   ]
  },
  {
   "cell_type": "code",
   "execution_count": 163,
   "metadata": {},
   "outputs": [
    {
     "name": "stdout",
     "output_type": "stream",
     "text": [
      "Heart_Attack_Occurrence  Region\n",
      "No                       Rural      8055\n",
      "                         Urban     18981\n",
      "Yes                      Rural       884\n",
      "                         Urban      2080\n",
      "dtype: int64\n"
     ]
    }
   ],
   "source": [
    "print(living_ha)"
   ]
  },
  {
   "cell_type": "code",
   "execution_count": 164,
   "metadata": {},
   "outputs": [
    {
     "name": "stdout",
     "output_type": "stream",
     "text": [
      "Heart_Attack_Occurrence  Smoking_History\n",
      "No                       No                 18957\n",
      "                         Yes                 8079\n",
      "Yes                      No                  2046\n",
      "                         Yes                  918\n",
      "dtype: int64\n"
     ]
    }
   ],
   "source": [
    "print(smoking_ha)"
   ]
  },
  {
   "cell_type": "markdown",
   "metadata": {},
   "source": [
    "### Function"
   ]
  },
  {
   "cell_type": "code",
   "execution_count": 170,
   "metadata": {},
   "outputs": [],
   "source": [
    "def smokingvliving(x):\n",
    "    living1 = heartattack_data.groupby(['Region']).size()\n",
    "    smoking1 = heartattack_data.groupby(['Smoking_History']).size()\n",
    "\n",
    "    living_ha = pd.DataFrame\n",
    "    living_ha = heartattack_data.groupby(['Heart_Attack_Occurrence', 'Region']).size()\n",
    "\n",
    "    smoking_ha = pd.DataFrame\n",
    "    smoking_ha = heartattack_data.groupby(['Heart_Attack_Occurrence', 'Smoking_History']).size()\n",
    "    return(living_ha, smoking_ha)"
   ]
  },
  {
   "cell_type": "code",
   "execution_count": 171,
   "metadata": {},
   "outputs": [
    {
     "data": {
      "text/plain": [
       "(Heart_Attack_Occurrence  Region\n",
       " No                       Rural      8055\n",
       "                          Urban     18981\n",
       " Yes                      Rural       884\n",
       "                          Urban      2080\n",
       " dtype: int64,\n",
       " Heart_Attack_Occurrence  Smoking_History\n",
       " No                       No                 18957\n",
       "                          Yes                 8079\n",
       " Yes                      No                  2046\n",
       "                          Yes                  918\n",
       " dtype: int64)"
      ]
     },
     "execution_count": 171,
     "metadata": {},
     "output_type": "execute_result"
    }
   ],
   "source": [
    "smokingvliving(heartattack_data)"
   ]
  },
  {
   "cell_type": "markdown",
   "metadata": {},
   "source": [
    "## Data set 2, Question 2"
   ]
  },
  {
   "cell_type": "markdown",
   "metadata": {},
   "source": [
    "### What is the average cholesterol and heart rate for those who have suffered from heart attacks?"
   ]
  },
  {
   "cell_type": "markdown",
   "metadata": {},
   "source": [
    "### Pseudocode:\n",
    "1. Group the data by heart attack occurrence\n",
    "2. Find the mean BPM and cholesterol level for those in both groups\n",
    "3. Put the found values in a clear data frame"
   ]
  },
  {
   "cell_type": "markdown",
   "metadata": {},
   "source": [
    "### Single line code"
   ]
  },
  {
   "cell_type": "code",
   "execution_count": 185,
   "metadata": {},
   "outputs": [
    {
     "data": {
      "text/html": [
       "<div>\n",
       "<style scoped>\n",
       "    .dataframe tbody tr th:only-of-type {\n",
       "        vertical-align: middle;\n",
       "    }\n",
       "\n",
       "    .dataframe tbody tr th {\n",
       "        vertical-align: top;\n",
       "    }\n",
       "\n",
       "    .dataframe thead th {\n",
       "        text-align: right;\n",
       "    }\n",
       "</style>\n",
       "<table border=\"1\" class=\"dataframe\">\n",
       "  <thead>\n",
       "    <tr style=\"text-align: right;\">\n",
       "      <th></th>\n",
       "      <th>chol_mean</th>\n",
       "      <th>avg_bpm</th>\n",
       "    </tr>\n",
       "    <tr>\n",
       "      <th>Heart_Attack_Occurrence</th>\n",
       "      <th></th>\n",
       "      <th></th>\n",
       "    </tr>\n",
       "  </thead>\n",
       "  <tbody>\n",
       "    <tr>\n",
       "      <th>No</th>\n",
       "      <td>199.911267</td>\n",
       "      <td>69.959120</td>\n",
       "    </tr>\n",
       "    <tr>\n",
       "      <th>Yes</th>\n",
       "      <td>199.794716</td>\n",
       "      <td>70.143216</td>\n",
       "    </tr>\n",
       "  </tbody>\n",
       "</table>\n",
       "</div>"
      ],
      "text/plain": [
       "                          chol_mean    avg_bpm\n",
       "Heart_Attack_Occurrence                       \n",
       "No                       199.911267  69.959120\n",
       "Yes                      199.794716  70.143216"
      ]
     },
     "execution_count": 185,
     "metadata": {},
     "output_type": "execute_result"
    }
   ],
   "source": [
    "data = pd.DataFrame()\n",
    "data = heartattack_data.groupby(['Heart_Attack_Occurrence'])\n",
    "\n",
    "\n",
    "chol_mean = data.Cholesterol_Level.mean()\n",
    "avg_bpm = data.Heart_Rate.mean()\n",
    "\n",
    "chol_and_heart = pd.DataFrame()\n",
    "chol_and_heart = chol_and_heart.assign(chol_mean=chol_mean, \n",
    "                               avg_bpm=avg_bpm)\n",
    "\n",
    "chol_and_heart.head()"
   ]
  },
  {
   "cell_type": "markdown",
   "metadata": {},
   "source": [
    "### Function"
   ]
  },
  {
   "cell_type": "code",
   "execution_count": 186,
   "metadata": {},
   "outputs": [],
   "source": [
    "def avg_chol_bpm(x):\n",
    "    data = heartattack_data.groupby(['Heart_Attack_Occurrence'])\n",
    "    chol_mean = data.Cholesterol_Level.mean()\n",
    "    avg_bpm = data.Heart_Rate.mean()\n",
    "    chol_and_heart = pd.DataFrame()\n",
    "    chol_and_heart = chol_and_heart.assign(chol_mean=chol_mean, \n",
    "                               avg_bpm=avg_bpm)\n",
    "    return(chol_and_heart)\n"
   ]
  },
  {
   "cell_type": "code",
   "execution_count": 187,
   "metadata": {},
   "outputs": [
    {
     "data": {
      "text/html": [
       "<div>\n",
       "<style scoped>\n",
       "    .dataframe tbody tr th:only-of-type {\n",
       "        vertical-align: middle;\n",
       "    }\n",
       "\n",
       "    .dataframe tbody tr th {\n",
       "        vertical-align: top;\n",
       "    }\n",
       "\n",
       "    .dataframe thead th {\n",
       "        text-align: right;\n",
       "    }\n",
       "</style>\n",
       "<table border=\"1\" class=\"dataframe\">\n",
       "  <thead>\n",
       "    <tr style=\"text-align: right;\">\n",
       "      <th></th>\n",
       "      <th>chol_mean</th>\n",
       "      <th>avg_bpm</th>\n",
       "    </tr>\n",
       "    <tr>\n",
       "      <th>Heart_Attack_Occurrence</th>\n",
       "      <th></th>\n",
       "      <th></th>\n",
       "    </tr>\n",
       "  </thead>\n",
       "  <tbody>\n",
       "    <tr>\n",
       "      <th>No</th>\n",
       "      <td>199.911267</td>\n",
       "      <td>69.959120</td>\n",
       "    </tr>\n",
       "    <tr>\n",
       "      <th>Yes</th>\n",
       "      <td>199.794716</td>\n",
       "      <td>70.143216</td>\n",
       "    </tr>\n",
       "  </tbody>\n",
       "</table>\n",
       "</div>"
      ],
      "text/plain": [
       "                          chol_mean    avg_bpm\n",
       "Heart_Attack_Occurrence                       \n",
       "No                       199.911267  69.959120\n",
       "Yes                      199.794716  70.143216"
      ]
     },
     "execution_count": 187,
     "metadata": {},
     "output_type": "execute_result"
    }
   ],
   "source": [
    "avg_chol_bpm(heartattack_data)"
   ]
  }
 ],
 "metadata": {
  "kernelspec": {
   "display_name": "Python 3",
   "language": "python",
   "name": "python3"
  },
  "language_info": {
   "codemirror_mode": {
    "name": "ipython",
    "version": 3
   },
   "file_extension": ".py",
   "mimetype": "text/x-python",
   "name": "python",
   "nbconvert_exporter": "python",
   "pygments_lexer": "ipython3",
   "version": "3.12.8"
  }
 },
 "nbformat": 4,
 "nbformat_minor": 2
}
